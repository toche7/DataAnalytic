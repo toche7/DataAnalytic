{
  "cells": [
    {
      "cell_type": "markdown",
      "metadata": {
        "id": "view-in-github",
        "colab_type": "text"
      },
      "source": [
        "<a href=\"https://colab.research.google.com/github/toche7/DataAnalytic/blob/main/Lab8_Central_Limit_Theorem_.ipynb\" target=\"_parent\"><img src=\"https://colab.research.google.com/assets/colab-badge.svg\" alt=\"Open In Colab\"/></a>"
      ]
    },
    {
      "cell_type": "markdown",
      "metadata": {
        "collapsed": false,
        "id": "dldonj6_qLTf"
      },
      "source": [
        "# Lab 8: Central Limit Theorem"
      ]
    },
    {
      "cell_type": "markdown",
      "metadata": {
        "collapsed": false,
        "id": "MnGgttRLqLTh"
      },
      "source": [
        "Central Limit Theorem (CLT) หรือทฤษฎีกฎกลางของการกระจาย เป็นหลักการทางสถิติที่มีความสำคัญอย่างมาก ทฤษฎีนี้บอกว่า หากคุณมีตัวอย่างขนาดใหญ่ที่มาจากการสุ่มตามการกระจายใด ๆ (ไม่จำเป็นต้องเป็นการกระจายปกติ) แล้วการกระจายของค่าเฉลี่ยของตัวอย่างนั้นจะมีการกระจายปกติหรือแบบค่าเฉลี่ย โดยไม่ว่าการกระจายต้นฉบับจะเป็นอย่างไรก็ตาม\n",
        "\n",
        "นั่นหมายความว่า CLT ระบุว่าในกรณีที่คุณมีตัวอย่างที่มีขนาดใหญ่พอ (มากกว่า 30 จะเป็นค่ามาตรฐานที่นิยมใช้) และมาจากการสุ่มจากการกระจายใด ๆ ก็ตาม ค่าเฉลี่ยของตัวอย่างนั้นจะมีการกระจายปกติ และการกระจายนี้จะมีค่าเฉลี่ยเท่ากับค่าเฉลี่ยของการกระจายต้นฉบับ และค่าส่วนเบี่ยงเบนมาตรฐานที่ลดลงเมื่อขนาดของตัวอย่างมากขึ้น\n",
        "\n",
        "CLT มีความสำคัญในหลายด้าน:\n",
        "\n",
        "1. **การสร้างความเชื่อมั่น:** การที่ CLT ระบุว่าการกระจายของค่าเฉลี่ยจะเป็นแบบปกติทำให้เราสามารถใช้ค่าเฉลี่ยและการกระจายปกติเพื่อสร้างความเชื่อมั่นในการประมาณค่าของค่าพารามิเตอร์หรือประสิทธิภาพของกระบวนการใด ๆ ที่ใช้ค่าเฉลี่ย\n",
        "\n",
        "2. **การสถิติที่สำคัญ:** CLT ทำให้การกระจายปกติกลายเป็นหนึ่งในการกระจายที่สถิติทางสถิติสำคัญที่มีผลกระทบในการวิเคราะห์ข้อมูลและการตัดสินใจ\n",
        "\n",
        "3. **การประมาณการ:** CLT ทำให้เราสามารถใช้การกระจายปกติเพื่อประมาณค่าสถิติและค่าพารามิเตอร์ในสถานการณ์จริง\n",
        "\n",
        "4. **การใช้ในการทดลอง:** CLT เป็นหลักการที่สำคัญในการออกแบบการทดลองและการทำนายผลการทดลอง\n",
        "\n",
        "โดยทั่วไป CLT ระบุว่าค่าเฉลี่ยของตัวอย่างที่มีขนาดใหญ่มีการกระจายปกติและมีค่าเฉลี่ยและความแปรปรวนที่สามารถคำนวณได้ด้วยตัวตัวอย่างเล็ก ๆ น้อย ๆ หรือใช้การประมาณค่า ดังนั้น CLT มีความสำคัญในการทำสถิติและวิเคราะห์ข้อมูลที่มาจากการสุ่มในแบบต่าง ๆ และช่วยให้เราเข้าใจและใช้ข้อมูลสุ่มในสถิติอย่างมีประสิทธิภาพ"
      ]
    },
    {
      "cell_type": "code",
      "execution_count": null,
      "metadata": {
        "id": "6TRylPphEImq"
      },
      "outputs": [],
      "source": [
        "import numpy as np\n",
        "import matplotlib.pyplot as plt\n",
        "\n",
        "# number of sample\n",
        "num = [1, 10, 50, 100]\n",
        "# list of sample means\n",
        "bin = 10\n"
      ]
    },
    {
      "cell_type": "code",
      "execution_count": null,
      "metadata": {
        "id": "8Erkt1J_MzSt"
      },
      "outputs": [],
      "source": [
        "low = 1\n",
        "high = 5\n",
        "n = 1 # Number of sample per sampling\n",
        "N = 1800 # Number sampling\n",
        "data = np.random.uniform(low, high, size=(N,n))\n",
        "avgSample = data.mean(axis = 1)\n",
        "plt.hist(avgSample,bin, ec = 'black')\n",
        "plt.xlabel(\"x\")\n",
        "plt.ylabel(\"frequency\")\n"
      ]
    },
    {
      "cell_type": "code",
      "execution_count": null,
      "metadata": {
        "id": "W90TiVcONGM1"
      },
      "outputs": [],
      "source": [
        "low = 1\n",
        "high = 5\n",
        "n = 5 # Number of sample per sampling\n",
        "N = 60 # Number sampling\n",
        "data = np.random.uniform(low, high, size=(N,n))\n",
        "avgSample = data.mean(axis = 1)\n",
        "plt.hist(avgSample,bin, ec = 'black')\n",
        "plt.xlabel(\"x\")\n",
        "plt.ylabel(\"frequency\")\n",
        "plt.title(\"n = %d, N = %d\" %(n,N))"
      ]
    },
    {
      "cell_type": "code",
      "execution_count": null,
      "metadata": {
        "id": "QWi9_TCqVkeN"
      },
      "outputs": [],
      "source": [
        "low = 1\n",
        "high = 5\n",
        "n = 30 # Number of sample per sampling\n",
        "N = 60 # Number sampling\n",
        "data = np.random.uniform(low, high, size=(N,n))\n",
        "avgSample = data.mean(axis = 1)\n",
        "plt.hist(avgSample,bin, ec = 'black')\n",
        "plt.xlabel(\"x\")\n",
        "plt.ylabel(\"frequency\")\n",
        "plt.title(\"n = %d, N = %d\" %(n,N))"
      ]
    },
    {
      "cell_type": "markdown",
      "metadata": {
        "collapsed": false,
        "id": "Kjo7h2GPNR8t"
      },
      "source": []
    },
    {
      "cell_type": "code",
      "execution_count": null,
      "metadata": {
        "id": "5QCRyIjXNS0d"
      },
      "outputs": [],
      "source": [
        "avgSampleList = []\n",
        "\n",
        "for j in num:\n",
        "  data = np.random.uniform(low=0,high = 10, size=(1000, j))\n",
        "  avgSample = data.mean(axis = 1)\n",
        "  avgSampleList.append(avgSample)\n",
        "\n",
        "fig, ax = plt.subplots(2, 2, figsize =(8, 8))\n",
        "k = 0\n",
        "for i in range(0, 2):\n",
        "    for j in range(0, 2):\n",
        "        # Histogram for each x stored in means\n",
        "        ax[i, j].hist(avgSampleList[k], bin, density = True, ec = 'black')\n",
        "        ax[i, j].set_title(label = num[k])\n",
        "        ax[i, j].set_xlim(1,10)\n",
        "\n",
        "        k = k + 1\n",
        "plt.show()"
      ]
    },
    {
      "cell_type": "code",
      "execution_count": null,
      "metadata": {
        "id": "UjsKX27RSR1c"
      },
      "outputs": [],
      "source": [
        "\n",
        "n = 1 # Number of sample per sampling\n",
        "N = 1000 # Number sampling\n",
        "\n",
        "data = np.random.exponential(scale = 5, size=(N,n))\n",
        "avgSample = data.mean(axis = 1)\n",
        "plt.hist(avgSample,bin, ec = 'black')\n",
        "plt.xlabel(\"x\")\n",
        "plt.ylabel(\"frequency\")\n"
      ]
    },
    {
      "cell_type": "code",
      "execution_count": null,
      "metadata": {
        "id": "onuJz4RQSLHf"
      },
      "outputs": [],
      "source": [
        "avgSampleList = []\n",
        "\n",
        "for j in num:\n",
        "  data = np.random.exponential(scale = 5, size=(N,j))\n",
        "  avgSample = data.mean(axis = 1)\n",
        "  avgSampleList.append(avgSample)\n",
        "\n",
        "fig, ax = plt.subplots(2, 2, figsize =(8, 8))\n",
        "k = 0\n",
        "for i in range(0, 2):\n",
        "    for j in range(0, 2):\n",
        "        # Histogram for each x stored in means\n",
        "        ax[i, j].hist(avgSampleList[k], bin, density = True, ec = 'black')\n",
        "        ax[i, j].set_title(label = num[k])\n",
        "        ax[i, j].set_xlim(1,10)\n",
        "        k = k + 1\n",
        "plt.show()"
      ]
    },
    {
      "cell_type": "code",
      "execution_count": null,
      "metadata": {
        "id": "ZfX4K3oOT9eN"
      },
      "outputs": [],
      "source": [
        "\n",
        "n = 1 # Number of sample per sampling\n",
        "N = 1000 # Number sampling\n",
        "\n",
        "data = np.random.normal(5,2, size = (N,n))\n",
        "avgSample = data.mean(axis = 1)\n",
        "plt.hist(avgSample,bin, ec = 'black')\n",
        "plt.xlabel(\"x\")\n",
        "plt.ylabel(\"frequency\")"
      ]
    },
    {
      "cell_type": "code",
      "execution_count": null,
      "metadata": {
        "id": "wpGxSp1rUoIu"
      },
      "outputs": [],
      "source": [
        "avgSampleList = []\n",
        "\n",
        "for j in num:\n",
        "  data = np.random.normal(5,2, size = (N,j))\n",
        "  avgSample = data.mean(axis = 1)\n",
        "  avgSampleList.append(avgSample)\n",
        "\n",
        "fig, ax = plt.subplots(2, 2, figsize =(8, 8))\n",
        "k = 0\n",
        "for i in range(0, 2):\n",
        "    for j in range(0, 2):\n",
        "        # Histogram for each x stored in means\n",
        "        ax[i, j].hist(avgSampleList[k], bin, density = True, ec = 'black')\n",
        "        ax[i, j].set_title(label = num[k])\n",
        "        ax[i, j].set_xlim(0,10)\n",
        "        k = k + 1\n",
        "plt.show()"
      ]
    }
  ],
  "metadata": {
    "colab": {
      "provenance": [],
      "include_colab_link": true
    },
    "kernelspec": {
      "argv": [
        "/usr/bin/python3",
        "-m",
        "ipykernel",
        "--HistoryManager.enabled=False",
        "--matplotlib=inline",
        "-c",
        "%config InlineBackend.figure_formats = set(['retina'])\nimport matplotlib; matplotlib.rcParams['figure.figsize'] = (12, 7)",
        "-f",
        "{connection_file}"
      ],
      "display_name": "Python 3 (system-wide)",
      "env": {},
      "language": "python",
      "metadata": {
        "cocalc": {
          "description": "Python 3 programming language",
          "priority": 100,
          "url": "https://www.python.org/"
        }
      },
      "name": "python3",
      "resource_dir": "/ext/jupyter/kernels/python3"
    },
    "language_info": {
      "name": "python"
    },
    "nbgrader": {
      "__altered": false,
      "__hash": -335098374,
      "_root": {
        "entries": [
          [
            "cocalc_minimal_stubs",
            false
          ]
        ],
        "ownerID": {}
      },
      "cocalc_minimal_stubs": false,
      "size": 1
    }
  },
  "nbformat": 4,
  "nbformat_minor": 0
}