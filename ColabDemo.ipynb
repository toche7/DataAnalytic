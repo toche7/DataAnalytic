{
  "nbformat": 4,
  "nbformat_minor": 0,
  "metadata": {
    "colab": {
      "provenance": [],
      "authorship_tag": "ABX9TyPM+tYIj7HJRZmmlbBSMlx1",
      "include_colab_link": true
    },
    "kernelspec": {
      "name": "python3",
      "display_name": "Python 3"
    },
    "language_info": {
      "name": "python"
    }
  },
  "cells": [
    {
      "cell_type": "markdown",
      "metadata": {
        "id": "view-in-github",
        "colab_type": "text"
      },
      "source": [
        "<a href=\"https://colab.research.google.com/github/toche7/DataAnalytic/blob/main/ColabDemo.ipynb\" target=\"_parent\"><img src=\"https://colab.research.google.com/assets/colab-badge.svg\" alt=\"Open In Colab\"/></a>"
      ]
    },
    {
      "cell_type": "markdown",
      "source": [
        "# Introduction to Colab"
      ],
      "metadata": {
        "id": "Ao8ytrVG7LLk"
      }
    },
    {
      "cell_type": "markdown",
      "source": [
        "## Hello Python"
      ],
      "metadata": {
        "id": "l9xUzPxT_CRe"
      }
    },
    {
      "cell_type": "code",
      "source": [
        "print('Hello Python')"
      ],
      "metadata": {
        "id": "If_6t3ty_Alc"
      },
      "execution_count": null,
      "outputs": []
    },
    {
      "cell_type": "code",
      "source": [
        "a = 10\n",
        "b = 20\n",
        "a*b"
      ],
      "metadata": {
        "id": "XXSZv4457KhW"
      },
      "execution_count": null,
      "outputs": []
    },
    {
      "cell_type": "code",
      "execution_count": null,
      "metadata": {
        "id": "0CPkbyPX6csA"
      },
      "outputs": [],
      "source": [
        "a"
      ]
    },
    {
      "cell_type": "code",
      "source": [
        "b"
      ],
      "metadata": {
        "id": "APayW8287ZfX"
      },
      "execution_count": null,
      "outputs": []
    },
    {
      "cell_type": "markdown",
      "source": [
        "## List\n"
      ],
      "metadata": {
        "id": "27SlLNVS77Ih"
      }
    },
    {
      "cell_type": "code",
      "source": [
        "x = list(range(1,20))"
      ],
      "metadata": {
        "id": "Y0Y0sfpR7uTq"
      },
      "execution_count": null,
      "outputs": []
    },
    {
      "cell_type": "code",
      "source": [
        "x"
      ],
      "metadata": {
        "id": "1aI-r3oH8XIw"
      },
      "execution_count": null,
      "outputs": []
    },
    {
      "cell_type": "code",
      "source": [
        "y = list(range(21,40))\n",
        "y"
      ],
      "metadata": {
        "id": "GSE0e68b8X2D"
      },
      "execution_count": null,
      "outputs": []
    },
    {
      "cell_type": "code",
      "source": [
        "x + y"
      ],
      "metadata": {
        "id": "0FWQvlS98gSB"
      },
      "execution_count": null,
      "outputs": []
    },
    {
      "cell_type": "code",
      "source": [],
      "metadata": {
        "id": "JiapHPYA8jM7"
      },
      "execution_count": null,
      "outputs": []
    },
    {
      "cell_type": "markdown",
      "source": [
        "## Numpy"
      ],
      "metadata": {
        "id": "hmkV-5Ig8ly5"
      }
    },
    {
      "cell_type": "code",
      "source": [
        "import numpy as np"
      ],
      "metadata": {
        "id": "p4QCVkmn8tgL"
      },
      "execution_count": null,
      "outputs": []
    },
    {
      "cell_type": "code",
      "source": [
        "numX = np.array(x)\n",
        "numY = np.array(y)"
      ],
      "metadata": {
        "id": "AhkHsf5D8lCt"
      },
      "execution_count": null,
      "outputs": []
    },
    {
      "cell_type": "code",
      "source": [
        "numX"
      ],
      "metadata": {
        "id": "VPtTEHrI8svp"
      },
      "execution_count": null,
      "outputs": []
    },
    {
      "cell_type": "code",
      "source": [
        "numY"
      ],
      "metadata": {
        "id": "70rPmPbJ8wrw"
      },
      "execution_count": null,
      "outputs": []
    },
    {
      "cell_type": "code",
      "source": [
        "numX + numY"
      ],
      "metadata": {
        "id": "FL4ixK4n8xnP"
      },
      "execution_count": null,
      "outputs": []
    },
    {
      "cell_type": "code",
      "source": [
        "numX.shape"
      ],
      "metadata": {
        "id": "OPEAwQog8zlh"
      },
      "execution_count": null,
      "outputs": []
    },
    {
      "cell_type": "code",
      "source": [
        "numY.shape"
      ],
      "metadata": {
        "id": "qWGgdc1r9CuP"
      },
      "execution_count": null,
      "outputs": []
    },
    {
      "cell_type": "code",
      "source": [
        "z = np.sin(numX*np.pi/(10))\n",
        "z"
      ],
      "metadata": {
        "id": "pKa90sYl9FfS"
      },
      "execution_count": null,
      "outputs": []
    },
    {
      "cell_type": "code",
      "source": [
        "import matplotlib.pyplot as plt\n",
        "plt.plot(numX,z)"
      ],
      "metadata": {
        "id": "h-ksE0lS9Z9B"
      },
      "execution_count": null,
      "outputs": []
    },
    {
      "cell_type": "markdown",
      "source": [
        "## AI with Python"
      ],
      "metadata": {
        "id": "jSk4aNKw-FSJ"
      }
    },
    {
      "cell_type": "code",
      "source": [
        "# prompt: plot sine wave\n",
        "\n",
        "# Create a sine wave\n",
        "import numpy as np\n",
        "import matplotlib.pyplot as plt\n",
        "\n",
        "# Define the range of x values\n",
        "x = np.linspace(0, 2 * np.pi, 100)\n",
        "\n",
        "# Calculate the corresponding sine values\n",
        "y = np.sin(x)\n",
        "\n",
        "# Plot the sine wave\n",
        "plt.plot(x, y)\n",
        "plt.xlabel('x')\n",
        "plt.ylabel('sin(x)')\n",
        "plt.title('Sine Wave')\n",
        "plt.grid(True)\n",
        "plt.show()"
      ],
      "metadata": {
        "id": "b-y2QAKU-E9X"
      },
      "execution_count": null,
      "outputs": []
    },
    {
      "cell_type": "code",
      "metadata": {
        "id": "20f6d593"
      },
      "source": [
        "# Create a sine wave\n",
        "import numpy as np\n",
        "import matplotlib.pyplot as plt\n",
        "\n",
        "# Define the range of x values\n",
        "x = np.linspace(0, 2 * np.pi, 100)\n",
        "\n",
        "# Calculate the corresponding sine values\n",
        "y = np.sin(x)\n",
        "\n",
        "# Plot the sine wave\n",
        "plt.plot(x, y)\n",
        "plt.xlabel('x')\n",
        "plt.ylabel('sin(x)')\n",
        "plt.title('Sine Wave')\n",
        "plt.grid(True)\n",
        "plt.show()"
      ],
      "execution_count": null,
      "outputs": []
    },
    {
      "cell_type": "code",
      "source": [
        "# create numpy of x which include data form 1 -20\n",
        "x = np.array(range(1,21))\n",
        "\n",
        "# use x as input for sin wave function\n",
        "y = np.sin(x*np.pi/(10))\n",
        "\n",
        "# plot the sin wave\n",
        "plt.plot(x,y)"
      ],
      "metadata": {
        "id": "nvo7n8KD-WSp"
      },
      "execution_count": null,
      "outputs": []
    }
  ]
}