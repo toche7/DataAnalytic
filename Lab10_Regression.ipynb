{
  "cells": [
    {
      "cell_type": "markdown",
      "metadata": {
        "id": "view-in-github",
        "colab_type": "text"
      },
      "source": [
        "<a href=\"https://colab.research.google.com/github/toche7/DataAnalytic/blob/main/Lab10_Regression.ipynb\" target=\"_parent\"><img src=\"https://colab.research.google.com/assets/colab-badge.svg\" alt=\"Open In Colab\"/></a>"
      ]
    },
    {
      "cell_type": "markdown",
      "metadata": {
        "collapsed": false,
        "id": "1615ab"
      },
      "source": [
        "# Lab 10: Linear Model"
      ]
    },
    {
      "cell_type": "markdown",
      "metadata": {
        "collapsed": false,
        "id": "ffa884"
      },
      "source": [
        "โมเดลเชิงเส้น (Linear Model) เป็นรูปแบบทางคณิตศาสตร์ในบริบทของสถิติและการวิเคราะห์การถดถอยที่ใช้ในการอธิบายความสัมพันธ์เชิงเส้นระหว่างตัวแปรตาม (dependent variable) และตัวแปรอิสระ (predictors หรือ features) โมเดลเชิงเส้นมักถูกนำมาใช้ในงานการทำนาย การสืบค้น และการเข้าใจความสัมพันธ์ระหว่างตัวแปรต่าง ๆ นี่คือลักษณะสำคัญของโมเดลเชิงเส้น:\n",
        "\n",
        "1. **ความสัมพันธ์เชิงเส้น**: โมเดลเชิงเส้นสมมติว่าความสัมพันธ์ระหว่างตัวแปรตาม $( y)$ และตัวแปรอิสระ $(x)$ เป็นเชิงเส้น หมายความว่าการเปลี่ยนแปลงในตัวแปรอิสระจะมีผลกระทบคงที่ต่อตัวแปรตาม ความสัมพันธ์เชิงเส้นแสดงดังนี้:\n",
        "\n",
        "   $$y = β₀ + β₁x₁ + β₂x₂ + ... + β_nx_n + ɛ \\tag{1} $$\n",
        "\n",
        "   - $y$ คือตัวแปรตาม (dependent variable)\n",
        "   - $x₁, x₂, ..., x_n$ คือตัวแปรอิสระ (independent variables)\n",
        "   - $β₀, β₁, β₂, ..., β_n$ คือพารามิเตอร์ที่จะประมาณค่า\n",
        "   - $ɛ$ แทนค่าความผิดพลาด (error term) ที่รับผิดชอบต่อความแปรปรวนแบบสุ่มในข้อมูลที่ไม่สามารถอธิบายได้โดยความสัมพันธ์เชิงเส้น\n",
        "\n",
        "หรือเราสามารถจัดรูปใหม่ได้เป็น\n",
        "\n",
        "   $$\\hat{y} = β₀ + β₁x₁ + β₂x₂ + ... + β_nx_n \\tag{2} $$\n",
        "  \n",
        "   - เมื่อ  $\\hat{y} = y -  ɛ$\n",
        "\n",
        "2. **พารามิเตอร์**: พารามิเตอร์ ($β₀, β₁, β₂, ..., β_n$) แทนความชันและค่าตัดเชิงของความสัมพันธ์เชิงเส้น พารามิเตอร์เหล่านี้ถูกประมาณค่าจากข้อมูลและกำหนดขนาดและทิศทางของผลกระทบของแต่ละตัวแปรอิสระต่อตัวแปรตาม\n",
        "\n",
        "3. **การประมาณค่าด้วยวิธีการลดค่าความต่าง**: ในกรณีส่วนใหญ่ โมเดลเชิงเส้นถูกประมาณค่าโดยใช้วิธีการลดค่าความต่างระหว่างค่าที่สังเหตุและค่าที่ทำนายได้ (residuals) วัตถุประสงค์คือหาค่าพารามิเตอร์ที่ลดค่าผลรวมของความต่างระหว่างค่าที่สังเหตุและค่าที่ทำนายได้มากที่สุด\n",
        "\n",
        "4. **สมมติฐาน**: โมเดลเชิงเส้นขึ้นอยู่กับสมมติฐานบางประการ เช่น สมมติว่าความสัมพันธ์ระหว่างตัวแปรตามและตัวแปรอิสระเป็นเชิงเส้น ความแปรปรวนของความผิดพลาดคงที่ (homoscedasticity) และการแจกแจงของความผิดพลาดเป็นปกติ การละเมิดสมมติฐานเหล่านี้อาจมีผลต่อความถูกต้องของโมเดล\n",
        "\n",
        "5. **ความสามารถในการอธิบาย**: โมเดลเชิงเส้นมักเหมาะสำหรับงานที่ต้องการความสามารถในการอธิบายเนื่องจากพารามิเตอร์สามารถอธิบายได้โดยตรง เช่น หาก $β₁$ คือพารามิเตอร์สำหรับตัวแปรทำนายหนึ่ง ๆ มันแทนการเปลี่ยนแปลงในตัวแปรตามสำหรับการเปลี่ยนแปลงหนึ่งหน่วยในตัวแปรนั้น ๆ ขณะคงสถานะตัวแปรอื่น ๆ\n",
        "\n",
        "6. **การประยุกต์ใช้**: โมเดลเชิงเส้นถูกใช้ในหลายสาขา เช่น เศรษฐศาสตร์ การเงิน วิทยาศาสตร์สังคม วิศวกรรม และการเรียนรู้ของเครื่อง โดยใช้สำหรับงานเช่น การถดถอยเชิงเส้น การถดถอยเชิงเส้นหลายตัวแปร การวิเคราะห์ความแปรปรวน (Analysis of Variance) และอื่น ๆ\n",
        "\n",
        "7. **การขยาย**: โมเดลเชิงเส้นสามารถขยายเพื่อรวมการกระทำระหว่างตัวแปร การใช้งานขั้นสูง เช่น การรวมกันของตัวแปร การใช้งานเป็นอย่างอื่นเพื่อจับความสัมพันธ์ที่ซับซ้อนมากขึ้นเมื่อสมมติฐานเชิงเส้นไม่เพียงพอ\n",
        "\n",
        "โดยรวมแล้ว โมเดลเชิงเส้นเสนอกรอบง่ายและสามารถอธิบายความสัมพันธ์ระหว่างตัวแปรได้ในงานการวิเคราะห์สถิติและวิทยาการข้อมูล เป็นเครื่องมือมีค่าในงานการวิเคราะห์สถิติและวิทยาการข้อมูล"
      ]
    },
    {
      "cell_type": "markdown",
      "metadata": {
        "collapsed": false,
        "id": "5be61b"
      },
      "source": [
        "## Simple linear regression"
      ]
    },
    {
      "cell_type": "markdown",
      "metadata": {
        "collapsed": false,
        "id": "b19bd8"
      },
      "source": [
        "เรามีข้อมูลสองชุดค่าที่เรียกว่า $x$ และ $y$ และเราต้องการทดสอบสมมติฐานว่า $y$ เป็นฟังก์ชันเชิงเส้นของ $x$ ในคำอื่นคือ:\n",
        "\n",
        "$$ \\hat{y} = \\beta_0 + \\beta_1x_1 \\tag{3}$$\n",
        "\n",
        "โดยที่ ตัวแปร $\\hat{y}$ คือประมาณตัวแปรตาม (dependent variable) ที่เราพยายามจะอธิบายหรือทำนาย  $\\beta_1$    คือความชันของกราฟ และ $\\beta_0$ คือ ค่าตัดแกน  \n",
        "\n",
        "เราจะใช้โมดูล statsmodels เพื่อ:\n",
        "\n",
        "1. ปรับโมเดลเชิงเส้น โดยใช้วิธีการที่ง่ายที่สุดคือ Ordinary Least Squares (OLS) เพื่อหาค่า $\\beta_1$   และ $\\beta_0$  ที่เหมาะสมในการแสดงความสัมพันธ์ระหว่าง x และ y ในรูปแบบเชิงเส้น\n",
        "\n",
        "2. ทดสอบว่าค่า  $\\beta_1$    ไม่เป็นศูนย์ ซึ่งหมายถึงเราต้องการตรวจสอบว่ามีความสัมพันธ์เชิงเส้นระหว่าง $x$ และ $y$ หรือไม่ ถ้าค่า  $\\beta_1$  ไม่เป็นศูนย์แสดงว่ามีความสัมพันธ์เชิงเส้น\n",
        "\n",
        "นี่คือขั้นตอนที่เราจะใช้ statsmodels เพื่อทำการทดสอบนี้"
      ]
    },
    {
      "cell_type": "code",
      "execution_count": null,
      "metadata": {
        "id": "ef46af"
      },
      "outputs": [],
      "source": [
        "import numpy as np\n",
        "import pandas as pd\n",
        "x = np.linspace(-5, 5, 20)\n",
        "np.random.seed(1)\n",
        "# normal distributed noise\n",
        "y = -5 + 3*x + 4 * np.random.normal(size=x.shape)\n",
        "# Create a data frame containing all the relevant variables\n",
        "df = pd.DataFrame({'x': x, 'y': y})"
      ]
    },
    {
      "cell_type": "code",
      "execution_count": null,
      "metadata": {
        "id": "e204d3"
      },
      "outputs": [],
      "source": [
        "import matplotlib.pyplot as plt\n",
        "fig, ax = plt.subplots()\n",
        "ax.scatter(df.x,df.y)"
      ]
    },
    {
      "cell_type": "markdown",
      "metadata": {
        "collapsed": false,
        "id": "d17e8e"
      },
      "source": [
        "Ordinary Least Squares (OLS) เป็นวิธีการทางสถิติและเศรษฐศาสตร์ที่ใช้ในการประมาณค่าพารามิเตอร์ (coefficients) ของโมเดลการถดถอยเชิงเส้น (linear regression) นี่เป็นหนึ่งในเทคนิคที่มักใช้และแพร่หลายที่สุดสำหรับการฟิตโมเดลเชิงเส้นตามข้อมูลที่สังเหตุได้  OLS จะพยายามหาความสัมพันธ์เชิงเส้นที่เหมาะสมที่สุดระหว่างตัวแปรตาม (dependent variable) และตัวแปรอิสระ (independent variables) โดยการลดค่าผลรวมของความต่างระหว่างค่าที่สังเหตุ (observed) และค่าที่ทำนายได้ (predicted) ให้มีค่าต่ำที่สุด\n",
        "\n",
        "นี่คือส่วนประกอบสำคัญของ Ordinary Least Squares:\n",
        "\n",
        "**โมเดลเชิงเส้น**: OLS สมมติว่าความสัมพันธ์ระหว่างตัวแปรตาม ($Y$) และตัวแปรอิสระ ($X$) สามารถบรรยายด้วยสมการที่ 1\n",
        "\n"
      ]
    },
    {
      "cell_type": "code",
      "execution_count": null,
      "metadata": {
        "id": "34b76d"
      },
      "outputs": [],
      "source": [
        "from statsmodels.formula.api import ols\n",
        "model = ols(\"y ~ x\", df).fit()"
      ]
    },
    {
      "cell_type": "markdown",
      "metadata": {
        "collapsed": false,
        "id": "48bc3c"
      },
      "source": [
        "เมื่อ\n",
        "\n",
        "1. `from statsmodels.formula.api import ols`: บรรทัดนี้นำเข้าฟังก์ชัน `ols` จากโมดูล `statsmodels.formula.api` ซึ่งใช้ในการสร้างโมเดลการถดถอยเชิงเส้น\n",
        "\n",
        "2. `model = ols(\"y ~ x\", data).fit()`: บรรทัดโค้ดนี้สร้างและทำการอัพเดตโมเดลการถดถอยเชิงเส้นบนข้อมูล.\n",
        "\n",
        "   - `\"y ~ x\"`: นี่คือสูตรที่ระบุความสัมพันธ์ระหว่างตัวแปรตาม (`y`) และตัวแปรอิสระ (`x`) ในสูตรนี้ `y` คือตัวแปรตาม และ `x` คือตัวแปรอิสระ สูตรนี้ใช้ในการระบุสมการการถดถอยเชิงเส้น\n",
        "\n",
        "   - `data`: ควรแทนด้วยชุดข้อมูลที่คุณต้องการใช้ในการวิเคราะห์การถดถอย ชุดข้อมูลควรอยู่ในรูปแบบที่ `statsmodels` สามารถทำงานได้ เช่น pandas DataFrame\n",
        "\n",
        "   - `.fit()`: วิธีนี้ทำการอัพเดตโมเดลการถดถอยเชิงเส้นกับข้อมูล โดยประมาณค่าพารามิเตอร์ (ค่าพารามิเตอร์) ของโมเดลโดยใช้วิธี Ordinary Least Squares (OLS)"
      ]
    },
    {
      "cell_type": "code",
      "execution_count": null,
      "metadata": {
        "id": "70407d"
      },
      "outputs": [],
      "source": [
        "print(model.summary())"
      ]
    },
    {
      "cell_type": "markdown",
      "metadata": {
        "collapsed": false,
        "id": "b457b6"
      },
      "source": [
        "\n",
        "ข้อมูลสรุปผลการวิเคราะห์ดังนี้:\n",
        "\n",
        "- R-squared (R²): ค่า R-squared คือ 0.804 หมายถึงโมเดลการถดถอยเชิงเส้นสามารถอธิบายความเปลี่ยนแปลงในตัวแปรตาม (y) ได้ประมาณ 80.4% โดยค่า R-squared สูงแสดงว่าโมเดลมีความสามารถในการอธิบายข้อมูลได้ดี\n",
        "\n",
        "- Adj. R-squared (Adjusted R²): ค่า Adj. R-squared คือ 0.794 หมายถึงความสามารถในการอธิบายข้อมูลที่ถูกปรับแล้วเพื่อคำนึงถึงความซับซ้อนของโมเดล โดยค่านี้ก็ยังสูงอยู่ แสดงว่าโมเดลยังคงมีความสามารถในการอธิบายข้อมูล\n",
        "\n",
        "- F-statistic (F-statistic): ค่า F-statistic คือ 74.03 แสดงถึงการทดสอบสถิติเพื่อตรวจสอบว่าโมเดลการถดถอยเชิงเส้นมีความสำคัญหรือไม่ ค่า F-statistic สูงแสดงว่าโมเดลมีความสำคัญ\n",
        "\n",
        "- Prob (F-statistic): ค่า Prob (F-statistic) คือ 8.56e-08 หรือ 0.0000000856 แสดงถึงค่า p-value ของการทดสอบสถิติ F ค่านี้สุดท้ายแสดงถึงความน่าจะเป็นที่ F-statistic จะมีค่าอย่างน้อยกว่าที่ระดับนัยสำคัญที่ 0.05 ซึ่งแสดงว่าโมเดลมีความสำคัญทางสถิติ\n",
        "\n",
        "- Intercept และ x: ตัวแปร Intercept แทนค่าจุดตัดของเส้นตรง (ค่า y เมื่อ x = 0) ซึ่งมีค่าเป็น -5.5335 และตัวแปร x แทนค่าสัมประสิทธิ์ของ x ในการกระทำต่อตัวแปรตาม y ซึ่งมีค่าเป็น 2.9369. การทดสอบสถิติ (t-statistic) และ p-value สำหรับทั้ง Intercept และ x แสดงว่าทั้งสองตัวแปรมีความสำคัญทางสถิติ\n",
        "\n",
        "- ส่วนอื่น ๆ ของผลลัพธ์: ในส่วนท้ายของผลลัพธ์ยังรวมถึงข้อมูลเพิ่มเติมเกี่ยวกับค่า Standard Errors, Durbin-Watson statistic, Omnibus test, Jarque-Bera test, Skewness, Kurtosis, และอื่น ๆ ซึ่งเป็นข้อมูลสถิติที่ใช้ในการประเมินความเหมาะสมและการประมาณค่าของโมเดลการถดถอยเชิงเส้น\n"
      ]
    },
    {
      "cell_type": "markdown",
      "metadata": {
        "collapsed": false,
        "id": "2f8d14"
      },
      "source": []
    },
    {
      "cell_type": "code",
      "execution_count": null,
      "metadata": {
        "id": "c094f3"
      },
      "outputs": [],
      "source": [
        "import pandas as pd\n",
        "url = (\n",
        "\"https://gist.githubusercontent.com/miguelpinia/3d589ad7c4365d2686a79bb7962bba04/raw/5fd04ffe66ef3c762deb81fe689b0730ea84e603/brain_size.csv\"\n",
        ")\n",
        "\n",
        "df = pd.read_csv(url, sep = ';',na_values ='.')"
      ]
    },
    {
      "cell_type": "code",
      "execution_count": null,
      "metadata": {
        "id": "1811af"
      },
      "outputs": [],
      "source": [
        "model = ols(\"VIQ ~ Gender + 1\", df).fit()\n",
        "print(model.summary())"
      ]
    },
    {
      "cell_type": "code",
      "execution_count": null,
      "metadata": {
        "id": "30f1b2"
      },
      "outputs": [],
      "source": [
        "model = ols('VIQ ~ C(Gender)', df).fit()\n",
        "print(model.summary())"
      ]
    },
    {
      "cell_type": "code",
      "execution_count": null,
      "metadata": {
        "id": "b0ff73"
      },
      "outputs": [],
      "source": [
        "data_fisq = pd.DataFrame({'iq': df['FSIQ'], 'type': 'fsiq'})\n",
        "data_piq = pd.DataFrame({'iq': df['PIQ'], 'type': 'piq'})\n",
        "data_long = pd.concat((data_fisq, data_piq))\n",
        "print(data_long)"
      ]
    },
    {
      "cell_type": "code",
      "execution_count": null,
      "metadata": {
        "id": "a43d35"
      },
      "outputs": [],
      "source": [
        "model = ols(\"iq ~ type\", data_long).fit()\n",
        "print(model.summary())"
      ]
    },
    {
      "cell_type": "code",
      "execution_count": null,
      "metadata": {
        "id": "6423b7"
      },
      "outputs": [],
      "source": [
        "from scipy import stats\n",
        "stats.ttest_ind(df['FSIQ'],df['PIQ'])"
      ]
    },
    {
      "cell_type": "markdown",
      "metadata": {
        "collapsed": false,
        "id": "3dbb39"
      },
      "source": [
        "## Multiple Regression\n"
      ]
    },
    {
      "cell_type": "markdown",
      "metadata": {
        "collapsed": false,
        "id": "789bb0"
      },
      "source": [
        "\n",
        "พิจารณาโมเดลเชิงเส้นที่อธิบายตัวแปร $y$ (ตัวแปรตาม) ด้วยตัวแปร $x_1$ และ $x_2$ ดังนี้:\n",
        "\n",
        "\n",
        "$$ \\hat{y} = \\beta_0 + \\beta_1x_1 + \\beta_2x_2  \\tag{4}$$\n",
        "\n",
        "เมื่อ\n",
        "\n",
        "1. ตัวแปร $\\hat{y}$ คือประมาณตัวแปรตาม (dependent variable) ที่เราพยายามจะอธิบายหรือทำนาย\n",
        "2. ตัวแปร  $x_1$ และ  $x_2$ คือตัวแปรอิสระ (independent variables) ที่เราใช้ในการอธิบาย $y$\n",
        "3. $\\beta_1$ และ $\\beta_2$ คือค่าสัมประสิทธิ์ (coefficients) ที่ใช้ในการปรับโมเดล หรือก็คือความชันของแผนตัดกับแกน $x_1$ และ $x_2$ ตามลำดับ\n",
        "4. $\\beta_0$ คือค่าตัดแกน"
      ]
    },
    {
      "cell_type": "code",
      "execution_count": null,
      "metadata": {
        "id": "fb0232"
      },
      "outputs": [],
      "source": [
        "csv_url = 'https://archive.ics.uci.edu/ml/machine-learning-databases/iris/iris.data'\n",
        "# using the attribute information as the column names\n",
        "col_names = ['Sepal_Length','Sepal_Width','Petal_Length','Petal_Width','Class']\n",
        "iris =  pd.read_csv(csv_url, names = col_names)"
      ]
    },
    {
      "cell_type": "code",
      "execution_count": null,
      "metadata": {
        "id": "fe37cb"
      },
      "outputs": [],
      "source": [
        "iris.hist()"
      ]
    },
    {
      "cell_type": "code",
      "execution_count": null,
      "metadata": {
        "id": "c793e6"
      },
      "outputs": [],
      "source": [
        "import seaborn as sns\n",
        "sns.pairplot(iris, hue = 'Class')"
      ]
    },
    {
      "cell_type": "code",
      "execution_count": null,
      "metadata": {
        "id": "07c1dc"
      },
      "outputs": [],
      "source": [
        "model = ols('Sepal_Width ~ Class + Petal_Length', iris).fit()\n",
        "print(model.summary())"
      ]
    },
    {
      "cell_type": "markdown",
      "metadata": {
        "collapsed": false,
        "id": "7d2c00"
      },
      "source": [
        "## Analysis of Variance"
      ]
    },
    {
      "cell_type": "markdown",
      "metadata": {
        "collapsed": false,
        "id": "3939f7"
      },
      "source": [
        "การวิเคราะห์ความแปรปรวน (Analysis of Variance, ANOVA) เป็นเทคนิคทางสถิติที่ใช้ในการทดสอบความแตกต่างระหว่างค่าเฉลี่ยของกลุ่มหรือประเด็นที่น่าสนใจ โดยใช้ข้อมูลจากกลุ่มหลาย ๆ กลุ่มและทำให้เราสามารถตรวจสอบว่าค่าเฉลี่ยของกลุ่มหรือประเด็นนี้มีความแตกต่างกันอย่างมีนัยสำคัญหรือไม่ โดยใช้การทดสอบสถิติ\n",
        "\n",
        "กระบวนการ ANOVA ใช้ข้อมูลจากกลุ่มที่ต้องการทดสอบ และแยกแยะความแปรปรวนที่มาจากความแตกต่างระหว่างกลุ่ม (Between-group variance) และความแปรปรวนภายในกลุ่ม (Within-group variance) โดยวิเคราะห์การเปรียบเทียบค่าเฉลี่ยและการกระจายข้อมูลของกลุ่มที่ต่างกัน\n",
        "\n",
        "ANOVA สามารถใช้ในหลายสถานการณ์ เช่น:\n",
        "\n",
        "1. การทดสอบว่ามีความแตกต่างในประสิทธิภาพระหว่างตัวแปรในกลุ่มต่าง ๆ เช่นการทดสอบสมรรถนะของผลิตภัณฑ์ในหลายๆ แบรนด์\n",
        "\n",
        "2. การทดสอบว่ามีความแตกต่างในการรักษาที่มีผลกับกลุ่มผู้ป่วยที่ต่างกัน เช่นการศึกษาผลการรักษาของยาในกลุ่มคนที่มีอาการเฉพาะทาง\n",
        "\n",
        "3. การทดสอบว่ามีความแตกต่างในการรักษาระหว่างกลุ่มที่ต่างกันในการทดลองทางเกษตร เช่นการทดลองดูผลของปุ๋ยที่ใช้กับพืช\n",
        "\n",
        "ANOVA สามารถแบ่งออกเป็นหลายรูปแบบเช่น One-Way ANOVA, Two-Way ANOVA, MANOVA, ANCOVA และอื่น ๆ ที่ใช้ในกรณีและสถานการณ์ที่แตกต่างกัน. การใช้ ANOVA ช่วยให้เราทราบว่าความแตกต่างระหว่างกลุ่มหรือประเด็นที่น่าสนใจมีความสำคัญทางสถิติหรือไม่ และมีค่าในการประเมินความแตกต่างนี้ด้วย"
      ]
    },
    {
      "cell_type": "markdown",
      "metadata": {
        "collapsed": false,
        "id": "41ff04"
      },
      "source": [
        "### One-Way ANOVA (Analysis of Variance)\n",
        "เป็นเทคนิคทางสถิติที่ใช้ในการทดสอบความแตกต่างระหว่างค่าเฉลี่ยของสามหรือมากกว่ากลุ่ม (หรือประเด็น) ที่น่าสนใจ โดยใช้ข้อมูลจากกลุ่มหลาย ๆ กลุ่มเพื่อตรวจสอบว่าค่าเฉลี่ยของกลุ่มหรือประเด็นนี้มีความแตกต่างกันอย่างมีนัยสำคัญหรือไม่ ในการวิเคราะห์ One-Way ANOVA เรามีตัวแปรต้น (Independent variable) ที่แบ่งกลุ่มข้อมูลและตัวแปรตาม (Dependent variable) ที่เราสนใจ\n",
        "\n",
        "ตัวอย่างสถานการณ์ที่ One-Way ANOVA สามารถนำมาใช้ได้เช่น:\n",
        "\n",
        "1. การทดสอบความแตกต่างในผลผลิตของพืชระหว่างหลายสายพันธุ์หรือการปลูกในหลายสภาพแวดล้อมต่าง ๆ หรืออาจเป็นการทดสอบความแตกต่างในผลการทดลองรักษาพืชด้วยปุ๋ยหลายชนิด\n",
        "\n",
        "2. การทดสอบว่ามีความแตกต่างในราคาของผลิตภัณฑ์ระหว่างหลายบริษัทหรือแบรนด์\n",
        "\n",
        "3. การทดสอบว่ามีความแตกต่างในประสิทธิภาพระหว่างการรักษาคนไข้โรคเดียวกันที่ที่หลาย ๆ โรงพยาบาลหรือคลินิก\n",
        "\n",
        "One-Way ANOVA ทดสอบสมมติฐานที่ว่าค่าเฉลี่ยของกลุ่มหรือประเด็นที่น่าสนใจมีความแตกต่างกันอย่างมีนัยสำคัญหรือไม่ โดยใช้การทดสอบสถิติ F-test เพื่อตรวจสอบความแตกต่างระหว่างกลุ่ม. หากผลการทดสอบ F-test แสดงให้เห็นว่ามีความแตกต่างทางสถิติอย่างมีนัยสำคัญ แล้วจะสามารถใช้วิธีการทดสอบหลังการวิเคราะห์ความแปรปรวน (Post-hoc tests) เพื่อหาว่ากลุ่มใดที่แตกต่างกันมากขึ้น"
      ]
    },
    {
      "cell_type": "code",
      "execution_count": null,
      "metadata": {
        "id": "6bc906"
      },
      "outputs": [],
      "source": [
        "import pandas as pd\n",
        "from scipy import stats\n",
        "\n",
        "# Load the Iris dataset (you may need to install it if you haven't already)\n",
        "from sklearn.datasets import load_iris\n",
        "data = load_iris()\n",
        "df = pd.DataFrame(data.data, columns=data.feature_names)\n",
        "df['target'] = data.target\n",
        "\n",
        "# Select the data for the different groups (species)\n",
        "group1 = df[df['target'] == 0]['sepal length (cm)']\n",
        "group2 = df[df['target'] == 1]['sepal length (cm)']\n",
        "group3 = df[df['target'] == 2]['sepal length (cm)']\n",
        "\n",
        "# Perform one-way ANOVA\n",
        "f_statistic, p_value = stats.f_oneway(group1, group2, group3)\n",
        "\n",
        "print(\"F-statistic:\", f_statistic)\n",
        "print(\"P-value:\", p_value)\n",
        "\n",
        "# Interpret the results\n",
        "alpha = 0.05  # Set your significance level\n",
        "if p_value < alpha:\n",
        "    print(\"Reject the null hypothesis. There is a significant difference between at least one pair of groups.\")\n",
        "else:\n",
        "    print(\"Fail to reject the null hypothesis. There is no significant difference between the groups.\")\n"
      ]
    },
    {
      "cell_type": "markdown",
      "metadata": {
        "collapsed": false,
        "id": "b8d6bb"
      },
      "source": []
    },
    {
      "cell_type": "markdown",
      "metadata": {
        "collapsed": false,
        "id": "e66b78"
      },
      "source": [
        "ในตัวอย่างของดอกไอริสด้านบน เราต้องการทดสอบว่าความยาวของกลีบดอก (petal length) แตกต่างกันระหว่างดอกไอริสแบบเวอร์ซิคอลอร์ (versicolor) และดอกไอริสแบบเวอร์จินิก้า (virginica) โดยหลังจากนี้เราจะลบออกส่วนที่มาจากความกว้างของกลีบเลี้ยง (sepal width)\n",
        "\n",
        "สูตรนี้เป็นการทดสอบความแตกต่างระหว่างค่าสัมประสิทธิ์ที่เกี่ยวข้องกับดอกไอริสแบบเวอร์ซิคอลอร์และดอกไอริสแบบเวอร์จินิก้าในโมเดลเชิงเส้นที่เราประมาณไว้\n",
        "(นี่คือการวิเคราะห์ความแปรปรวนหรือ ANOVA) สำหรับสิ่งนี้เราเขียนเวกเตอร์ของ 'การเปรียบเทียบ' ในพารามิเตอร์ที่ถูกประมาณค่า: เราต้องการทดสอบ \"name[T.versicolor] - name[T.virginica]\" ด้วยการทดสอบ F-test:"
      ]
    },
    {
      "cell_type": "code",
      "execution_count": null,
      "metadata": {
        "id": "ab50c9"
      },
      "outputs": [],
      "source": [
        "print(model.f_test([0, 1, -1, 0]))"
      ]
    },
    {
      "cell_type": "code",
      "execution_count": null,
      "metadata": {
        "id": "159163"
      },
      "outputs": [],
      "source": []
    }
  ],
  "metadata": {
    "kernelspec": {
      "argv": [
        "/usr/bin/python3",
        "-m",
        "ipykernel",
        "--HistoryManager.enabled=False",
        "--matplotlib=inline",
        "-c",
        "%config InlineBackend.figure_formats = set(['retina'])\nimport matplotlib; matplotlib.rcParams['figure.figsize'] = (12, 7)",
        "-f",
        "{connection_file}"
      ],
      "display_name": "Python 3 (system-wide)",
      "env": {},
      "language": "python",
      "metadata": {
        "cocalc": {
          "description": "Python 3 programming language",
          "priority": 100,
          "url": "https://www.python.org/"
        }
      },
      "name": "python3",
      "resource_dir": "/ext/jupyter/kernels/python3"
    },
    "language_info": {
      "codemirror_mode": {
        "name": "ipython",
        "version": 3
      },
      "file_extension": ".py",
      "mimetype": "text/x-python",
      "name": "python",
      "nbconvert_exporter": "python",
      "pygments_lexer": "ipython3",
      "version": "3.10.12"
    },
    "nbgrader": {
      "cocalc_minimal_stubs": false
    },
    "colab": {
      "provenance": [],
      "include_colab_link": true
    }
  },
  "nbformat": 4,
  "nbformat_minor": 0
}