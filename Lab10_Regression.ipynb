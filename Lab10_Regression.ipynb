{
  "cells": [
    {
      "cell_type": "markdown",
      "metadata": {
        "id": "view-in-github",
        "colab_type": "text"
      },
      "source": [
        "<a href=\"https://colab.research.google.com/github/toche7/DataAnalytic/blob/main/Lab10_Regression.ipynb\" target=\"_parent\"><img src=\"https://colab.research.google.com/assets/colab-badge.svg\" alt=\"Open In Colab\"/></a>"
      ]
    },
    {
      "cell_type": "markdown",
      "metadata": {
        "collapsed": false,
        "id": "1615ab"
      },
      "source": [
        "# Lab 10: Linear Regression"
      ]
    },
    {
      "cell_type": "markdown",
      "metadata": {
        "collapsed": false,
        "id": "ffa884"
      },
      "source": [
        "โมเดลเชิงเส้น (Linear Model) เป็นรูปแบบทางคณิตศาสตร์ในบริบทของสถิติและการวิเคราะห์การถดถอยที่ใช้ในการอธิบายความสัมพันธ์เชิงเส้นระหว่างตัวแปรตาม (dependent variable) และตัวแปรอิสระ (predictors หรือ features) โมเดลเชิงเส้นมักถูกนำมาใช้ในงานการทำนาย การสืบค้น และการเข้าใจความสัมพันธ์ระหว่างตัวแปรต่าง ๆ นี่คือลักษณะสำคัญของโมเดลเชิงเส้น:\n",
        "\n",
        "1. **ความสัมพันธ์เชิงเส้น**: โมเดลเชิงเส้นสมมติว่าความสัมพันธ์ระหว่างตัวแปรตาม $( y)$ และตัวแปรอิสระ $(x)$ เป็นเชิงเส้น หมายความว่าการเปลี่ยนแปลงในตัวแปรอิสระจะมีผลกระทบคงที่ต่อตัวแปรตาม ความสัมพันธ์เชิงเส้นแสดงดังนี้:\n",
        "\n",
        "   $$y = β₀ + β₁x₁ + β₂x₂ + ... + β_nx_n + ɛ \\tag{1} $$\n",
        "\n",
        "   - $y$ คือตัวแปรตาม (dependent variable)\n",
        "   - $x₁, x₂, ..., x_n$ คือตัวแปรอิสระ (independent variables)\n",
        "   - $β₀, β₁, β₂, ..., β_n$ คือพารามิเตอร์ที่จะประมาณค่า\n",
        "   - $ɛ$ แทนค่าความผิดพลาด (error term) ที่รับผิดชอบต่อความแปรปรวนแบบสุ่มในข้อมูลที่ไม่สามารถอธิบายได้โดยความสัมพันธ์เชิงเส้น\n",
        "\n",
        "หรือเราสามารถจัดรูปใหม่ได้เป็น\n",
        "\n",
        "   $$\\hat{y} = β₀ + β₁x₁ + β₂x₂ + ... + β_nx_n \\tag{2} $$\n",
        "  \n",
        "   - เมื่อ  $\\hat{y} = y -  ɛ$\n",
        "\n",
        "2. **พารามิเตอร์**: พารามิเตอร์ ($β₀, β₁, β₂, ..., β_n$) แทนความชันและค่าตัดเชิงของความสัมพันธ์เชิงเส้น พารามิเตอร์เหล่านี้ถูกประมาณค่าจากข้อมูลและกำหนดขนาดและทิศทางของผลกระทบของแต่ละตัวแปรอิสระต่อตัวแปรตาม\n",
        "\n",
        "3. **การประมาณค่าด้วยวิธีการลดค่าความต่าง**: ในกรณีส่วนใหญ่ โมเดลเชิงเส้นถูกประมาณค่าโดยใช้วิธีการลดค่าความต่างระหว่างค่าที่สังเหตุและค่าที่ทำนายได้ (residuals) วัตถุประสงค์คือหาค่าพารามิเตอร์ที่ลดค่าผลรวมของความต่างระหว่างค่าที่สังเหตุและค่าที่ทำนายได้มากที่สุด\n",
        "\n",
        "4. **สมมติฐาน**: โมเดลเชิงเส้นขึ้นอยู่กับสมมติฐานบางประการ เช่น สมมติว่าความสัมพันธ์ระหว่างตัวแปรตามและตัวแปรอิสระเป็นเชิงเส้น ความแปรปรวนของความผิดพลาดคงที่ (homoscedasticity) และการแจกแจงของความผิดพลาดเป็นปกติ การละเมิดสมมติฐานเหล่านี้อาจมีผลต่อความถูกต้องของโมเดล\n",
        "\n",
        "5. **ความสามารถในการอธิบาย**: โมเดลเชิงเส้นมักเหมาะสำหรับงานที่ต้องการความสามารถในการอธิบายเนื่องจากพารามิเตอร์สามารถอธิบายได้โดยตรง เช่น หาก $β₁$ คือพารามิเตอร์สำหรับตัวแปรทำนายหนึ่ง ๆ มันแทนการเปลี่ยนแปลงในตัวแปรตามสำหรับการเปลี่ยนแปลงหนึ่งหน่วยในตัวแปรนั้น ๆ ขณะคงสถานะตัวแปรอื่น ๆ\n",
        "\n",
        "6. **การประยุกต์ใช้**: โมเดลเชิงเส้นถูกใช้ในหลายสาขา เช่น เศรษฐศาสตร์ การเงิน วิทยาศาสตร์สังคม วิศวกรรม และการเรียนรู้ของเครื่อง โดยใช้สำหรับงานเช่น การถดถอยเชิงเส้น การถดถอยเชิงเส้นหลายตัวแปร การวิเคราะห์ความแปรปรวน (Analysis of Variance) และอื่น ๆ\n",
        "\n",
        "7. **การขยาย**: โมเดลเชิงเส้นสามารถขยายเพื่อรวมการกระทำระหว่างตัวแปร การใช้งานขั้นสูง เช่น การรวมกันของตัวแปร การใช้งานเป็นอย่างอื่นเพื่อจับความสัมพันธ์ที่ซับซ้อนมากขึ้นเมื่อสมมติฐานเชิงเส้นไม่เพียงพอ\n",
        "\n",
        "โดยรวมแล้ว โมเดลเชิงเส้นเสนอกรอบง่ายและสามารถอธิบายความสัมพันธ์ระหว่างตัวแปรได้ในงานการวิเคราะห์สถิติและวิทยาการข้อมูล เป็นเครื่องมือมีค่าในงานการวิเคราะห์สถิติและวิทยาการข้อมูล"
      ]
    },
    {
      "cell_type": "markdown",
      "metadata": {
        "collapsed": false,
        "id": "5be61b"
      },
      "source": [
        "## Simple linear regression"
      ]
    },
    {
      "cell_type": "markdown",
      "metadata": {
        "collapsed": false,
        "id": "b19bd8"
      },
      "source": [
        "เรามีข้อมูลสองชุดค่าที่เรียกว่า $x$ และ $y$ และเราต้องการทดสอบสมมติฐานว่า $y$ เป็นฟังก์ชันเชิงเส้นของ $x$ ในคำอื่นคือ:\n",
        "\n",
        "$$ \\hat{y} = \\beta_0 + \\beta_1x_1 \\tag{3}$$\n",
        "\n",
        "โดยที่ ตัวแปร $\\hat{y}$ คือประมาณตัวแปรตาม (dependent variable) ที่เราพยายามจะอธิบายหรือทำนาย  $\\beta_1$    คือความชันของกราฟ และ $\\beta_0$ คือ ค่าตัดแกน  \n",
        "\n",
        "เราจะใช้โมดูล statsmodels เพื่อ:\n",
        "\n",
        "1. ปรับโมเดลเชิงเส้น โดยใช้วิธีการที่ง่ายที่สุดคือ Ordinary Least Squares (OLS) เพื่อหาค่า $\\beta_1$   และ $\\beta_0$  ที่เหมาะสมในการแสดงความสัมพันธ์ระหว่าง x และ y ในรูปแบบเชิงเส้น\n",
        "\n",
        "2. ทดสอบว่าค่า  $\\beta_1$    ไม่เป็นศูนย์ ซึ่งหมายถึงเราต้องการตรวจสอบว่ามีความสัมพันธ์เชิงเส้นระหว่าง $x$ และ $y$ หรือไม่ ถ้าค่า  $\\beta_1$  ไม่เป็นศูนย์แสดงว่ามีความสัมพันธ์เชิงเส้น\n",
        "\n",
        "นี่คือขั้นตอนที่เราจะใช้ statsmodels เพื่อทำการทดสอบนี้"
      ]
    },
    {
      "cell_type": "code",
      "execution_count": null,
      "metadata": {
        "id": "ef46af"
      },
      "outputs": [],
      "source": [
        "import numpy as np\n",
        "import pandas as pd\n",
        "x = np.linspace(-5, 5, 20)\n",
        "np.random.seed(1)\n",
        "# normal distributed noise\n",
        "y = -5 + 3*x + 4 * np.random.normal(size=x.shape)\n",
        "# Create a data frame containing all the relevant variables\n",
        "df = pd.DataFrame({'x': x, 'y': y})"
      ]
    },
    {
      "cell_type": "code",
      "execution_count": null,
      "metadata": {
        "id": "e204d3"
      },
      "outputs": [],
      "source": [
        "import matplotlib.pyplot as plt\n",
        "fig, ax = plt.subplots()\n",
        "ax.scatter(df.x,df.y)"
      ]
    },
    {
      "cell_type": "markdown",
      "metadata": {
        "collapsed": false,
        "id": "d17e8e"
      },
      "source": [
        "Ordinary Least Squares (OLS) เป็นวิธีการทางสถิติและเศรษฐศาสตร์ที่ใช้ในการประมาณค่าพารามิเตอร์ (coefficients) ของโมเดลการถดถอยเชิงเส้น (linear regression) นี่เป็นหนึ่งในเทคนิคที่มักใช้และแพร่หลายที่สุดสำหรับการฟิตโมเดลเชิงเส้นตามข้อมูลที่สังเหตุได้  OLS จะพยายามหาความสัมพันธ์เชิงเส้นที่เหมาะสมที่สุดระหว่างตัวแปรตาม (dependent variable) และตัวแปรอิสระ (independent variables) โดยการลดค่าผลรวมของความต่างระหว่างค่าที่สังเหตุ (observed) และค่าที่ทำนายได้ (predicted) ให้มีค่าต่ำที่สุด\n",
        "\n",
        "นี่คือส่วนประกอบสำคัญของ Ordinary Least Squares:\n",
        "\n",
        "**โมเดลเชิงเส้น**: OLS สมมติว่าความสัมพันธ์ระหว่างตัวแปรตาม ($Y$) และตัวแปรอิสระ ($X$) สามารถบรรยายด้วยสมการที่ 1\n",
        "\n"
      ]
    },
    {
      "cell_type": "code",
      "execution_count": null,
      "metadata": {
        "id": "34b76d"
      },
      "outputs": [],
      "source": [
        "from statsmodels.formula.api import ols\n",
        "model = ols(\"y ~ x\", df).fit()"
      ]
    },
    {
      "cell_type": "markdown",
      "metadata": {
        "collapsed": false,
        "id": "48bc3c"
      },
      "source": [
        "เมื่อ\n",
        "\n",
        "1. `from statsmodels.formula.api import ols`: บรรทัดนี้นำเข้าฟังก์ชัน `ols` จากโมดูล `statsmodels.formula.api` ซึ่งใช้ในการสร้างโมเดลการถดถอยเชิงเส้น\n",
        "\n",
        "2. `model = ols(\"y ~ x\", data).fit()`: บรรทัดโค้ดนี้สร้างและทำการอัพเดตโมเดลการถดถอยเชิงเส้นบนข้อมูล.\n",
        "\n",
        "   - `\"y ~ x\"`: นี่คือสูตรที่ระบุความสัมพันธ์ระหว่างตัวแปรตาม (`y`) และตัวแปรอิสระ (`x`) ในสูตรนี้ `y` คือตัวแปรตาม และ `x` คือตัวแปรอิสระ สูตรนี้ใช้ในการระบุสมการการถดถอยเชิงเส้น\n",
        "\n",
        "   - `data`: ควรแทนด้วยชุดข้อมูลที่คุณต้องการใช้ในการวิเคราะห์การถดถอย ชุดข้อมูลควรอยู่ในรูปแบบที่ `statsmodels` สามารถทำงานได้ เช่น pandas DataFrame\n",
        "\n",
        "   - `.fit()`: วิธีนี้ทำการอัพเดตโมเดลการถดถอยเชิงเส้นกับข้อมูล โดยประมาณค่าพารามิเตอร์ (ค่าพารามิเตอร์) ของโมเดลโดยใช้วิธี Ordinary Least Squares (OLS)"
      ]
    },
    {
      "cell_type": "code",
      "execution_count": null,
      "metadata": {
        "id": "70407d"
      },
      "outputs": [],
      "source": [
        "print(model.summary())"
      ]
    },
    {
      "cell_type": "markdown",
      "metadata": {
        "collapsed": false,
        "id": "b457b6"
      },
      "source": [
        "\n",
        "ข้อมูลสรุปผลการวิเคราะห์ดังนี้:\n",
        "\n",
        "- R-squared (R²): ค่า R-squared คือ 0.804 หมายถึงโมเดลการถดถอยเชิงเส้นสามารถอธิบายความเปลี่ยนแปลงในตัวแปรตาม (y) ได้ประมาณ 80.4% โดยค่า R-squared สูงแสดงว่าโมเดลมีความสามารถในการอธิบายข้อมูลได้ดี\n",
        "\n",
        "- Adj. R-squared (Adjusted R²): ค่า Adj. R-squared คือ 0.794 หมายถึงความสามารถในการอธิบายข้อมูลที่ถูกปรับแล้วเพื่อคำนึงถึงความซับซ้อนของโมเดล โดยค่านี้ก็ยังสูงอยู่ แสดงว่าโมเดลยังคงมีความสามารถในการอธิบายข้อมูล\n",
        "\n",
        "- F-statistic (F-statistic): ค่า F-statistic คือ 74.03 แสดงถึงการทดสอบสถิติเพื่อตรวจสอบว่าโมเดลการถดถอยเชิงเส้นมีความสำคัญหรือไม่ ค่า F-statistic สูงแสดงว่าโมเดลมีความสำคัญ\n",
        "\n",
        "- Prob (F-statistic): ค่า Prob (F-statistic) คือ 8.56e-08 หรือ 0.0000000856 แสดงถึงค่า p-value ของการทดสอบสถิติ F ค่านี้สุดท้ายแสดงถึงความน่าจะเป็นที่ F-statistic จะมีค่าอย่างน้อยกว่าที่ระดับนัยสำคัญที่ 0.05 ซึ่งแสดงว่าโมเดลมีความสำคัญทางสถิติ\n",
        "\n",
        "- Intercept และ x: ตัวแปร Intercept แทนค่าจุดตัดของเส้นตรง (ค่า y เมื่อ x = 0) ซึ่งมีค่าเป็น -5.5335 และตัวแปร x แทนค่าสัมประสิทธิ์ของ x ในการกระทำต่อตัวแปรตาม y ซึ่งมีค่าเป็น 2.9369. การทดสอบสถิติ (t-statistic) และ p-value สำหรับทั้ง Intercept และ x แสดงว่าทั้งสองตัวแปรมีความสำคัญทางสถิติ\n",
        "\n",
        "- ส่วนอื่น ๆ ของผลลัพธ์: ในส่วนท้ายของผลลัพธ์ยังรวมถึงข้อมูลเพิ่มเติมเกี่ยวกับค่า Standard Errors, Durbin-Watson statistic, Omnibus test, Jarque-Bera test, Skewness, Kurtosis, และอื่น ๆ ซึ่งเป็นข้อมูลสถิติที่ใช้ในการประเมินความเหมาะสมและการประมาณค่าของโมเดลการถดถอยเชิงเส้น\n"
      ]
    },
    {
      "cell_type": "markdown",
      "metadata": {
        "collapsed": false,
        "id": "2f8d14"
      },
      "source": []
    },
    {
      "cell_type": "markdown",
      "metadata": {
        "collapsed": false,
        "id": "3dbb39"
      },
      "source": [
        "## Multiple Regression\n"
      ]
    },
    {
      "cell_type": "markdown",
      "metadata": {
        "collapsed": false,
        "id": "789bb0"
      },
      "source": [
        "\n",
        "พิจารณาโมเดลเชิงเส้นที่อธิบายตัวแปร $y$ (ตัวแปรตาม) ด้วยตัวแปร $x_1$ และ $x_2$ ดังนี้:\n",
        "\n",
        "\n",
        "$$ \\hat{y} = \\beta_0 + \\beta_1x_1 + \\beta_2x_2  \\tag{4}$$\n",
        "\n",
        "เมื่อ\n",
        "\n",
        "1. ตัวแปร $\\hat{y}$ คือประมาณตัวแปรตาม (dependent variable) ที่เราพยายามจะอธิบายหรือทำนาย\n",
        "2. ตัวแปร  $x_1$ และ  $x_2$ คือตัวแปรอิสระ (independent variables) ที่เราใช้ในการอธิบาย $y$\n",
        "3. $\\beta_1$ และ $\\beta_2$ คือค่าสัมประสิทธิ์ (coefficients) ที่ใช้ในการปรับโมเดล หรือก็คือความชันของแผนตัดกับแกน $x_1$ และ $x_2$ ตามลำดับ\n",
        "4. $\\beta_0$ คือค่าตัดแกน"
      ]
    },
    {
      "cell_type": "markdown",
      "metadata": {
        "id": "8acf9e36"
      },
      "source": [
        "The **Diabetes Dataset** is a dataset consisting of 442 patients, with 10 baseline variables, age, sex, body mass index, average blood pressure, and six blood serum measurements, as well as the response of interest, a quantitative measure of disease progression one year after baseline.\n",
        "\n",
        "Here's a breakdown:\n",
        "\n",
        "- **Number of Samples:** 442\n",
        "- **Number of Features:** 10 (These are the independent variables used for prediction)\n",
        "    - age: age in years\n",
        "    - sex:\n",
        "    - bmi: body mass index\n",
        "    - bp: average blood pressure\n",
        "    - s1, s2, s3, s4, s5, s6: six blood serum measurements\n",
        "- **Target Variable:** A quantitative measure of disease progression one year after baseline.\n",
        "\n",
        "This dataset is often used for tasks like:\n",
        "\n",
        "- **Linear Regression:** Predicting the disease progression based on the baseline variables.\n",
        "- **Feature Selection:** Identifying which of the 10 features are most important for predicting disease progression.\n",
        "- **Model Evaluation:** Comparing the performance of different regression models."
      ]
    },
    {
      "cell_type": "markdown",
      "source": [],
      "metadata": {
        "id": "Fgg_UgkAY1Py"
      }
    },
    {
      "cell_type": "code",
      "source": [
        "# prompt: load diabetes dataset as pandas\n",
        "\n",
        "import pandas as pd\n",
        "from sklearn.datasets import load_diabetes\n",
        "diabetes = load_diabetes()\n",
        "diabetes_df = pd.DataFrame(data=diabetes.data, columns=diabetes.feature_names)\n",
        "diabetes_df['target'] = diabetes.target\n",
        "diabetes_df.head()"
      ],
      "metadata": {
        "id": "7odYj7pvY1vH"
      },
      "execution_count": null,
      "outputs": []
    },
    {
      "cell_type": "code",
      "source": [
        "model = ols('target  ~  age +\tsex + bmi +\tbp + s1 +\ts2 + s3 +\ts4+ s5+ s6', diabetes_df).fit()\n",
        "print(model.summary())"
      ],
      "metadata": {
        "id": "ZqmEE41wYlKJ"
      },
      "execution_count": null,
      "outputs": []
    }
  ],
  "metadata": {
    "kernelspec": {
      "argv": [
        "/usr/bin/python3",
        "-m",
        "ipykernel",
        "--HistoryManager.enabled=False",
        "--matplotlib=inline",
        "-c",
        "%config InlineBackend.figure_formats = set(['retina'])\nimport matplotlib; matplotlib.rcParams['figure.figsize'] = (12, 7)",
        "-f",
        "{connection_file}"
      ],
      "display_name": "Python 3 (system-wide)",
      "env": {},
      "language": "python",
      "metadata": {
        "cocalc": {
          "description": "Python 3 programming language",
          "priority": 100,
          "url": "https://www.python.org/"
        }
      },
      "name": "python3",
      "resource_dir": "/ext/jupyter/kernels/python3"
    },
    "language_info": {
      "codemirror_mode": {
        "name": "ipython",
        "version": 3
      },
      "file_extension": ".py",
      "mimetype": "text/x-python",
      "name": "python",
      "nbconvert_exporter": "python",
      "pygments_lexer": "ipython3",
      "version": "3.10.12"
    },
    "nbgrader": {
      "cocalc_minimal_stubs": false
    },
    "colab": {
      "provenance": [],
      "include_colab_link": true
    }
  },
  "nbformat": 4,
  "nbformat_minor": 0
}