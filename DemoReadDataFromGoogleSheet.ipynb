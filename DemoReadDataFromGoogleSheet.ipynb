{
  "nbformat": 4,
  "nbformat_minor": 0,
  "metadata": {
    "colab": {
      "provenance": [],
      "authorship_tag": "ABX9TyMSghQD97FuBAqEko8URzpY",
      "include_colab_link": true
    },
    "kernelspec": {
      "name": "python3",
      "display_name": "Python 3"
    },
    "language_info": {
      "name": "python"
    }
  },
  "cells": [
    {
      "cell_type": "markdown",
      "metadata": {
        "id": "view-in-github",
        "colab_type": "text"
      },
      "source": [
        "<a href=\"https://colab.research.google.com/github/toche7/DataAnalytic/blob/main/DemoReadDataFromGoogleSheet.ipynb\" target=\"_parent\"><img src=\"https://colab.research.google.com/assets/colab-badge.svg\" alt=\"Open In Colab\"/></a>"
      ]
    },
    {
      "cell_type": "code",
      "execution_count": null,
      "metadata": {
        "id": "w7j8sHMlSg1c"
      },
      "outputs": [],
      "source": [
        "# prompt: import data from google sheet to pandas dataframe from this link\n",
        "# https://docs.google.com/spreadsheets/d/1US8J08nVEkfSiGX9wdKGnZv-vgT7XCtVxo6G3HS2o54/edit?usp=sharing\n",
        "\n",
        "import pandas as pd\n",
        "\n",
        "# Replace the URL with your Google Sheet URL\n",
        "google_sheet_url = \"https://docs.google.com/spreadsheets/d/1US8J08nVEkfSiGX9wdKGnZv-vgT7XCtVxo6G3HS2o54/edit?usp=sharing\"\n",
        "\n",
        "# Extract the sheet ID from the URL\n",
        "sheet_id = google_sheet_url.split('/d/')[1].split('/edit')[0]\n",
        "\n",
        "# Construct the export URL for CSV format\n",
        "export_url = f'https://docs.google.com/spreadsheets/d/{sheet_id}/export?format=csv'\n",
        "\n",
        "# Read the data into a pandas DataFrame\n",
        "df = pd.read_csv(export_url)"
      ]
    },
    {
      "cell_type": "code",
      "source": [
        "df.head()"
      ],
      "metadata": {
        "id": "MHqTcSVQSuAo"
      },
      "execution_count": null,
      "outputs": []
    }
  ]
}