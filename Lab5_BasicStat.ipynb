{
  "cells": [
    {
      "cell_type": "markdown",
      "metadata": {
        "id": "view-in-github",
        "colab_type": "text"
      },
      "source": [
        "<a href=\"https://colab.research.google.com/github/toche7/DataAnalytic/blob/main/Lab5_BasicStat.ipynb\" target=\"_parent\"><img src=\"https://colab.research.google.com/assets/colab-badge.svg\" alt=\"Open In Colab\"/></a>"
      ]
    },
    {
      "cell_type": "markdown",
      "metadata": {
        "collapsed": false,
        "id": "79e0d3"
      },
      "source": [
        "# Lab 5: Basic Statistic\n",
        "\n"
      ]
    },
    {
      "cell_type": "markdown",
      "metadata": {
        "collapsed": false,
        "id": "96d017"
      },
      "source": [
        "## Basic Statistic with NumPy\n",
        "\n"
      ]
    },
    {
      "cell_type": "markdown",
      "metadata": {
        "collapsed": false,
        "id": "5f02e8"
      },
      "source": [
        "### การบวกค่าใน Array\n",
        "\n",
        "ตัวอย่างสั้น ๆ ให้พิจารณาการคำนวณผลรวมของค่าทั้งหมดในอาร์เรย์\n",
        "Python สามารถทำได้โดยใช้ฟังก์ชัน `sum`:\n"
      ]
    },
    {
      "cell_type": "code",
      "execution_count": null,
      "metadata": {
        "id": "269fb4"
      },
      "outputs": [],
      "source": [
        "import numpy as np"
      ]
    },
    {
      "cell_type": "code",
      "execution_count": null,
      "metadata": {
        "id": "b30c98"
      },
      "outputs": [],
      "source": [
        "L = np.random.random(100)\n",
        "sum(L)"
      ]
    },
    {
      "cell_type": "markdown",
      "metadata": {
        "collapsed": false,
        "id": "2f2832"
      },
      "source": [
        "สำหรับการ `sum` ของ NumPy จะมีการใช้งานคล้ายกันดังนี้\n"
      ]
    },
    {
      "cell_type": "code",
      "execution_count": null,
      "metadata": {
        "id": "14f836"
      },
      "outputs": [],
      "source": [
        "np.sum(L)"
      ]
    },
    {
      "cell_type": "markdown",
      "metadata": {
        "collapsed": false,
        "id": "7ff227"
      },
      "source": [
        "อย่างไรก็ตาม sum ของ NumPy จะได้ผลการคำนวณได้เร็วขึ้นมาก\n"
      ]
    },
    {
      "cell_type": "code",
      "execution_count": null,
      "metadata": {
        "id": "389997"
      },
      "outputs": [],
      "source": [
        "big_array = np.random.rand(1000000)\n",
        "%timeit sum(big_array)\n",
        "%timeit np.sum(big_array)"
      ]
    },
    {
      "cell_type": "markdown",
      "metadata": {
        "collapsed": false,
        "id": "a8d9b8"
      },
      "source": [
        "โปรดสังเกตุ: ฟังก์ชัน `sum` และฟังก์ชัน  `np.sum` จะไม่เหมือนกันซึ่งบางครั้งอาจทำให้เกิดความสับสนได้\n",
        "\n",
        "โดยเฉพาะค่า option มีความหมายที่แตกต่างกันและ `np.sum` คำนึงถึงมิติอาร์เรย์หลายแบบดังที่เราจะเห็นในส่วนต่อไป\n",
        "\n"
      ]
    },
    {
      "cell_type": "markdown",
      "metadata": {
        "collapsed": false,
        "id": "d8c17a"
      },
      "source": [
        "### Minimum and Maximum\n",
        "\n",
        "ในทำนองเดียวกัน Python มีฟังก์ชัน `min` และ `max` ภายในซึ่งใช้เพื่อค้นหาค่าต่ำสุดและค่าสูงสุดของอาร์เรย์ที่กำหนด:\n"
      ]
    },
    {
      "cell_type": "code",
      "execution_count": null,
      "metadata": {
        "id": "a517de"
      },
      "outputs": [],
      "source": [
        "min(big_array), max(big_array) # ลองสังเกตุด้วยว่าคำตอนนี้มีการคืนค่าออกมาเป็น tuple"
      ]
    },
    {
      "cell_type": "code",
      "execution_count": null,
      "metadata": {
        "id": "ff42b7"
      },
      "outputs": [],
      "source": [
        "a = min(big_array), max(big_array)"
      ]
    },
    {
      "cell_type": "code",
      "execution_count": null,
      "metadata": {
        "id": "f77c4c"
      },
      "outputs": [],
      "source": [
        "type(a)"
      ]
    },
    {
      "cell_type": "markdown",
      "metadata": {
        "collapsed": false,
        "id": "93ad09"
      },
      "source": [
        "ฟังก์ชันที่เกี่ยวข้องของ NumPy มีไวยากรณ์ที่คล้ายกันและทำงานได้เร็วขึ้นเช่นกัน"
      ]
    },
    {
      "cell_type": "code",
      "execution_count": null,
      "metadata": {
        "id": "3b2484"
      },
      "outputs": [],
      "source": [
        "np.min(big_array), np.max(big_array)"
      ]
    },
    {
      "cell_type": "markdown",
      "metadata": {
        "collapsed": false,
        "id": "87c653"
      },
      "source": [
        "สำหรับ `min`, `max`, `sum` และการรวม NumPy อื่น ๆ การเรียกใช้คำสั่งสามารถทำได้อีกหนึ่งวิธีคือการสั่งผ่าน method ของ object ดังตัวอย่างดังต่อไปนี้"
      ]
    },
    {
      "cell_type": "code",
      "execution_count": null,
      "metadata": {
        "id": "56c9be"
      },
      "outputs": [],
      "source": [
        " big_array.min(), big_array.max(), big_array.sum()"
      ]
    },
    {
      "cell_type": "markdown",
      "metadata": {
        "collapsed": false,
        "id": "30a986"
      },
      "source": [
        "### Multi dimensional aggregates\n",
        "\n",
        "Aggregate คือการจัดการข้อมูลที่มีอยู่หลายมิติให้เกิดเป็นข้อมูลใหม่เช่น ด้วยการบวก การค่าเฉลี่ย  หรือ จะเป็นการหาค่าสูงสุดต่ำสุด เพื่อนำไปใช้ประโยชน์ต่อไป\n",
        "\n",
        "อย่างเช่นเรามีข้อมูลดังต่อไปนี้\n"
      ]
    },
    {
      "cell_type": "code",
      "execution_count": null,
      "metadata": {
        "id": "81a11f"
      },
      "outputs": [],
      "source": [
        "M = np.random.random((3, 4))\n",
        "print(M)"
      ]
    },
    {
      "cell_type": "markdown",
      "metadata": {
        "collapsed": false,
        "id": "b92ec5"
      },
      "source": [
        "โดยค่าเริ่มต้นฟังก์ชันการรวม NumPy แต่ละฟังก์ชันจะส่งคืนการรวมในอาร์เรย์ทั้งหมด:"
      ]
    },
    {
      "cell_type": "code",
      "execution_count": null,
      "metadata": {
        "id": "17986b"
      },
      "outputs": [],
      "source": [
        "M.sum()"
      ]
    },
    {
      "cell_type": "markdown",
      "metadata": {
        "collapsed": false,
        "id": "80a163"
      },
      "source": [
        "เราสามารถทำ aggregate เพื่อสร้างข้อมูลใหม่ที่เกิดจากการ  sum  โดยฟังก์ชัน sum จะใช้อาร์กิวเมนต์เพิ่มเติมโดยระบุ \\*axis \\* ซึ่งคำนวณการรวม ตัวอย่างเช่นเราสามารถค้นหาค่าต่ำสุดในแต่ละคอลัมน์ได้โดยระบุ `axis = 0`:\n"
      ]
    },
    {
      "cell_type": "markdown",
      "metadata": {
        "collapsed": false,
        "id": "b7f1d7"
      },
      "source": [
        "<img src=\".Lab5_BasicStat.ipynb.upload/Picture1.png\"   width=\"598.9891359999999px\"  height=\"307px\"  style=\"object-fit:cover\"/>\n",
        "\n"
      ]
    },
    {
      "cell_type": "code",
      "execution_count": null,
      "metadata": {
        "id": "faeab3"
      },
      "outputs": [],
      "source": [
        "M.min(axis=0)"
      ]
    },
    {
      "cell_type": "markdown",
      "metadata": {
        "collapsed": false,
        "id": "e3e581"
      },
      "source": [
        "ฟังก์ชันจะส่งคืนค่าสี่ค่าซึ่งสอดคล้องกับสี่คอลัมน์ของตัวเลข\n",
        "\n",
        "ในทำนองเดียวกันเราสามารถค้นหาค่าสูงสุดในแต่ละแถว:"
      ]
    },
    {
      "cell_type": "code",
      "execution_count": null,
      "metadata": {
        "id": "e78f6c"
      },
      "outputs": [],
      "source": [
        "M.max(axis=1)"
      ]
    },
    {
      "cell_type": "code",
      "execution_count": null,
      "metadata": {
        "id": "610828"
      },
      "outputs": [],
      "source": [
        "M.sum(axis =0)"
      ]
    },
    {
      "cell_type": "code",
      "execution_count": null,
      "metadata": {
        "id": "bf048c"
      },
      "outputs": [],
      "source": [
        "M.sum(axis =1)"
      ]
    },
    {
      "cell_type": "markdown",
      "metadata": {
        "collapsed": false,
        "id": "a08041"
      },
      "source": []
    },
    {
      "cell_type": "markdown",
      "metadata": {
        "collapsed": false,
        "id": "44655c"
      },
      "source": [
        "### Other aggregation functions\n",
        "\n",
        "NumPy มีฟังก์ชันการรวมอื่น ๆ อีกมากมาย แต่เราจะไม่พูดถึงรายละเอียดที่นี่\n",
        "\n",
        "\n",
        "**ฟังก์ชันสถิติเบื้องต้น:**\n",
        "\n",
        "1. `np.mean()`: คำนวณค่าเฉลี่ย (average) ของสมาชิกในอาร์เรย์\n",
        "2. `np.median()`: คำนวณค่ามัธยฐาน (median) ของสมาชิกในอาร์เรย์\n",
        "3. `np.sum()`: คำนวณผลรวมของสมาชิกในอาร์เรย์\n",
        "4. `np.std()`: คำนวณค่าส่วนเบี่ยงมาตรฐาน (standard deviation) ของสมาชิกในอาร์เรย์\n",
        "5. `np.var()`: คำนวณค่าความแปรปรวน (variance) ของสมาชิกในอาร์เรย์\n",
        "6. `np.min()`: ค้นหาค่าน้อยที่สุดในอาร์เรย์\n",
        "7. `np.max()`: ค้นหาค่ามากที่สุดในอาร์เรย์\n",
        "8. `np.percentile()`: คำนวณควอนไทล์ (percentiles) ที่ระบุของสมาชิกในอาร์เรย์\n",
        "9. `np.histogram()`: คำนวณฮิสโตแกรมของชุดข้อมูล\n",
        "10. `np.cov()`: คำนวณเมทริกซ์ความสหสัมพันธ์ (covariance) ของอาร์เรย์สองอาร์เรย์\n",
        "11. `np.corrcoef()`: คำนวณเมทริกซ์ค่าสหสัมพันธ์ (correlation coefficient) ของอาร์เรย์สองอาร์เรย์\n",
        "12. `np.histogram2d()`: คำนวณฮิสโตแกรมแบบ 2 มิติ\n",
        "\n",
        "**การสร้างเลขสุ่ม:**\n",
        "\n",
        "13. `np.random.rand()`: สร้างเลขสุ่มจากการกระจายเดียว (uniform distribution) [0, 1]\n",
        "14. `np.random.randn()`: สร้างเลขสุ่มจากการกระจายมาตรฐาน (standard normal distribution)\n",
        "15. `np.random.randint()`: สร้างเลขจำนวนเต็มสุ่มในช่วงที่ระบุ\n",
        "16. `np.random.choice()`: สร้างตัวอย่างสุ่มจากอาร์เรย์\n",
        "\n",
        "\n"
      ]
    },
    {
      "cell_type": "code",
      "execution_count": null,
      "metadata": {
        "id": "6590d5"
      },
      "outputs": [],
      "source": [
        "M.std(axis = 0)"
      ]
    },
    {
      "cell_type": "code",
      "execution_count": null,
      "metadata": {
        "id": "14a732"
      },
      "outputs": [],
      "source": [
        "np.cov(M)"
      ]
    },
    {
      "cell_type": "code",
      "execution_count": null,
      "metadata": {
        "id": "00e3d3"
      },
      "outputs": [],
      "source": [
        "np.histogram(M)"
      ]
    },
    {
      "cell_type": "markdown",
      "metadata": {
        "collapsed": false,
        "id": "5d4b08"
      },
      "source": [
        "## Example: What is the Average Height of US Presidents?\n",
        "\n"
      ]
    },
    {
      "cell_type": "markdown",
      "metadata": {
        "collapsed": false,
        "id": "f221a6"
      },
      "source": [
        "ฟังก์ชัน aggregate ที่มีอยู่ใน NumPy จะมีประโยชน์อย่างมากสำหรับการสรุปค่าของข้อมูลที่มี\n",
        "\n",
        "ต่อไปนี้เป็นตัวอย่างง่าย ๆ เพื่อวิเคราะห์ความสูงของประธานาธิบดีสหรัฐฯทั้งหมด ข้อมูลนี้มีอยู่ในไฟล์ president\\_heights.csv\n"
      ]
    },
    {
      "cell_type": "code",
      "execution_count": null,
      "metadata": {
        "id": "8e34f9"
      },
      "outputs": [],
      "source": [
        "!head -10 president_heights.csv"
      ]
    },
    {
      "cell_type": "code",
      "execution_count": null,
      "metadata": {
        "id": "88b80f"
      },
      "outputs": [],
      "source": [
        "import pandas as pd\n",
        "data = pd.read_csv('https://github.com/toche7/DataSets/raw/main/president_heights.csv')\n",
        "heights = np.array(data['height(cm)'])\n",
        "print(heights)"
      ]
    },
    {
      "cell_type": "markdown",
      "metadata": {
        "collapsed": false,
        "id": "425c44"
      },
      "source": [
        "ตอนนี้เรามีอาร์เรย์ข้อมูลนี้แล้วเราสามารถคำนวณสถิติสรุปต่างๆได้:"
      ]
    },
    {
      "cell_type": "code",
      "execution_count": null,
      "metadata": {
        "id": "b422b0"
      },
      "outputs": [],
      "source": [
        "print(\"Mean height:       \", heights.mean())\n",
        "print(\"Standard deviation:\", heights.std())\n",
        "print(\"Minimum height:    \", heights.min())\n",
        "print(\"Maximum height:    \", heights.max())"
      ]
    },
    {
      "cell_type": "markdown",
      "metadata": {
        "collapsed": false,
        "id": "c8bfe8"
      },
      "source": [
        "จากการคำนวณข้างต้นจะได้ผลลัพธ์ออกมาค่าเดียว หากเราต้องการข้อมูลการกระจายอื่นๆ ต้องมีการคำนวณเพิ่มดังนี้\n"
      ]
    },
    {
      "cell_type": "code",
      "execution_count": null,
      "metadata": {
        "id": "86c52c"
      },
      "outputs": [],
      "source": [
        "print(\"25th percentile:   \", np.percentile(heights, 25))\n",
        "print(\"Median:            \", np.median(heights))\n",
        "print(\"75th percentile:   \", np.percentile(heights, 75))"
      ]
    },
    {
      "cell_type": "markdown",
      "metadata": {
        "collapsed": false,
        "id": "edcdc9"
      },
      "source": [
        "เราเห็นว่าความสูงเฉลี่ยของประธานาธิบดีสหรัฐฯอยู่ที่ 182 ซม. หรือสูงแค่หกฟุต\n",
        "\n",
        "เราจะมาลอง plot graph เพื่อที่จะได้เข้าใจข้อมูลมากยิ่งขึ้น\n"
      ]
    },
    {
      "cell_type": "code",
      "execution_count": null,
      "metadata": {
        "id": "d21adc"
      },
      "outputs": [],
      "source": [
        "import matplotlib.pyplot as plt"
      ]
    },
    {
      "cell_type": "code",
      "execution_count": null,
      "metadata": {
        "id": "a0a699"
      },
      "outputs": [],
      "source": [
        "plt.hist(heights)\n",
        "plt.title('Height Distribution of US Presidents')\n",
        "plt.xlabel('height (cm)')\n",
        "plt.ylabel('number');"
      ]
    },
    {
      "cell_type": "markdown",
      "metadata": {
        "collapsed": false,
        "id": "969697"
      },
      "source": []
    },
    {
      "cell_type": "markdown",
      "metadata": {
        "collapsed": false,
        "id": "ad9421"
      },
      "source": [
        "## Basic Statistic with Pandas"
      ]
    },
    {
      "cell_type": "markdown",
      "metadata": {
        "collapsed": false,
        "id": "7ab659"
      },
      "source": [
        "แม้ใน NumPy จะมีฟังก์ชันรองรับการคำนวณค่าสถิติต่าง ๆ อยู่บ้างแล้ว แต่เมื่อจะเทียบกับ Pandas นั้นเราจะพบว่า Pandas มีเครื่องมือหรือฟังก์ชันที่ทำขึ้นมาเพื่อการวิเคราะห์อย่างมากมาย"
      ]
    },
    {
      "cell_type": "markdown",
      "metadata": {
        "collapsed": false,
        "id": "dd2e13"
      },
      "source": [
        "เมทอดและฟังก์ชัน Pandas ที่เกี่ยวข้องกับสถิติและการวิเคราะห์ข้อมูล โดยแบ่งกลุ่มตามหมวดหมู่ พร้อมกับชื่อเมทอดและฟังก์ชันในรูปแบบ 'pd.method' และคำอธิบายในภาษาไทย\n",
        "\n",
        "**สถิติเบื้องต้น (Descriptive Statistics):**\n",
        "\n",
        "1. `pd.mean()`: คำนวณค่าเฉลี่ย (average) ของสมาชิกใน DataFrame หรือ Series\n",
        "2. `pd.median()`: คำนวณค่ามัธยฐาน (median) ของสมาชิกใน DataFrame หรือ Series\n",
        "3. `pd.sum()`: คำนวณผลรวมของสมาชิกใน DataFrame หรือ Series\n",
        "4. `pd.std()`: คำนวณค่าส่วนเบี่ยงมาตรฐาน (standard deviation) ของสมาชิกใน DataFrame หรือ Series\n",
        "5. `pd.var()`: คำนวณค่าความแปรปรวน (variance) ของสมาชิกใน DataFrame หรือ Series\n",
        "6. `pd.min()`: ค้นหาค่าน้อยที่สุดใน DataFrame หรือ Series\n",
        "7. `pd.max()`: ค้นหาค่ามากที่สุดใน DataFrame หรือ Series\n",
        "8. `pd.quantile()`: คำนวณควอนไทล์ (quantiles) ของข้อมูลใน DataFrame หรือ Series\n",
        "9. `pd.describe()`: สร้างสรุปสถิติรวมรายละเอียด เช่น จำนวน, เฉลี่ย, ส่วนเบี่ยงมาตรฐาน, ค่าน้อยที่สุด, ควอนไทล์ 25%, 50%, 75%, และค่ามากที่สุดใน DataFrame หรือ Series\n",
        "10. `pd.value_counts()`: นับค่าที่ไม่ซ้ำกันใน Series\n",
        "11. `pd.mode()`: ค้นหาโหมด (ค่าที่เกิดขึ้นบ่อยที่สุด) ใน Series\n",
        "12. `pd.cov()`: คำนวณเมทริกซ์สหสัมพันธ์ (covariance)\n",
        "13. `pd.corr()`: คำนวณเมทริกซ์ค่าสหสัมพันธ์ (correlation)\n",
        "14. `pd.rank()`: คำนวณอันดับของสมาชิกใน Series\n",
        "\n",
        "**การรวมข้อมูลและการจัดกลุ่ม (Aggregation and Grouping):**\n",
        "\n",
        "15. `pd.groupby()`: จัดกลุ่มข้อมูลตามหนึ่งหรือหลายคอลัมน์และคำนวณค่าสรุป\n",
        "16. `pd.agg()`: ใช้ฟังก์ชันการรวมค่าหลาย ๆ ฟังก์ชันในข้อมูลที่ถูกจัดกลุ่ม\n",
        "17. `pd.pivot_table()`: สร้างตารางหมุน (pivot table)\n",
        "18. `pd.crosstab()`: คำนวณตารางตรวจสอบง่าย ๆ ของตัวแปรสองตัวหรือมากกว่า\n",
        "19. `pd.resample()`: Resample ข้อมูลแบบ time-series\n",
        "20. `pd.rolling()`: สร้างมุมมอง rolling ของข้อมูล time-series และคำนวณสถิติ rolling\n",
        "\n",
        "**การทดสอบสมมติฐาน (Hypothesis Testing):**\n",
        "\n",
        "21. `pd.ttest_ind()`: ทดสอบสมมติฐานสองตัวอย่างอิสระกันด้วย t-test\n",
        "22. `pd.ttest_rel()`: ทดสอบสมมติฐานสองตัวอย่างที่เป็นคู่กันด้วย t-test\n",
        "23. `pd.chi2_contingency()`: ทดสอบสมมติฐานความเชื่อมโยงในตารางการจัดหมวดหมู่ (contingency table) ด้วยทดสอบ chi-squared\n",
        "\n",
        "**การเปลี่ยนแปลงข้อมูล (Data Transformation):**\n",
        "\n",
        "24. `pd.cut()`: แบ่งข้อมูลต่อเขตต่อช่วงของตัวแปรต่อเนื่องเป็นช่วงๆ\n",
        "25. `pd.qcut()`: แบ่งข้อมูลต่อควอนไทล์ (quantiles) ของตัวแปรต่อเนื่องเป็นกลุ่มๆ\n",
        "26. `pd.shift()`: ย้ายข้อมูลไปข้างหน้าหรือข้างหลังในเวลาหรือแกน\n",
        "\n",
        "**การสร้างแบบจำลองทางสถิติ (Statistical Modeling):**\n",
        "\n",
        "27. `pd.OLS()`: หาแบบจำลองเชิงเส้นด้วยวิธีมาตรฐานจาก Ordinary Least Squares\n",
        "28. `pd.logit()`: หาแบบจำลองโลจิสติกด้วยการจัดกลุ่มโมเดล\n",
        "29. `pd.GEE()`: หาแบบจำลองเชิงเส้นที่ใช้ Generalized Estimating Equations (GEE) models\n",
        "\n",
        "เหล่านี้เป็นเมทอดและฟังก์ชัน Pandas ที่ให้ความสามารถในการวิเคราะห์ทางสถิติ การรวมข้อมูล การเปลี่ยนแปลงข้อมูล การทดสอบสมมติฐาน และการสร้างแบบจำลอง เป็นเครื่องมือที่สำคัญสำหรับการจัดการและการวิเคราะห์ข้อมูลใน Python\n",
        "\n"
      ]
    },
    {
      "cell_type": "code",
      "execution_count": null,
      "metadata": {
        "id": "8557ae"
      },
      "outputs": [],
      "source": [
        "import pandas as pd\n",
        "df = pd.read_csv('https://github.com/toche7/DataSets/raw/main/president_heights.csv')"
      ]
    },
    {
      "cell_type": "code",
      "execution_count": null,
      "metadata": {
        "id": "efc7d8"
      },
      "outputs": [],
      "source": [
        "df"
      ]
    },
    {
      "cell_type": "code",
      "execution_count": null,
      "metadata": {
        "id": "882177"
      },
      "outputs": [],
      "source": [
        "df.max()"
      ]
    },
    {
      "cell_type": "code",
      "execution_count": null,
      "metadata": {
        "id": "537796"
      },
      "outputs": [],
      "source": [
        "df.min()"
      ]
    },
    {
      "cell_type": "code",
      "execution_count": null,
      "metadata": {
        "id": "df5471"
      },
      "outputs": [],
      "source": [
        "df['height(cm)'].min()"
      ]
    },
    {
      "cell_type": "code",
      "execution_count": null,
      "metadata": {
        "id": "06c957"
      },
      "outputs": [],
      "source": [
        "#dir(df)"
      ]
    },
    {
      "cell_type": "code",
      "execution_count": null,
      "metadata": {
        "id": "bdf24d"
      },
      "outputs": [],
      "source": [
        "df.columns"
      ]
    },
    {
      "cell_type": "code",
      "execution_count": null,
      "metadata": {
        "id": "387532"
      },
      "outputs": [],
      "source": [
        "df['height(cm)'].mean()"
      ]
    },
    {
      "cell_type": "code",
      "execution_count": null,
      "metadata": {
        "id": "a2871d"
      },
      "outputs": [],
      "source": [
        "df['height(cm)'].median()"
      ]
    },
    {
      "cell_type": "code",
      "execution_count": null,
      "metadata": {
        "id": "6f8265"
      },
      "outputs": [],
      "source": [
        "df['height(cm)'].std()"
      ]
    },
    {
      "cell_type": "code",
      "execution_count": null,
      "metadata": {
        "id": "cce0c6"
      },
      "outputs": [],
      "source": [
        "df['height(cm)'].var()"
      ]
    },
    {
      "cell_type": "code",
      "execution_count": null,
      "metadata": {
        "id": "b493c4"
      },
      "outputs": [],
      "source": [
        "df['height(cm)'].quantile([0.25,0.5,0.75])"
      ]
    },
    {
      "cell_type": "code",
      "execution_count": null,
      "metadata": {
        "id": "68f8ff"
      },
      "outputs": [],
      "source": [
        "#help(df.quantile)"
      ]
    },
    {
      "cell_type": "code",
      "execution_count": null,
      "metadata": {
        "id": "1bc96c"
      },
      "outputs": [],
      "source": [
        "df.describe()"
      ]
    },
    {
      "cell_type": "code",
      "execution_count": null,
      "metadata": {
        "id": "026e99"
      },
      "outputs": [],
      "source": [
        "df['height(cm)'].value_counts()"
      ]
    },
    {
      "cell_type": "code",
      "execution_count": null,
      "metadata": {
        "id": "a4abd2"
      },
      "outputs": [],
      "source": [
        "df['height(cm)'].value_counts()"
      ]
    },
    {
      "cell_type": "markdown",
      "metadata": {
        "collapsed": false,
        "id": "fba983"
      },
      "source": [
        "### Ex. 1\n",
        "\n",
        "จงปรับปรุงฟังก์ชันต่อไปนี้เพื่อคืนคำนวณหาค่า mean, median ของข้อมูล\n",
        "\n",
        "เช่น\n",
        "\n",
        "4, 8, 6, 5, 3, 2, 8, 8, 2, 10, 11\n",
        "\n",
        "คำตอบที่คาดหวัง\n",
        "\n",
        "mean = 6.090909090909091\n",
        "\n",
        "median = 6.0\n",
        "\n"
      ]
    },
    {
      "cell_type": "code",
      "execution_count": null,
      "metadata": {
        "nbgrader": {
          "grade": false,
          "grade_id": "ee22d1",
          "locked": false,
          "schema_version": 3,
          "solution": true,
          "task": false
        },
        "id": "ee22d1"
      },
      "outputs": [],
      "source": [
        "import numpy as np\n",
        "# Given data\n",
        "data = np.array([4, 8, 6, 5, 3, 2, 8, 8, 2, 10,11])\n",
        "\n",
        "def mm(data):\n",
        "    mean = None # You Code here\n",
        "    median = None # You Code here\n",
        "    ### BEGIN SOLUTION\n",
        "    mean = np.mean(data)\n",
        "    median = np.median(data)\n",
        "    ### END SOLUTION\n",
        "    return mean, median\n",
        "\n",
        "\n",
        "output = mm(data)\n",
        "print('mean =', output[0])\n",
        "print('median =', output[1])\n",
        "\n",
        "# Expeted Result:\n",
        "# mean = 6.090909090909091\n",
        "# median = 6.0"
      ]
    },
    {
      "cell_type": "code",
      "source": [
        "%pip install nose"
      ],
      "metadata": {
        "id": "Ic0K1J8ol4PV"
      },
      "execution_count": null,
      "outputs": []
    },
    {
      "cell_type": "code",
      "execution_count": null,
      "metadata": {
        "nbgrader": {
          "grade": true,
          "grade_id": "26229d",
          "locked": true,
          "points": 1,
          "schema_version": 3,
          "solution": false,
          "task": false
        },
        "id": "26229d"
      },
      "outputs": [],
      "source": [
        "# [Modify the tests below for your own problem]\n",
        "# Check that squares returns the correct output for several inputs:\n",
        "from nose.tools import assert_equal\n",
        "data = np.array([4, 8, 6, 5, 3, 2, 8, 8, 2, 10])\n",
        "output = mm(data)\n",
        "assert_equal(output, (5.6,5.5))"
      ]
    },
    {
      "cell_type": "markdown",
      "metadata": {
        "collapsed": false,
        "id": "e2150c"
      },
      "source": [
        "### Ex. 2\n",
        "\n",
        "จงปรับปรุงฟังก์ชันต่อไปนี้เพื่อคืนคำนวณหาค่า  Pearson correlation coefficient  และค่า covariance  ของข้อมูลสองชุด\n",
        "\n",
        "เช่น\n",
        "\n",
        "10, 20, 30, 40, 50\n",
        "\n",
        "15, 25, 35, 45, 55\n",
        "\n",
        "ค่าคำตอบที่คาดหวัง\n",
        "\n",
        "Pearson Correlation Coeff: 1.0\n",
        "\n",
        "Covariance: 250.0\n"
      ]
    },
    {
      "cell_type": "code",
      "execution_count": null,
      "metadata": {
        "nbgrader": {
          "grade": false,
          "grade_id": "fc69ab",
          "locked": false,
          "schema_version": 3,
          "solution": true,
          "task": false
        },
        "id": "fc69ab"
      },
      "outputs": [],
      "source": [
        "# Given data\n",
        "d1 = np.array([10, 20, 30, 40, 50])\n",
        "d2 = np.array([15, 25, 35, 45, 55])\n",
        "\n",
        "def ccfunc(data1,data2):\n",
        "    correlation_matrix =  None #You Code here\n",
        "    covariance_matrix =   None #You Code here\n",
        "    ### BEGIN SOLUTION\n",
        "    correlation_matrix = np.corrcoef(data1, data2)\n",
        "    covariance_matrix = np.cov(data1, data2)\n",
        "    ### END SOLUTION\n",
        "    return correlation_matrix[0][1],covariance_matrix[0][1]\n",
        "\n",
        "print('Pearson Correlation Coeff:', ccfunc(d1,d2)[0])\n",
        "print('Covariance:', ccfunc(d1,d2)[1])\n"
      ]
    },
    {
      "cell_type": "code",
      "execution_count": null,
      "metadata": {
        "nbgrader": {
          "grade": true,
          "grade_id": "a8e087",
          "locked": true,
          "points": 1,
          "schema_version": 3,
          "solution": false,
          "task": false
        },
        "id": "a8e087"
      },
      "outputs": [],
      "source": [
        "# [Modify the tests below for your own problem]\n",
        "# Check that squares returns the correct output for several inputs:\n",
        "data1 = np.array([10, 20, 30, 40, 50, 60])\n",
        "data2 = np.array([15, 25, 35, 45, 55, 30])\n",
        "from nose.tools import assert_equal, assert_almost_equal\n",
        "assert_almost_equal(ccfunc(data1,data2), (0.6546536707079771,175.0),5)\n"
      ]
    },
    {
      "cell_type": "markdown",
      "metadata": {
        "collapsed": false,
        "id": "5d99e6"
      },
      "source": [
        "### Ex. 3\n",
        "\n",
        "จาก Ex. 2. ให้ใช้วิธีการคำนวณด้วย Pandas เพื่อคำนวณหาค่า Correlation และค่า Covariance\n",
        "\n"
      ]
    },
    {
      "cell_type": "code",
      "execution_count": null,
      "metadata": {
        "nbgrader": {
          "grade": false,
          "grade_id": "8350d2",
          "locked": false,
          "schema_version": 3,
          "solution": true,
          "task": false
        },
        "id": "8350d2"
      },
      "outputs": [],
      "source": [
        "# Given data\n",
        "data = {\n",
        "    'data1': [10, 20, 30, 40, 50],\n",
        "    'data2': [15, 25, 35, 45, 55]\n",
        "}\n",
        "import pandas as pd\n",
        "\n",
        "\n",
        "def ccfuncPanda(data):\n",
        "    df = pd.DataFrame(data)\n",
        "    correlation_matrix =  None #You Code here\n",
        "    covariance_matrix =   None #You Code here\n",
        "    ### BEGIN SOLUTION\n",
        "    correlation_matrix = df.corr()\n",
        "    covariance_matrix = df.cov()\n",
        "    ### END SOLUTION\n",
        "    return correlation_matrix.loc['data1', 'data2'], covariance_matrix.loc['data1', 'data2']\n",
        "\n",
        "print('Pearson Correlation Coeff:', ccfuncPanda(data)[0])\n",
        "print('Covariance:', ccfuncPanda(data)[1])\n"
      ]
    },
    {
      "cell_type": "code",
      "execution_count": null,
      "metadata": {
        "nbgrader": {
          "grade": true,
          "grade_id": "9e8d3b",
          "locked": true,
          "points": 1,
          "schema_version": 3,
          "solution": false,
          "task": false
        },
        "id": "9e8d3b"
      },
      "outputs": [],
      "source": [
        "# [Modify the tests below for your own problem]\n",
        "# Check that squares returns the correct output for several inputs:\n",
        "\n",
        "data = {\n",
        "    'data1': [10, 20, 30, 40, 50, 60],\n",
        "    'data2': [15, 25, 35, 45, 55, 30]\n",
        "}\n",
        "\n",
        "from nose.tools import assert_almost_equal\n",
        "assert_almost_equal(ccfuncPanda(data)[0], 0.6546536707079771, 5)\n",
        "assert_almost_equal(ccfuncPanda(data)[1], 175, 5)"
      ]
    },
    {
      "cell_type": "code",
      "execution_count": null,
      "metadata": {
        "id": "352654"
      },
      "outputs": [],
      "source": []
    }
  ],
  "metadata": {
    "anaconda-cloud": {},
    "colab": {
      "provenance": [],
      "include_colab_link": true
    },
    "kernelspec": {
      "argv": [
        "/usr/bin/python3",
        "-m",
        "ipykernel",
        "--HistoryManager.enabled=False",
        "--matplotlib=inline",
        "-c",
        "%config InlineBackend.figure_formats = set(['retina'])\nimport matplotlib; matplotlib.rcParams['figure.figsize'] = (12, 7)",
        "-f",
        "{connection_file}"
      ],
      "display_name": "Python 3 (system-wide)",
      "env": {},
      "language": "python",
      "metadata": {
        "cocalc": {
          "description": "Python 3 programming language",
          "priority": 100,
          "url": "https://www.python.org/"
        }
      },
      "name": "python3",
      "resource_dir": "/ext/jupyter/kernels/python3"
    },
    "language_info": {
      "codemirror_mode": {
        "name": "ipython",
        "version": 3
      },
      "file_extension": ".py",
      "mimetype": "text/x-python",
      "name": "python",
      "nbconvert_exporter": "python",
      "pygments_lexer": "ipython3",
      "version": "3.10.12"
    },
    "nbgrader": {
      "__altered": false,
      "__hash": -3618366,
      "_root": {
        "entries": [
          [
            "size",
            5
          ],
          [
            "_root",
            {
              "entries": [
                [
                  "size",
                  1
                ],
                [
                  "_root",
                  {
                    "entries": [
                      [
                        "cocalc_minimal_stubs",
                        false
                      ]
                    ],
                    "ownerID": {}
                  }
                ],
                [
                  "__hash",
                  -335098374
                ],
                [
                  "__altered",
                  false
                ],
                [
                  "cocalc_minimal_stubs",
                  false
                ]
              ],
              "ownerID": {}
            }
          ],
          [
            "__hash",
            1043241747
          ],
          [
            "__altered",
            false
          ],
          [
            "cocalc_minimal_stubs",
            false
          ]
        ],
        "ownerID": {}
      },
      "cocalc_minimal_stubs": false,
      "size": 5
    }
  },
  "nbformat": 4,
  "nbformat_minor": 0
}