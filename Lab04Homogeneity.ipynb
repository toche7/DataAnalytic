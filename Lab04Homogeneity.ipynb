{
  "nbformat": 4,
  "nbformat_minor": 0,
  "metadata": {
    "colab": {
      "provenance": [],
      "authorship_tag": "ABX9TyNwABRlEMnUbfAeBzWLmEYF",
      "include_colab_link": true
    },
    "kernelspec": {
      "name": "python3",
      "display_name": "Python 3"
    },
    "language_info": {
      "name": "python"
    }
  },
  "cells": [
    {
      "cell_type": "markdown",
      "metadata": {
        "id": "view-in-github",
        "colab_type": "text"
      },
      "source": [
        "<a href=\"https://colab.research.google.com/github/toche7/DataAnalytic/blob/main/Lab04Homogeneity.ipynb\" target=\"_parent\"><img src=\"https://colab.research.google.com/assets/colab-badge.svg\" alt=\"Open In Colab\"/></a>"
      ]
    },
    {
      "cell_type": "markdown",
      "metadata": {
        "id": "cdd08c51"
      },
      "source": [
        "# Homogeneity of Variance"
      ]
    },
    {
      "cell_type": "markdown",
      "metadata": {
        "id": "f29dbeda"
      },
      "source": [
        "## 1. Import Libraries & Load Data"
      ]
    },
    {
      "cell_type": "code",
      "metadata": {
        "id": "7ce828a4"
      },
      "source": [
        "# Import Libraries\n",
        "import pandas as pd\n",
        "import numpy as np\n",
        "from scipy.stats import levene, pearsonr, spearmanr\n",
        "import seaborn as sns\n",
        "import matplotlib.pyplot as plt\n"
      ],
      "execution_count": null,
      "outputs": []
    },
    {
      "cell_type": "code",
      "source": [
        "# prompt: import iris dataset\n",
        "\n",
        "import pandas as pd\n",
        "import numpy as np\n",
        "from sklearn.datasets import load_iris\n",
        "iris = load_iris()\n",
        "iris_df = pd.DataFrame(data= np.c_[iris['data'], iris['target']],\n",
        "                     columns= iris['feature_names'] + ['target'])"
      ],
      "metadata": {
        "id": "q_daY1xRuSUU"
      },
      "execution_count": null,
      "outputs": []
    },
    {
      "cell_type": "code",
      "source": [
        "iris_df.head()"
      ],
      "metadata": {
        "id": "OLlSU2Mgv6E5"
      },
      "execution_count": null,
      "outputs": []
    },
    {
      "cell_type": "markdown",
      "metadata": {
        "id": "60d97d0e"
      },
      "source": [
        "## 2. ทดสอบ Homogeneity of Variance (Levene’s Test)"
      ]
    },
    {
      "cell_type": "markdown",
      "metadata": {
        "id": "1f97a6de"
      },
      "source": [
        "*   **นิยาม**: ทดสอบความเท่าเทียมของความแปรปรวนระหว่างกลุ่มตัวอย่าง\n",
        "*   **ตัวอย่างโค้ด**:"
      ]
    },
    {
      "cell_type": "code",
      "source": [
        "# prompt: # Levene's Test for iris dataset\n",
        "\n",
        "# เลือก column ที่ต้องการทดสอบ (เช่น 'sepal length (cm)') และแบ่งข้อมูลตามกลุ่มเป้าหมาย ('target')\n",
        "group0 = iris_df[iris_df['target'] == 0]['sepal length (cm)']\n",
        "group1 = iris_df[iris_df['target'] == 1]['sepal length (cm)']\n",
        "group2 = iris_df[iris_df['target'] == 1]['sepal width (cm)']\n",
        "\n",
        "# ทำ Levene's Test\n",
        "levene_statistic1, levene_p_value1 = levene(group0, group1)\n",
        "# แสดงผลลัพธ์\n",
        "print(f\"Levene's Statistic: {levene_statistic1}\")\n",
        "print(f\"Levene's p-value: {levene_p_value1}\")\n",
        "\n",
        "# ตัดสินใจโดยใช้ p-value\n",
        "alpha = 0.05\n",
        "if levene_p_value1 < alpha:\n",
        "    print(\"Reject null hypothesis: Variances are not equal (Heteroscedasticity)\")\n",
        "else:\n",
        "    print(\"Fail to reject null hypothesis: Variances are equal (Homoscedasticity)\")"
      ],
      "metadata": {
        "id": "4PIFUPAtuawg"
      },
      "execution_count": null,
      "outputs": []
    },
    {
      "cell_type": "code",
      "source": [
        "levene_statistic2, levene_p_value2 = levene(group0, group2)\n",
        "# แสดงผลลัพธ์\n",
        "print(f\"Levene's Statistic: {levene_statistic2}\")\n",
        "print(f\"Levene's p-value: {levene_p_value2}\")\n",
        "\n",
        "# ตัดสินใจโดยใช้ p-value\n",
        "alpha = 0.05\n",
        "if levene_p_value2 < alpha:\n",
        "    print(\"Reject null hypothesis: Variances are not equal (Heteroscedasticity)\")\n",
        "else:\n",
        "    print(\"Fail to reject null hypothesis: Variances are equal (Homoscedasticity)\")"
      ],
      "metadata": {
        "id": "pslYDrgMxUUG"
      },
      "execution_count": null,
      "outputs": []
    },
    {
      "cell_type": "markdown",
      "metadata": {
        "id": "42ba9f7a"
      },
      "source": [
        "## 3. คำนวณ Correlation"
      ]
    },
    {
      "cell_type": "markdown",
      "metadata": {
        "id": "94876b39"
      },
      "source": [
        "*   Pearson (linear): pearsonr(x, y)\n",
        "*   Spearman (rank-based): spearmanr(x, y)\n",
        "*   **ตัวอย่างโค้ด**:"
      ]
    },
    {
      "cell_type": "code",
      "source": [
        "# prompt: scatter plot of  sepal length and width  of Sentosa\n",
        "\n",
        "import matplotlib.pyplot as plt\n",
        "# Assuming 'Sentosa' corresponds to target == 0 in the iris dataset\n",
        "sentosa_df = iris_df[iris_df['target'] == 0]\n",
        "\n",
        "plt.figure(figsize=(8, 6))\n",
        "sns.scatterplot(x='sepal length (cm)', y='sepal width (cm)', data=sentosa_df)\n",
        "plt.title('Scatter Plot of Sepal Length vs Sepal Width for Sentosa')\n",
        "plt.xlabel('Sepal Length (cm)')\n",
        "plt.ylabel('Sepal Width (cm)')\n",
        "plt.show()"
      ],
      "metadata": {
        "id": "bqyWL6aXwTLN"
      },
      "execution_count": null,
      "outputs": []
    },
    {
      "cell_type": "code",
      "source": [
        "# prompt: correlation sepal length and width of iris dataset of sentosa\n",
        "\n",
        "# กรองข้อมูลสำหรับ Sentosa (target == 0)\n",
        "sentosa_df = iris_df[iris_df['target'] == 0]\n",
        "\n",
        "# คำนวณ Pearson correlation ระหว่าง sepal length และ sepal width สำหรับ Sentosa\n",
        "correlation_sepal_sentosa, p_value_sepal_sentosa = pearsonr(sentosa_df['sepal length (cm)'], sentosa_df['sepal width (cm)'])\n",
        "\n",
        "# แสดงผลลัพธ์\n",
        "print(f\"Pearson Correlation between Sepal Length and Sepal Width for Sentosa: {correlation_sepal_sentosa}\")\n",
        "print(f\"P-value: {p_value_sepal_sentosa}\")"
      ],
      "metadata": {
        "id": "IGmVUr7qu--S"
      },
      "execution_count": null,
      "outputs": []
    },
    {
      "cell_type": "code",
      "source": [],
      "metadata": {
        "id": "4HOcMtblwQmc"
      },
      "execution_count": null,
      "outputs": []
    },
    {
      "cell_type": "markdown",
      "metadata": {
        "id": "ba14f168"
      },
      "source": [
        "## 4. สร้าง Correlation Matrix"
      ]
    },
    {
      "cell_type": "code",
      "source": [
        "# prompt: create correlation matrix of sentosa\n",
        "\n",
        "import matplotlib.pyplot as plt\n",
        "# Select only the numerical columns for correlation matrix calculation\n",
        "sentosa_numeric_df = sentosa_df.drop(columns=['target'])\n",
        "\n",
        "# Calculate the correlation matrix\n",
        "correlation_matrix_sentosa = sentosa_numeric_df.corr()\n",
        "correlation_matrix_sentosa\n"
      ],
      "metadata": {
        "id": "y0M9r0m1wlKz"
      },
      "execution_count": null,
      "outputs": []
    },
    {
      "cell_type": "markdown",
      "metadata": {
        "id": "bde4d2e3"
      },
      "source": [
        "## 5. Visualization: Heatmap"
      ]
    },
    {
      "cell_type": "code",
      "source": [
        "# prompt: heat map of correlation_matrix_sentosa\n",
        "\n",
        "import matplotlib.pyplot as plt\n",
        "# Plot the heatmap\n",
        "plt.figure(figsize=(8, 6))\n",
        "sns.heatmap(correlation_matrix_sentosa, annot=True, cmap='coolwarm', fmt=\".2f\")\n",
        "plt.title('Correlation Heatmap for Sentosa Iris Data')\n",
        "plt.show()"
      ],
      "metadata": {
        "id": "yxHxVNZNw8Xm"
      },
      "execution_count": null,
      "outputs": []
    },
    {
      "cell_type": "markdown",
      "metadata": {
        "id": "53602774"
      },
      "source": [
        "## 7. Hands-on Exercise"
      ]
    },
    {
      "cell_type": "markdown",
      "metadata": {
        "id": "22f736ec"
      },
      "source": [
        "*   ใช้ของ iris ของสายพันธ์ Versicolor ในการวิเคราะห์\n",
        "*   ทดสอบ Levene’s test ของ petal length and petal width\n",
        "*   คำนวณ Pearson  ระหว่าง  petal length and petal width\n",
        "*   สร้าง heatmap ของ correlation matrix"
      ]
    },
    {
      "cell_type": "code",
      "source": [],
      "metadata": {
        "id": "lb6E8Od2y9oY"
      },
      "execution_count": null,
      "outputs": []
    },
    {
      "cell_type": "code",
      "source": [],
      "metadata": {
        "id": "Gd8DMBiK0j66"
      },
      "execution_count": null,
      "outputs": []
    },
    {
      "cell_type": "code",
      "source": [],
      "metadata": {
        "id": "WwsrSsW40j3h"
      },
      "execution_count": null,
      "outputs": []
    },
    {
      "cell_type": "code",
      "source": [],
      "metadata": {
        "id": "yZ0PeajZ0jze"
      },
      "execution_count": null,
      "outputs": []
    },
    {
      "cell_type": "code",
      "source": [],
      "metadata": {
        "id": "NECkvdWY0jvn"
      },
      "execution_count": null,
      "outputs": []
    },
    {
      "cell_type": "markdown",
      "source": [
        "### สรุป\n",
        "ความสำคัญของ Homogeneity of Variance & ความสัมพันธ์เชิงเส้น\n",
        "\n",
        "- **ยืนยันสมมติฐานก่อนทดสอบสถิติ**  \n",
        "  - การทดสอบ t-test หรือ ANOVA ต้องการความเท่าเทียมของความแปรปรวนระหว่างกลุ่ม (homogeneity)  \n",
        "  - Levene’s Test ช่วยตรวจสอบว่า variance ของแต่ละกลุ่มเท่ากันหรือไม่ ก่อนนำผลไปตีความ\n",
        "\n",
        "- **วิเคราะห์รูปแบบความสัมพันธ์ของตัวแปร**  \n",
        "  - ค่า Pearson บอกความสัมพันธ์เชิงเส้น เมื่อข้อมูลแจกแจงปกติ  \n",
        "  - ค่า Spearman บอกความสัมพันธ์เชิงอันดับ เหมาะกับข้อมูลมี outlier หรือความสัมพันธ์ไม่เป็นเส้นตรง  \n",
        "\n",
        "- **ชี้แนะแนวทางเลือกวิธีวิเคราะห์**  \n",
        "  - ถ้าพบ variance ไม่เท่ากัน อาจใช้วิธี non-parametric หรือปรับรูปแบบข้อมูลก่อน  \n",
        "  - เมื่อ correlation สูง อาจพิจารณาลด multicollinearity ก่อน modeling  \n",
        "\n",
        "- **ลดความเสี่ยงต่อผลลัพธ์บิดเบือน**  \n",
        "  - การไม่ตรวจ variance หรือ correlation อาจทำให้ผลสถิติผิดพลาดหรือโมเดล overfit  \n",
        "  - Visualization (heatmap, scatter plot) ช่วยให้เห็น outlier และ relationship ชัดเจน  \n",
        "\n",
        "- **เตรียมความพร้อมสำหรับขั้นตอน Modeling ถัดไป**  \n",
        "  - ผลลัพธ์จาก Module 5 ใช้ในการเลือกตัวแปร (feature selection)  \n",
        "  - ช่วยเพิ่มความมั่นใจว่าข้อมูลพร้อมสำหรับการสร้างโมเดลเชิงพยากรณ์  "
      ],
      "metadata": {
        "id": "dypLQ2Tdzbp2"
      }
    },
    {
      "cell_type": "code",
      "source": [],
      "metadata": {
        "id": "xcaXqkOCzct8"
      },
      "execution_count": null,
      "outputs": []
    }
  ]
}