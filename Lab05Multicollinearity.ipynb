{
  "nbformat": 4,
  "nbformat_minor": 0,
  "metadata": {
    "colab": {
      "provenance": [],
      "authorship_tag": "ABX9TyP4P819bWFzcN1Ty73WQOAX",
      "include_colab_link": true
    },
    "kernelspec": {
      "name": "python3",
      "display_name": "Python 3"
    },
    "language_info": {
      "name": "python"
    }
  },
  "cells": [
    {
      "cell_type": "markdown",
      "metadata": {
        "id": "view-in-github",
        "colab_type": "text"
      },
      "source": [
        "<a href=\"https://colab.research.google.com/github/toche7/DataAnalytic/blob/main/Lab05Multicollinearity.ipynb\" target=\"_parent\"><img src=\"https://colab.research.google.com/assets/colab-badge.svg\" alt=\"Open In Colab\"/></a>"
      ]
    },
    {
      "cell_type": "markdown",
      "metadata": {
        "id": "a3fac21e"
      },
      "source": [
        "# Multicollinearity, Residuals และการนำเสนอผลลัพธ์\n",
        "\n",
        "ใน Lab นี้ เราจะมาเรียนรู้เกี่ยวกับการตรวจสอบ Multicollinearity, การวิเคราะห์ Residuals และวิธีการนำเสนอผลลัพธ์ของโมเดล Linear Regression\n",
        "\n",
        "---\n",
        "\n",
        "## 1. Import Libraries & Load Data\n",
        "\n",
        "### วัตถุประสงค์:\n",
        "นำเข้าไลบรารีที่จำเป็นและโหลดข้อมูลที่เราได้เตรียมไว้แล้ว\n",
        "\n",
        "### คำแนะนำ:\n",
        "*   นำเข้าไลบรารี `pandas`, `numpy`, `statsmodels.api`, `matplotlib.pyplot`, `seaborn`.\n",
        "*   โหลด DataFrame ที่ผ่านการจัดการ Missing/Outlier และได้ตรวจสอบ homogeneity & correlation แล้ว (สมมติว่ามีไฟล์ `cleaned_data.csv` อยู่)"
      ]
    },
    {
      "cell_type": "code",
      "metadata": {
        "id": "0777dabc"
      },
      "source": [
        "# 1. Import Libraries & Load Data\n",
        "\n",
        "# Import Libraries\n",
        "import pandas as pd\n",
        "import numpy as np\n",
        "import statsmodels.api as sm\n",
        "from statsmodels.stats.outliers_influence import variance_inflation_factor\n",
        "import matplotlib.pyplot as plt\n",
        "import seaborn as sns\n",
        "\n",
        "np.random.seed(42)\n",
        "f1 = np.random.rand(100)\n",
        "data = {\n",
        "    'Feature1': f1,\n",
        "    'Feature2': f1   + 0.5 * np.random.rand(100), # มีความสัมพันธ์กับ Feature1\n",
        "    'Feature3': f1  + 0.3 * np.random.rand(100), # มีความสัมพันธ์กับ Feature1 บ้าง\n",
        "    'Feature4': np.random.rand(100), # ตัวแปรที่อาจไม่มีความสัมพันธ์\n",
        "    'Target': np.random.rand(100) * 3 + (np.random.rand(100) * 2) + (np.random.rand(100) * 1.5) + np.random.rand(100)\n",
        "}\n",
        "df = pd.DataFrame(data)\n",
        "print(\"Using dummy data with some correlation for demonstration.\")\n",
        "print(df.head())"
      ],
      "execution_count": null,
      "outputs": []
    },
    {
      "cell_type": "markdown",
      "metadata": {
        "id": "d3890558"
      },
      "source": [
        "## 2. ตรวจสอบ Multicollinearity ด้วย VIF\n",
        "\n",
        "### วัตถุประสงค์:\n",
        "ตรวจสอบปัญหา Multicollinearity ในตัวแปรอิสระโดยใช้ Variance Inflation Factor (VIF)\n",
        "\n",
        "### คำแนะนำ:\n",
        "*   เตรียม matrix `X` ของตัวแปรอิสระที่คุณจะใช้ในโมเดล\n",
        "*   คำนวณค่า VIF สำหรับแต่ละตัวแปรใน `X` โดยใช้ฟังก์ชัน `variance_inflation_factor` จาก `statsmodels.stats.outliers_influence`.\n",
        "*   แสดงผลค่า VIF ในตารางและตีความ:\n",
        "    *   ค่า VIF ที่สูง (มักใช้เกณฑ์ > 5 หรือ > 10) บ่งชี้ถึงปัญหา Multicollinearity ที่รุนแรง\n",
        "    *   ควรพิจารณาตัดตัวแปรที่มี VIF สูงออกจากโมเดล"
      ]
    },
    {
      "cell_type": "code",
      "metadata": {
        "id": "9a4dfc61"
      },
      "source": [
        "# 2. ตรวจสอบ Multicollinearity ด้วย VIF\n",
        "\n",
        "# Prepare independent variables matrix\n",
        "# *** ระบุชื่อคอลัมน์ของตัวแปรอิสระ (Independent Variables) ที่คุณต้องการตรวจสอบ Multicollinearity ***\n",
        "# *** แทนที่รายการด้านล่างด้วยชื่อคอลัมน์จริงของคุณ ***\n",
        "independent_variables_to_check_vif = ['Feature1', 'Feature2', 'Feature3', 'Feature4']\n",
        "\n",
        "X_vif = df[independent_variables_to_check_vif]\n",
        "\n",
        "# Add constant (intercept) for VIF calculation in statsmodels\n",
        "X_vif = sm.add_constant(X_vif)\n",
        "\n",
        "\n",
        "# Interpretation:\n",
        "# VIF = 1: No correlation with other variables\n",
        "# 1 < VIF < 5: Low to moderate correlation\n",
        "# VIF > 5 or 10: High multicollinearity, consider handling"
      ],
      "execution_count": null,
      "outputs": []
    },
    {
      "cell_type": "code",
      "source": [
        "X_vif"
      ],
      "metadata": {
        "id": "zgTDrPUJ68wr"
      },
      "execution_count": null,
      "outputs": []
    },
    {
      "cell_type": "code",
      "source": [
        "X_vif.values"
      ],
      "metadata": {
        "id": "11emXPpT8GEJ"
      },
      "execution_count": null,
      "outputs": []
    },
    {
      "cell_type": "code",
      "source": [
        "\n",
        "# Calculate VIF for each variable\n",
        "vif_data = pd.DataFrame()\n",
        "vif_data[\"feature\"] = X_vif.columns\n",
        "vif_data[\"VIF\"] = [variance_inflation_factor(X_vif.values, i)\n",
        "                   for i in range(len(X_vif.columns))]\n",
        "\n",
        "# Display and interpret results\n",
        "print(\"VIF Results:\")\n",
        "print(vif_data)"
      ],
      "metadata": {
        "id": "bgx2wy3q66LN"
      },
      "execution_count": null,
      "outputs": []
    },
    {
      "cell_type": "markdown",
      "metadata": {
        "id": "b2ec26e0"
      },
      "source": [
        "## 3. จัดการ Multicollinearity\n",
        "\n",
        "### วัตถุประสงค์:\n",
        "จัดการกับปัญหา Multicollinearity ที่ตรวจพบในขั้นตอนก่อนหน้า\n",
        "\n",
        "### คำแนะนำ:\n",
        "*   จากผลการตรวจสอบ VIF ให้พิจารณาเลือกตัดตัวแปรที่มีค่า VIF สูงออก\n",
        "*   หรืออาจพิจารณาการรวมกลุ่มตัวแปรที่มีความสัมพันธ์กันสูง\n"
      ]
    },
    {
      "cell_type": "code",
      "metadata": {
        "id": "18337071"
      },
      "source": [
        "# prompt: remove feature 1\n",
        "\n",
        "# 3. จัดการ Multicollinearity\n",
        "\n",
        "# Prepare independent variables matrix AFTER handling multicollinearity\n",
        "# *** จากผล VIF ให้เลือกตัวแปรอิสระที่ต้องการใช้ในโมเดลสุดท้าย ***\n",
        "# *** แทนที่รายการด้านล่างด้วยชื่อคอลัมน์จริงของคุณ ***\n",
        "independent_variables_final = ['Feature2', 'Feature3', 'Feature4'] # Example: Removing Feature1\n",
        "\n",
        "X = df[independent_variables_final]\n",
        "y = df['Target']\n",
        "\n",
        "# Add a constant (intercept) to the independent variables matrix for the regression model\n",
        "X = sm.add_constant(X)\n",
        "\n",
        "print(\"\\nIndependent variables used in the final model:\")\n",
        "print(X.head())"
      ],
      "execution_count": null,
      "outputs": []
    },
    {
      "cell_type": "code",
      "source": [
        "# prompt: check VIF again\n",
        "\n",
        "import pandas as pd\n",
        "# Re-calculate VIF for the final set of independent variables\n",
        "X_vif_final = X.drop(columns=['const']) # Drop the constant column for VIF calculation\n",
        "\n",
        "# Add constant back for VIF calculation\n",
        "X_vif_final = sm.add_constant(X_vif_final)\n",
        "\n",
        "\n",
        "# Calculate VIF for each variable in the final set\n",
        "vif_data_final = pd.DataFrame()\n",
        "vif_data_final[\"feature\"] = X_vif_final.columns\n",
        "vif_data_final[\"VIF\"] = [variance_inflation_factor(X_vif_final.values, i)\n",
        "                         for i in range(len(X_vif_final.columns))]\n",
        "\n",
        "# Display and interpret results for the final model variables\n",
        "print(\"\\nRe-calculated VIF Results for Final Model Variables:\")\n",
        "vif_data_final\n",
        "\n",
        "# Interpretation:\n",
        "# VIF = 1: No correlation with other variables\n",
        "# 1 < VIF < 5: Low to moderate correlation\n",
        "# VIF > 5 or 10: High multicollinearity, consider handling (if not already done)"
      ],
      "metadata": {
        "id": "38HvFchl9CsV"
      },
      "execution_count": null,
      "outputs": []
    },
    {
      "cell_type": "markdown",
      "metadata": {
        "id": "a67c67c0"
      },
      "source": [
        "## 4. Fit Linear Regression Model & วิเคราะห์ Residuals\n",
        "\n",
        "### วัตถุประสงค์:\n",
        "สร้างโมเดล Linear Regression และวิเคราะห์ Residuals เพื่อตรวจสอบข้อสมมติฐานของ OLS\n",
        "\n",
        "### คำแนะนำ:\n",
        "*   ใช้ไลบรารี `statsmodels.api` เพื่อสร้างและ fit โมเดล Linear Regression (OLS - Ordinary Least Squares) โดยใช้ตัวแปรอิสระที่ผ่านการจัดการ Multicollinearity แล้ว\n",
        "*   แสดงตารางสรุปผลลัพธ์ของโมเดล (`model.summary()`) เพื่อดูค่าสัมประสิทธิ์ (coef), p-value, ค่า R-squared และข้อมูลทางสถิติอื่นๆ\n",
        "*   ดึงค่า Residuals (`model.resid`) และ Fitted Values (`model.fittedvalues`) จากโมเดลที่ fit แล้ว"
      ]
    },
    {
      "cell_type": "code",
      "metadata": {
        "id": "1d07ec29"
      },
      "source": [
        "# 4. Fit Linear Regression Model & วิเคราะห์ Residuals\n",
        "\n",
        "# *** Specify the name of the dependent variable (Target Variable) ***\n",
        "# *** Replace 'Target' with your actual column name ***\n",
        "dependent_variable_for_model = 'Target'\n",
        "\n",
        "# Prepare data for the model using variables after multicollinearity handling\n",
        "X_model = df[independent_variables_final]\n",
        "y_model = df[dependent_variable_for_model]\n",
        "\n",
        "# Add constant (intercept) to independent variables for OLS model\n",
        "X_model = sm.add_constant(X_model)\n",
        "\n",
        "# Create and Fit the Linear Regression Model (OLS)\n",
        "model = sm.OLS(y_model, X_model).fit()\n",
        "\n",
        "# Print the model summary\n",
        "print(\"\\nModel Summary:\")\n",
        "print(model.summary())\n",
        "\n",
        "# Extract residuals and fitted values\n",
        "residuals = model.resid\n",
        "fitted_values = model.fittedvalues\n",
        "\n",
        "print(\"\\nResiduals and Fitted Values extracted from the model.\")"
      ],
      "execution_count": null,
      "outputs": []
    },
    {
      "cell_type": "markdown",
      "metadata": {
        "id": "ce032e42"
      },
      "source": [
        "## 5. Visualize Residuals\n",
        "\n",
        "### วัตถุประสงค์:\n",
        "แสดงภาพ Residuals เพื่อตรวจสอบการกระจายตัว (Normality) และรูปแบบ (Pattern) ของ Residuals\n",
        "\n",
        "### คำแนะนำ:\n",
        "*   **Histogram / KDE Plot**: พล็อต histogram หรือ Kernel Density Estimate (KDE) ของ Residuals เพื่อดูว่ามีการกระจายตัวแบบปกติ (Normal Distribution) หรือไม่\n",
        "*   **QQ-plot**: สร้าง Quantile-Quantile Plot (QQ-plot) ของ Residuals เพื่อเปรียบเทียบการกระจายตัวของ Residuals กับการกระจายตัวแบบปกติ หากจุดอยู่บนเส้นตรง แสดงว่า Residuals มีการกระจายตัวใกล้เคียงปกติ\n",
        "*   **Scatter Plot (Fitted vs. Residuals)**: พล็อต scatter plot ระหว่าง Fitted Values บนแกน X และ Residuals บนแกน Y เพื่อตรวจสอบว่ามีรูปแบบ (pattern) ใดๆ หรือไม่ หากไม่มีรูปแบบที่ชัดเจนและ Residuals กระจายตัวรอบๆ แกน Y = 0 แสดงว่าข้อสมมติฐานเรื่อง Homoscedasticity (ความแปรปรวนของ Residuals คงที่) อาจเป็นจริง"
      ]
    },
    {
      "cell_type": "code",
      "metadata": {
        "id": "30478564"
      },
      "source": [
        "# 5. Visualize Residuals\n",
        "\n",
        "# Set seaborn style for plots\n",
        "sns.set_style(\"whitegrid\")\n",
        "\n",
        "# Histogram / KDE of residuals\n",
        "plt.figure(figsize=(12, 5))\n",
        "plt.subplot(1, 2, 1)\n",
        "sns.histplot(residuals, kde=True)\n",
        "plt.title(\"Histogram of Residuals\")\n",
        "plt.xlabel(\"Residuals\")\n",
        "plt.ylabel(\"Frequency\")\n",
        "\n",
        "# QQ-plot to check normality\n",
        "plt.subplot(1, 2, 2)\n",
        "sm.qqplot(residuals, line='s') # line='s' plots a standard normal line\n",
        "plt.title(\"QQ-plot of Residuals\")\n",
        "plt.show()\n",
        "\n",
        "# Scatter plot (fitted vs. residuals) to check for patterns\n",
        "plt.figure(figsize=(8, 5))\n",
        "plt.scatter(fitted_values, residuals, alpha=0.5)\n",
        "plt.axhline(y=0, color='r', linestyle='--') # Add a horizontal line at y=0\n",
        "plt.title(\"Residuals vs. Fitted Values\")\n",
        "plt.xlabel(\"Fitted Values\")\n",
        "plt.ylabel(\"Residuals\")\n",
        "plt.show()\n",
        "\n",
        "print(\"Residual plots generated.\")"
      ],
      "execution_count": null,
      "outputs": []
    },
    {
      "cell_type": "markdown",
      "metadata": {
        "id": "2eb46039"
      },
      "source": [
        "## 6. Prepare Presentation Charts\n",
        "\n",
        "### วัตถุประสงค์:\n",
        "สร้างกราฟเพื่อนำเสนอผลลัพธ์ของโมเดลและการวิเคราะห์\n",
        "\n",
        "### คำแนะนำ:\n",
        "*   **Ranking Chart**: จัดเรียงลำดับความสำคัญของตัวแปร (เช่น ตามค่าสัมประสิทธิ์หรือ p-value) และนำเสนอด้วย Bar Chart\n",
        "*   **Comparison Chart**: ใช้ Grouped Bar Chart หรือ Stacked Bar Chart เพื่อเปรียบเทียบค่าหรือผลกระทบระหว่างกลุ่มต่างๆ\n",
        "*   **Trend Chart**: หากมีการวิเคราะห์ข้อมูลอนุกรมเวลาหรือมีตัวแปรที่มีลำดับ ให้ใช้ Line Plot เพื่อแสดงแนวโน้มการเปลี่ยนแปลง\n",
        "*   **Frequency Table**: ใช้ `value_counts()` เพื่อนับความถี่ของค่าในตัวแปร categorical และนำเสนอด้วย Bar Chart"
      ]
    },
    {
      "cell_type": "code",
      "metadata": {
        "id": "2a8087d1"
      },
      "source": [
        "# 6. Prepare Presentation Charts\n",
        "\n",
        "# Example of creating presentation charts (please adjust as needed)\n",
        "\n",
        "# Ranking: Bar chart of Coefficients\n",
        "# Extract coefficients from the model\n",
        "coefficients = model.params.drop('const') # Exclude intercept\n",
        "coefficients = coefficients.sort_values(ascending=False) # Sort\n",
        "\n",
        "plt.figure(figsize=(10, 6))\n",
        "coefficients.plot(kind='bar')\n",
        "plt.title(\"Ranking of Variable Coefficients\")\n",
        "plt.ylabel(\"Coefficient Value\")\n",
        "plt.xticks(rotation=45, ha='right')\n",
        "plt.tight_layout()\n",
        "plt.show()\n",
        "\n",
        "# Example: Comparison - Grouped Bar Chart (Assuming you have a categorical variable 'Category' and want to compare the mean of 'Target' by group)\n",
        "# if 'Category' in df.columns:\n",
        "#     # Calculate mean of target per category\n",
        "#     mean_target_by_category = df.groupby('Category')[dependent_variable_for_model].mean()\n",
        "#     plt.figure(figsize=(8, 5))\n",
        "#     mean_target_by_category.plot(kind='bar')\n",
        "#     plt.title(f\"Average {dependent_variable_for_model} by Category\")\n",
        "#     plt.xlabel(\"Category\")\n",
        "#     plt.ylabel(f\"Average {dependent_variable_for_model}\")\n",
        "#     plt.xticks(rotation=45, ha='right')\n",
        "#     plt.tight_layout()\n",
        "#     plt.show()\n",
        "\n",
        "# Example: Frequency Table + Bar Chart for a Categorical Variable (if applicable)\n",
        "# if 'Category' in df.columns:\n",
        "#     category_counts = df['Category'].value_counts()\n",
        "#     plt.figure(figsize=(8, 5))\n",
        "#     category_counts.plot(kind='bar')\n",
        "#     plt.title(\"Frequency of Categories\")\n",
        "#     plt.xlabel(\"Category\")\n",
        "#     plt.ylabel(\"Count\")\n",
        "#     plt.xticks(rotation=45, ha='right')\n",
        "#     plt.tight_layout()\n",
        "#     plt.show()\n",
        "\n",
        "print(\"Example presentation charts generated.\")"
      ],
      "execution_count": null,
      "outputs": []
    },
    {
      "cell_type": "markdown",
      "source": [
        "### สรุป\n",
        "ความสำคัญของ Multicollinearity, Residuals และการนำเสนอผลลัพธ์\n",
        "\n",
        "- **ป้องกันปัญหา Multicollinearity**  \n",
        "  - ช่วยระบุและลดความซ้ำซ้อนของตัวแปรอิสระก่อนสร้างโมเดล  \n",
        "  - ปรับปรุงความเสถียรของค่าสัมประสิทธิ์ (coefficients) และค่าคาดการณ์  \n",
        "\n",
        "- **ยืนยันสมมติฐานของ Linear Regression**  \n",
        "  - ตรวจสอบ residuals เพื่อดูว่าการแจกแจงใกล้เคียงปกติ (normality) และไม่มี pattern ที่บ่งชี้ปัญหา  \n",
        "  - ช่วยให้มั่นใจว่าโมเดล OLS มีความถูกต้องและผลลัพธ์เชื่อถือได้  \n",
        "\n",
        "- **ปรับปรุงการเลือกตัวแปร (Feature Selection)**  \n",
        "  - ใช้ VIF ในการตัดตัวแปรที่มี multicollinearity สูง หรือพิจารณาใช้เทคนิคเชิงมิติ (PCA, Regularization)  \n",
        "  - ส่งเสริมการสร้างโมเดลที่กระชับและมีประสิทธิภาพ  \n",
        "\n",
        "- **เตรียมการนำเสนอผลลัพธ์อย่างมืออาชีพ**  \n",
        "  - สร้างกราฟและตาราง (ranking, comparison, trend, frequency) เพื่อสื่อสารข้อค้นพบได้ชัดเจน  \n",
        "  - ช่วยให้ผู้ฟังเข้าใจจุดเด่น–จุดด้อยของโมเดล และข้อเสนอแนะเบื้องต้น  \n",
        "\n",
        "- **เชื่อมต่อกับขั้นตอน Modeling ถัดไป**  \n",
        "  - เป็นจุดตรวจคุณภาพข้อมูลก่อนใช้งานจริงในขั้นตอน predictive modeling  \n",
        "  - ลดความเสี่ยงของการ overfit และเพิ่มความ generalizability ของโมเดล  "
      ],
      "metadata": {
        "id": "NqOScdha9-i7"
      }
    },
    {
      "cell_type": "code",
      "source": [],
      "metadata": {
        "id": "mO4m1Oi5-NA2"
      },
      "execution_count": null,
      "outputs": []
    }
  ]
}