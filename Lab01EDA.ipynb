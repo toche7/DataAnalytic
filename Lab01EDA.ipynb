{
  "nbformat": 4,
  "nbformat_minor": 0,
  "metadata": {
    "colab": {
      "provenance": [],
      "authorship_tag": "ABX9TyPd/axjfKOsmpLOqpz6WoG+",
      "include_colab_link": true
    },
    "kernelspec": {
      "name": "python3",
      "display_name": "Python 3"
    },
    "language_info": {
      "name": "python"
    }
  },
  "cells": [
    {
      "cell_type": "markdown",
      "metadata": {
        "id": "view-in-github",
        "colab_type": "text"
      },
      "source": [
        "<a href=\"https://colab.research.google.com/github/toche7/DataAnalytic/blob/main/Lab01EDA.ipynb\" target=\"_parent\"><img src=\"https://colab.research.google.com/assets/colab-badge.svg\" alt=\"Open In Colab\"/></a>"
      ]
    },
    {
      "cell_type": "markdown",
      "metadata": {
        "id": "09b2b044"
      },
      "source": [
        "# การตรวจสอบและจัดการ Data Errors และ Missing Values เบื้องต้น\n",
        "\n",
        "## 1. Import Libraries และโหลดข้อมูล\n",
        "\n",
        "ในส่วนนี้ เราจะนำเข้าไลบรารีที่จำเป็นและโหลดข้อมูลตัวอย่างเพื่อใช้ในการวิเคราะห์"
      ]
    },
    {
      "cell_type": "code",
      "source": [
        "# prompt: import titanic data\n",
        "\n",
        "!wget https://raw.githubusercontent.com/datasciencedojo/datasets/master/titanic.csv\n",
        "\n",
        "import pandas as pd\n",
        "\n",
        "# Load the dataset\n",
        "df = pd.read_csv('titanic.csv')\n",
        "\n",
        "# Display the first few rows to understand the data\n",
        "print(df.head())"
      ],
      "metadata": {
        "id": "eYEbXlI4BQvv"
      },
      "execution_count": null,
      "outputs": []
    },
    {
      "cell_type": "code",
      "source": [
        "df.info()"
      ],
      "metadata": {
        "id": "qOC2zRacBQlS"
      },
      "execution_count": null,
      "outputs": []
    },
    {
      "cell_type": "code",
      "metadata": {
        "id": "507c35e7"
      },
      "source": [
        "import pandas as pd\n",
        "import missingno as msno\n",
        "\n",
        "# โหลด DataFrame ตัวอย่าง (สามารถแทนที่ด้วยไฟล์ข้อมูลของคุณ)\n",
        "# ตัวอย่าง: สร้าง DataFrame สุ่มเพื่อสาธิต\n",
        "import numpy as np\n",
        "data = {\n",
        "    'col1': np.random.rand(10),\n",
        "    'col2': np.random.randint(1, 100, 10),\n",
        "    'col3': ['A', 'B', 'C', 'A', 'D', 'B', 'C', 'A', 'D', 'E']\n",
        "}\n",
        "df = pd.DataFrame(data)\n",
        "\n",
        "# เพิ่มค่า NaN เพื่อสาธิต missing values\n",
        "df.loc[[2, 5], 'col1'] = np.nan\n",
        "df.loc[7, 'col2'] = np.nan\n",
        "df.loc[0, 'col3'] = np.nan\n",
        "\n",
        "print(\"แสดง DataFrame ตัวอย่าง:\")\n",
        "display(df)"
      ],
      "execution_count": null,
      "outputs": []
    },
    {
      "cell_type": "markdown",
      "metadata": {
        "id": "3d5ba28b"
      },
      "source": [
        "## 2. ตรวจสอบ Data Errors เบื้องต้น\n",
        "\n",
        "เราจะทำการตรวจสอบประเภทข้อมูลของแต่ละคอลัมน์และแปลงค่าที่ไม่ถูกต้องให้เป็นตัวเลข"
      ]
    },
    {
      "cell_type": "markdown",
      "metadata": {
        "id": "d2c1b8af"
      },
      "source": [
        "### 2.1 ตรวจสอบ dtype ของแต่ละคอลัมน์"
      ]
    },
    {
      "cell_type": "code",
      "metadata": {
        "id": "5d6640ae"
      },
      "source": [
        "print(\"\\nตรวจสอบ dtype ของแต่ละคอลัมน์:\")\n",
        "display(df.dtypes)"
      ],
      "execution_count": null,
      "outputs": []
    },
    {
      "cell_type": "markdown",
      "metadata": {
        "id": "4144eca3"
      },
      "source": [
        "### 2.2 แปลงค่าที่ผิดรูปเป็นตัวเลขด้วย `pd.to_numeric(errors='coerce')`\n",
        "\n",
        "คำสั่งนี้จะพยายามแปลงค่าในคอลัมน์ให้เป็นตัวเลข หากแปลงไม่ได้ จะแทนที่ด้วย `NaN` (Not a Number)"
      ]
    },
    {
      "cell_type": "code",
      "metadata": {
        "id": "13fafa39"
      },
      "source": [
        "# สร้างคอลัมน์ที่มีค่าผิดพลาดเพื่อสาธิต\n",
        "df['col4'] = ['1', '2', '3', 'four', '5', '6', '7', '8', '9', '10']\n",
        "print(\"\\nDataFrame ก่อนแปลงค่าผิดพลาด:\")\n",
        "display(df)\n"
      ],
      "execution_count": null,
      "outputs": []
    },
    {
      "cell_type": "code",
      "source": [
        "\n",
        "df['col4'] = pd.to_numeric(df['col4'], errors='coerce')\n",
        "print(\"\\nDataFrame หลังแปลงค่าผิดพลาด:\")\n",
        "display(df)"
      ],
      "metadata": {
        "id": "rL4e4SpeRYGc"
      },
      "execution_count": null,
      "outputs": []
    },
    {
      "cell_type": "markdown",
      "metadata": {
        "id": "ae636440"
      },
      "source": [
        "### 2.3 แสดงตัวอย่างแถวที่มีค่าผิดพลาด (NaN ที่เกิดจากการแปลง)"
      ]
    },
    {
      "cell_type": "code",
      "metadata": {
        "id": "45741a04"
      },
      "source": [
        "print(\"\\nแสดงแถวที่มีค่าผิดพลาดใน 'col4':\")\n",
        "display(df[df['col4'].isna()])"
      ],
      "execution_count": null,
      "outputs": []
    },
    {
      "cell_type": "markdown",
      "metadata": {
        "id": "0ec4937b"
      },
      "source": [
        "## 3. การตรวจหา Missing Values\n",
        "\n",
        "Missing values หรือค่าที่หายไป เป็นปัญหาที่พบบ่อยในชุดข้อมูล เราจะมาดูวิธีการตรวจหาค่าเหล่านี้"
      ]
    },
    {
      "cell_type": "markdown",
      "metadata": {
        "id": "2ba42cf6"
      },
      "source": [
        "### 3.1 นับจำนวน missing ต่อคอลัมน์"
      ]
    },
    {
      "cell_type": "code",
      "metadata": {
        "id": "ed1248bc"
      },
      "source": [
        "print(\"\\nจำนวน missing ต่อคอลัมน์:\")\n",
        "display(df.isnull().sum())"
      ],
      "execution_count": null,
      "outputs": []
    },
    {
      "cell_type": "markdown",
      "metadata": {
        "id": "6be18a1d"
      },
      "source": [
        "### 3.2 แสดง missing matrix ด้วย `msno.matrix(df)`\n",
        "\n",
        "Missingno เป็นไลบรารีที่ช่วยให้เห็นภาพรวมของ missing values ได้ง่ายขึ้น `msno.matrix` จะแสดงภาพเป็นเมทริกซ์ที่เห็นตำแหน่งของค่าที่หายไป"
      ]
    },
    {
      "cell_type": "code",
      "metadata": {
        "id": "45d38aec"
      },
      "source": [
        "print(\"\\nMissing matrix:\")\n",
        "msno.matrix(df)"
      ],
      "execution_count": null,
      "outputs": []
    },
    {
      "cell_type": "markdown",
      "metadata": {
        "id": "bc89808f"
      },
      "source": [
        "### 3.3 แสดง bar chart ของ missing ด้วย `msno.bar(df)`\n",
        "\n",
        "`msno.bar` จะแสดงเป็นกราฟแท่งที่บอกสัดส่วนของข้อมูลที่มีอยู่ (ไม่ใช่ missing) ในแต่ละคอลัมน์"
      ]
    },
    {
      "cell_type": "code",
      "metadata": {
        "id": "ba2d3264"
      },
      "source": [
        "print(\"\\nBar chart ของ missing values:\")\n",
        "msno.bar(df)"
      ],
      "execution_count": null,
      "outputs": []
    },
    {
      "cell_type": "markdown",
      "metadata": {
        "id": "697cbb09"
      },
      "source": [
        "## 4. กลยุทธ์การจัดการ Missing Values\n",
        "\n",
        "เมื่อพบ missing values แล้ว เรามีหลายวิธีในการจัดการกับมัน ขึ้นอยู่กับลักษณะของข้อมูลและปัญหาที่เราต้องการแก้ไข"
      ]
    },
    {
      "cell_type": "markdown",
      "metadata": {
        "id": "26d75e17"
      },
      "source": [
        "### 4.1 Drop\n",
        "\n",
        "การลบแถวหรือคอลัมน์ที่มี missing values ทิ้ง"
      ]
    },
    {
      "cell_type": "code",
      "metadata": {
        "id": "d39c15fd"
      },
      "source": [
        "print(\"\\nDataFrame เดิม:\")\n",
        "display(df)\n",
        "\n",
        "# สร้างสำเนาเพื่อไม่ให้กระทบ DataFrame เดิม\n",
        "df_dropped = df.copy()\n",
        "\n",
        "# ลบแถวที่มีค่า missing ในคอลัมน์ 'col1' หรือ 'col2'\n",
        "df_dropped.dropna(subset=['col1', 'col2'], inplace=True)\n",
        "print(\"\\nDataFrame หลัง dropna ใน 'col1' และ 'col2':\")\n",
        "display(df_dropped)"
      ],
      "execution_count": null,
      "outputs": []
    },
    {
      "cell_type": "markdown",
      "metadata": {
        "id": "fe0c0e63"
      },
      "source": [
        "### 4.2 Fill ด้วยสถิติ\n",
        "\n",
        "การเติมค่า missing ด้วยค่าทางสถิติ เช่น ค่าเฉลี่ย หรือ ค่ามัธยฐาน ของคอลัมน์นั้นๆ"
      ]
    },
    {
      "cell_type": "markdown",
      "metadata": {
        "id": "8f24f110"
      },
      "source": [
        "#### ค่าเฉลี่ย: `df[col].fillna(df[col].mean())`"
      ]
    },
    {
      "cell_type": "code",
      "metadata": {
        "id": "62db1a83"
      },
      "source": [
        "df_filled_mean = df.copy()\n",
        "df_filled_mean['col1'].fillna(df_filled_mean['col1'].mean(), inplace=True)\n",
        "print(\"\\nDataFrame หลัง fillna ด้วยค่าเฉลี่ยใน 'col1':\")\n",
        "display(df_filled_mean)"
      ],
      "execution_count": null,
      "outputs": []
    },
    {
      "cell_type": "markdown",
      "metadata": {
        "id": "f8ffba7c"
      },
      "source": [
        "#### ค่ามัธยฐาน: `df[col].fillna(df[col].median())`"
      ]
    },
    {
      "cell_type": "code",
      "metadata": {
        "id": "fb98235e"
      },
      "source": [
        "df_filled_median = df.copy()\n",
        "df_filled_median['col2'].fillna(df_filled_median['col2'].median(), inplace=True)\n",
        "print(\"\\nDataFrame หลัง fillna ด้วยค่ามัธยฐานใน 'col2':\")\n",
        "display(df_filled_median)"
      ],
      "execution_count": null,
      "outputs": []
    },
    {
      "cell_type": "markdown",
      "metadata": {
        "id": "e1edc69a"
      },
      "source": [
        "### 4.3 Fill แบบ Forward/Backward\n",
        "\n",
        "การเติมค่า missing ด้วยค่าจากแถวก่อนหน้า (ffill) หรือแถวถัดไป (bfill)"
      ]
    },
    {
      "cell_type": "markdown",
      "metadata": {
        "id": "13ce9bbf"
      },
      "source": [
        "#### `df.fillna(method='ffill')` / `df.fillna(method='bfill')`"
      ]
    },
    {
      "cell_type": "code",
      "metadata": {
        "id": "ad7a23a5"
      },
      "source": [
        "df_filled_ffill = df.copy()\n",
        "df_filled_ffill.fillna(method='ffill', inplace=True)\n",
        "print(\"\\nDataFrame หลัง fillna ด้วย method='ffill':\")\n",
        "display(df_filled_ffill)\n",
        "\n"
      ],
      "execution_count": null,
      "outputs": []
    },
    {
      "cell_type": "code",
      "source": [
        "df_filled_bfill = df.copy()\n",
        "df_filled_bfill.fillna(method='bfill', inplace=True)\n",
        "print(\"\\nDataFrame หลัง fillna ด้วย method='bfill':\")\n",
        "display(df_filled_bfill)"
      ],
      "metadata": {
        "id": "FJeYD5UGSnPQ"
      },
      "execution_count": null,
      "outputs": []
    },
    {
      "cell_type": "markdown",
      "metadata": {
        "id": "3c24715f"
      },
      "source": [
        "## 5. เปรียบเทียบผลก่อน–หลัง Imputation\n",
        "\n",
        "หลังจากจัดการ missing values แล้ว ควรเปรียบเทียบผลลัพธ์ก่อนและหลัง เพื่อดูว่าการจัดการ missing values ส่งผลต่อการกระจายตัวของข้อมูลอย่างไร"
      ]
    },
    {
      "cell_type": "markdown",
      "metadata": {
        "id": "18b33ed3"
      },
      "source": [
        "### ใช้ `df.describe()` ก่อนและหลังเติมค่า"
      ]
    },
    {
      "cell_type": "code",
      "metadata": {
        "id": "a9ae32f2"
      },
      "source": [
        "print(\"\\nDescribe ก่อน fillna:\")\n",
        "display(df.describe())\n",
        "\n",
        "print(\"\\nDescribe หลัง fillna ด้วยค่าเฉลี่ยใน 'col1' และค่ามัธยฐานใน 'col2':\")\n",
        "# ใช้ DataFrame ที่เติมค่าด้วยทั้งสองวิธี\n",
        "df_combined_fill = df.copy()\n",
        "df_combined_fill['col1'].fillna(df_combined_fill['col1'].mean(), inplace=True)\n",
        "df_combined_fill['col2'].fillna(df_combined_fill['col2'].median(), inplace=True)\n",
        "display(df_combined_fill.describe())"
      ],
      "execution_count": null,
      "outputs": []
    },
    {
      "cell_type": "markdown",
      "metadata": {
        "id": "6d5e00b0"
      },
      "source": [
        "### วาดกราฟเปรียบเทียบ (เช่น histogram)\n",
        "\n",
        "การเปรียบเทียบด้วยกราฟ Histogram สามารถช่วยให้เห็นการเปลี่ยนแปลงการกระจายตัวของข้อมูลได้ชัดเจน"
      ]
    },
    {
      "cell_type": "code",
      "metadata": {
        "id": "9992a748"
      },
      "source": [
        "import matplotlib.pyplot as plt\n",
        "\n",
        "print(\"\\nHistogram before and after fillna สำหรับ 'col1':\")\n",
        "plt.figure(figsize=(12, 5))\n",
        "\n",
        "plt.subplot(1, 2, 1)\n",
        "plt.hist(df['col1'].dropna(), bins=5, alpha=0.7, label='before fillna')\n",
        "plt.title('Histogram before fillna (col1)')\n",
        "plt.xlabel('value')\n",
        "plt.ylabel('frequency')\n",
        "plt.legend()\n",
        "\n",
        "plt.subplot(1, 2, 2)\n",
        "plt.hist(df_combined_fill['col1'], bins=5, alpha=0.7, label='after fillna')\n",
        "plt.title('Histogram after fillna (col1)')\n",
        "plt.xlabel('value')\n",
        "plt.ylabel('frequency')\n",
        "plt.legend()\n",
        "\n",
        "plt.tight_layout()\n",
        "plt.show()\n",
        "\n",
        "\n",
        "print(\"\\nHistogram before and after fillna สำหรับ 'col2':\")\n",
        "plt.figure(figsize=(12, 5))\n",
        "\n",
        "plt.subplot(1, 2, 1)\n",
        "plt.hist(df['col2'].dropna(), bins=5, alpha=0.7, label='before fillna')\n",
        "plt.title('Histogram before fillna (col2)')\n",
        "plt.xlabel('value')\n",
        "plt.ylabel('frequency')\n",
        "plt.legend()\n",
        "\n",
        "plt.subplot(1, 2, 2)\n",
        "plt.hist(df_combined_fill['col2'], bins=5, alpha=0.7, label='after fillna')\n",
        "plt.title('Histogram after fillna (col2)')\n",
        "plt.xlabel('value')\n",
        "plt.ylabel('frequency')\n",
        "plt.legend()\n",
        "\n",
        "plt.tight_layout()\n",
        "plt.show()"
      ],
      "execution_count": null,
      "outputs": []
    },
    {
      "cell_type": "code",
      "source": [],
      "metadata": {
        "id": "roSWMe4rAU_7"
      },
      "execution_count": null,
      "outputs": []
    },
    {
      "cell_type": "code",
      "source": [],
      "metadata": {
        "id": "wGqmPNHWAU6-"
      },
      "execution_count": null,
      "outputs": []
    },
    {
      "cell_type": "code",
      "source": [],
      "metadata": {
        "id": "I5DMII3kAU3f"
      },
      "execution_count": null,
      "outputs": []
    },
    {
      "cell_type": "markdown",
      "source": [
        "### สรุป\n",
        "ความสำคัญของการตรวจสอบ Missing Values และ Data Errors\n",
        "\n",
        "- **ยืนยันความสมบูรณ์ของข้อมูล**  \n",
        "  - Missing values และ data errors เป็นสาเหตุหลักที่ทำให้การวิเคราะห์เกิด bias หรือผลลัพธ์ไม่แม่นยำ  \n",
        "  - การตรวจพบและจัดการตั้งแต่ต้น ป้องกันปัญหาในขั้นตอนถัดไป\n",
        "\n",
        "- **สร้างความน่าเชื่อถือให้กับสถิติพื้นฐาน**  \n",
        "  - ค่า mean, median, variance และ distribution จะบิดเบือนได้หากมีค่าที่หายหรือผิดพลาด  \n",
        "  - ทำให้การสรุปสถิติเบื้องต้น (EDA) มีความถูกต้อง\n",
        "\n",
        "- **เลือกวิธีจัดการที่เหมาะสมกับลักษณะข้อมูล**  \n",
        "  - การ drop, fill, forward/backward fill แต่ละวิธีส่งผลต่างกันต่อการวิเคราะห์  \n",
        "  - การเข้าใจข้อดีข้อจำกัดของแต่ละวิธี ช่วยให้ตัดสินใจได้อย่างรอบคอบ\n",
        "\n",
        "- **ปูพื้นสำหรับขั้นตอน Modeling ต่อไป**  \n",
        "  - ข้อมูลที่มีคุณภาพสูง ลดโอกาส overfitting และ error ในการสร้างโมเดล  \n",
        "  - ช่วยให้โมเดลเรียนรู้ pattern จริง ๆ ของข้อมูล แทนที่จะเรียนรู้จาก noise\n",
        "\n",
        "- **เพิ่มประสิทธิภาพในการทำงานร่วมกัน**  \n",
        "  - วิธีจัดการ missing และ errors ที่เป็นมาตรฐาน ทำให้ทีมงานเข้าใจ workflow เดียวกัน  \n",
        "  - Documentation ใน notebook ช่วยให้ reproducible และตรวจสอบย้อนหลังได้ง่าย"
      ],
      "metadata": {
        "id": "AZ2XtpTUAUnC"
      }
    },
    {
      "cell_type": "code",
      "source": [],
      "metadata": {
        "id": "ci_E4VgnAaJd"
      },
      "execution_count": null,
      "outputs": []
    }
  ]
}