{
  "cells": [
    {
      "cell_type": "markdown",
      "metadata": {
        "id": "view-in-github",
        "colab_type": "text"
      },
      "source": [
        "<a href=\"https://colab.research.google.com/github/toche7/DataAnalytic/blob/main/Lab6_EDA.ipynb\" target=\"_parent\"><img src=\"https://colab.research.google.com/assets/colab-badge.svg\" alt=\"Open In Colab\"/></a>"
      ]
    },
    {
      "cell_type": "markdown",
      "metadata": {
        "collapsed": false,
        "id": "6f23ea"
      },
      "source": [
        "# Lab 6: EDA  (Exploratory Data Analysis)\n",
        "\n"
      ]
    },
    {
      "cell_type": "markdown",
      "metadata": {
        "collapsed": false,
        "id": "ce43cc"
      },
      "source": [
        "## Class Activity\n",
        "\n",
        "จงวิเคราะห์ข้อมูลด้วยวิธีการ EDA จาก url นี้\n",
        "\n",
        "[https://gist.githubusercontent.com/miguelpinia/3d589ad7c4365d2686a79bb7962bba04/raw/5fd04ffe66ef3c762deb81fe689b0730ea84e603/brain\\_size.csv](https://gist.githubusercontent.com/miguelpinia/3d589ad7c4365d2686a79bb7962bba04/raw/5fd04ffe66ef3c762deb81fe689b0730ea84e603/brain_size.csv)\n",
        "\n",
        "อ่านหลักการวิเคราะห์  EDA\n",
        "\n",
        "1. [https://chetnetisrisaan.medium.com/การวิเคราะห์ข้อมูลเชิงการตรวจสอบ\\-exploratory\\-data\\-analysis\\-เครื่องมือใหม่ของ\\-นักวิทยาศาสตร์ข้อมูล\\-cb31fff3843e](https://chetnetisrisaan.medium.com/%E0%B8%81%E0%B8%B2%E0%B8%A3%E0%B8%A7%E0%B8%B4%E0%B9%80%E0%B8%84%E0%B8%A3%E0%B8%B2%E0%B8%B0%E0%B8%AB%E0%B9%8C%E0%B8%82%E0%B9%89%E0%B8%AD%E0%B8%A1%E0%B8%B9%E0%B8%A5%E0%B9%80%E0%B8%8A%E0%B8%B4%E0%B8%87%E0%B8%81%E0%B8%B2%E0%B8%A3%E0%B8%95%E0%B8%A3%E0%B8%A7%E0%B8%88%E0%B8%AA%E0%B8%AD%E0%B8%9A-exploratory-data-analysis-%E0%B9%80%E0%B8%84%E0%B8%A3%E0%B8%B7%E0%B9%88%E0%B8%AD%E0%B8%87%E0%B8%A1%E0%B8%B7%E0%B8%AD%E0%B9%83%E0%B8%AB%E0%B8%A1%E0%B9%88%E0%B8%82%E0%B8%AD%E0%B8%87-%E0%B8%99%E0%B8%B1%E0%B8%81%E0%B8%A7%E0%B8%B4%E0%B8%97%E0%B8%A2%E0%B8%B2%E0%B8%A8%E0%B8%B2%E0%B8%AA%E0%B8%95%E0%B8%A3%E0%B9%8C%E0%B8%82%E0%B9%89%E0%B8%AD%E0%B8%A1%E0%B8%B9%E0%B8%A5-cb31fff3843e)\n",
        "2. [https://www.coraline.co.th/single\\-post/6\\-ขั้นตอนการทำ\\-exploratory\\-data\\-analysis\\#:~:text=Exploratory Data Analysis หรือ EDA,ชุดข้อมูลได้อีกด้วย](https://www.coraline.co.th/single-post/6-%E0%B8%82%E0%B8%B1%E0%B9%89%E0%B8%99%E0%B8%95%E0%B8%AD%E0%B8%99%E0%B8%81%E0%B8%B2%E0%B8%A3%E0%B8%97%E0%B8%B3-exploratory-data-analysis#:~:text=Exploratory%20Data%20Analysis%20%E0%B8%AB%E0%B8%A3%E0%B8%B7%E0%B8%AD%20EDA,%E0%B8%8A%E0%B8%B8%E0%B8%94%E0%B8%82%E0%B9%89%E0%B8%AD%E0%B8%A1%E0%B8%B9%E0%B8%A5%E0%B9%84%E0%B8%94%E0%B9%89%E0%B8%AD%E0%B8%B5%E0%B8%81%E0%B8%94%E0%B9%89%E0%B8%A7%E0%B8%A2)\n",
        "\n"
      ]
    },
    {
      "cell_type": "markdown",
      "metadata": {
        "collapsed": false,
        "id": "713f91"
      },
      "source": [
        "### 1 โหลดข้อมูล\n",
        "\n"
      ]
    },
    {
      "cell_type": "code",
      "execution_count": null,
      "metadata": {
        "id": "763bcc"
      },
      "outputs": [],
      "source": [
        "import pandas as pd"
      ]
    },
    {
      "cell_type": "code",
      "execution_count": null,
      "metadata": {
        "id": "8c3952"
      },
      "outputs": [],
      "source": [
        "url = (\n",
        "\"https://gist.githubusercontent.com/miguelpinia/3d589ad7c4365d2686a79bb7962bba04/raw/5fd04ffe66ef3c762deb81fe689b0730ea84e603/brain_size.csv\"\n",
        ")\n",
        "df = pd.read_csv(url, sep = ';')"
      ]
    },
    {
      "cell_type": "code",
      "execution_count": null,
      "metadata": {
        "id": "74bbef"
      },
      "outputs": [],
      "source": [
        "df.head()"
      ]
    },
    {
      "cell_type": "markdown",
      "metadata": {
        "collapsed": false,
        "id": "f1c20b"
      },
      "source": [
        "### 2 ตรวจสอบข้อมูลเบื้องต้น\n",
        "\n"
      ]
    },
    {
      "cell_type": "code",
      "execution_count": null,
      "metadata": {
        "id": "67d244"
      },
      "outputs": [],
      "source": [
        "df.shape"
      ]
    },
    {
      "cell_type": "code",
      "execution_count": null,
      "metadata": {
        "id": "ab52a4"
      },
      "outputs": [],
      "source": [
        "df.info()"
      ]
    },
    {
      "cell_type": "code",
      "execution_count": null,
      "metadata": {
        "id": "3cd1bb"
      },
      "outputs": [],
      "source": [
        "df.describe()"
      ]
    },
    {
      "cell_type": "code",
      "execution_count": null,
      "metadata": {
        "id": "7a9e4a"
      },
      "outputs": [],
      "source": [
        "df.dtypes"
      ]
    },
    {
      "cell_type": "code",
      "execution_count": null,
      "metadata": {
        "id": "007ef4"
      },
      "outputs": [],
      "source": [
        "df[['Weight','Height']] = df[['Weight','Height']].astype(float)\n"
      ]
    },
    {
      "cell_type": "markdown",
      "metadata": {
        "collapsed": false,
        "id": "36d525"
      },
      "source": [
        "### 3 ปรับปรุงข้อมูล\n",
        "\n"
      ]
    },
    {
      "cell_type": "code",
      "execution_count": null,
      "metadata": {
        "id": "957a73"
      },
      "outputs": [],
      "source": [
        "import numpy as np\n",
        "\n",
        "df = df.replace('.',np.nan)"
      ]
    },
    {
      "cell_type": "code",
      "execution_count": null,
      "metadata": {
        "id": "cd160e"
      },
      "outputs": [],
      "source": [
        "df.head()"
      ]
    },
    {
      "cell_type": "code",
      "execution_count": null,
      "metadata": {
        "id": "6c069e"
      },
      "outputs": [],
      "source": [
        "df.info()"
      ]
    },
    {
      "cell_type": "code",
      "execution_count": null,
      "metadata": {
        "id": "595a92"
      },
      "outputs": [],
      "source": [
        "df[['Weight','Height']] = df[['Weight','Height']].astype(float)"
      ]
    },
    {
      "cell_type": "code",
      "execution_count": null,
      "metadata": {
        "id": "c9e352"
      },
      "outputs": [],
      "source": [
        "t = pd.CategoricalDtype(categories=['Male', 'Female'], ordered=False)\n",
        "df[['Gender']] = df[['Gender']].astype(t)"
      ]
    },
    {
      "cell_type": "code",
      "execution_count": null,
      "metadata": {
        "id": "293f30"
      },
      "outputs": [],
      "source": [
        "df.dtypes"
      ]
    },
    {
      "cell_type": "markdown",
      "metadata": {
        "collapsed": false,
        "id": "25a244"
      },
      "source": [
        "### 4 ตรวจสอบการกระจายและความสัมพันธ์\n",
        "\n"
      ]
    },
    {
      "cell_type": "code",
      "execution_count": null,
      "metadata": {
        "id": "5051db"
      },
      "outputs": [],
      "source": [
        "df.hist() #สังเกตุว่าจะมีข้อความปริ้นออกมาด้วย"
      ]
    },
    {
      "cell_type": "code",
      "source": [
        "df.hist();"
      ],
      "metadata": {
        "id": "05gevYt-oIyp"
      },
      "execution_count": null,
      "outputs": []
    },
    {
      "cell_type": "code",
      "source": [
        "import matplotlib.pyplot as plt\n",
        "\n",
        "fig, axes = plt.subplots(nrows=3, ncols=3, figsize=(10, 8))\n",
        "axes = axes.flatten()[:7]  # Flatten the 3x3 grid and select the first 7 axes\n",
        "df.hist(ax=axes);\n",
        "plt.subplots_adjust(hspace=0.8, wspace=0.8) # Increased spacing"
      ],
      "metadata": {
        "id": "ROFScLQzoue1"
      },
      "execution_count": null,
      "outputs": []
    },
    {
      "cell_type": "code",
      "execution_count": null,
      "metadata": {
        "id": "dd77ad"
      },
      "outputs": [],
      "source": [
        "df.VIQ.unique()"
      ]
    },
    {
      "cell_type": "code",
      "execution_count": null,
      "metadata": {
        "id": "45545d"
      },
      "outputs": [],
      "source": [
        "df1 = df.drop('Gender', axis = 1)"
      ]
    },
    {
      "cell_type": "code",
      "execution_count": null,
      "metadata": {
        "id": "c97226"
      },
      "outputs": [],
      "source": [
        "df1.head()"
      ]
    },
    {
      "cell_type": "code",
      "execution_count": null,
      "metadata": {
        "id": "c8c76d"
      },
      "outputs": [],
      "source": [
        "df1.corr()"
      ]
    },
    {
      "cell_type": "code",
      "execution_count": null,
      "metadata": {
        "id": "d30a88"
      },
      "outputs": [],
      "source": []
    },
    {
      "cell_type": "code",
      "execution_count": null,
      "metadata": {
        "id": "f9f0fb"
      },
      "outputs": [],
      "source": [
        "df[['Height','Weight']]"
      ]
    },
    {
      "cell_type": "code",
      "execution_count": null,
      "metadata": {
        "id": "23728e"
      },
      "outputs": [],
      "source": [
        "# Import seaborn\n",
        "import seaborn as sns\n",
        "\n",
        "# Create a visualization\n",
        "sns.relplot(\n",
        "    data=df[['Height','Weight','Gender']],\n",
        "    x=\"Height\", y=\"Weight\", col=\"Gender\",\n",
        "    hue=\"Gender\"\n",
        ")"
      ]
    },
    {
      "cell_type": "code",
      "execution_count": null,
      "metadata": {
        "id": "3b5b52"
      },
      "outputs": [],
      "source": [
        "sns.heatmap(df1.corr(), annot=True)"
      ]
    },
    {
      "cell_type": "code",
      "execution_count": null,
      "metadata": {
        "id": "2a390b"
      },
      "outputs": [],
      "source": [
        "sns.pairplot(data=df, hue=\"Gender\")"
      ]
    },
    {
      "cell_type": "code",
      "execution_count": null,
      "metadata": {
        "id": "6cbdc5"
      },
      "outputs": [],
      "source": []
    }
  ],
  "metadata": {
    "kernelspec": {
      "argv": [
        "/usr/bin/python3",
        "-m",
        "ipykernel",
        "--HistoryManager.enabled=False",
        "--matplotlib=inline",
        "-c",
        "%config InlineBackend.figure_formats = set(['retina'])\nimport matplotlib; matplotlib.rcParams['figure.figsize'] = (12, 7)",
        "-f",
        "{connection_file}"
      ],
      "display_name": "Python 3 (system-wide)",
      "env": {},
      "language": "python",
      "metadata": {
        "cocalc": {
          "description": "Python 3 programming language",
          "priority": 100,
          "url": "https://www.python.org/"
        }
      },
      "name": "python3",
      "resource_dir": "/ext/jupyter/kernels/python3"
    },
    "language_info": {
      "codemirror_mode": {
        "name": "ipython",
        "version": 3
      },
      "file_extension": ".py",
      "mimetype": "text/x-python",
      "name": "python",
      "nbconvert_exporter": "python",
      "pygments_lexer": "ipython3",
      "version": "3.10.12"
    },
    "nbgrader": {
      "__altered": false,
      "__hash": 229782201,
      "_root": {
        "entries": [
          [
            "size",
            5
          ],
          [
            "_root",
            {
              "entries": [
                [
                  "size",
                  5
                ],
                [
                  "_root",
                  {
                    "entries": [
                      [
                        "size",
                        1
                      ],
                      [
                        "_root",
                        {
                          "entries": [
                            [
                              "cocalc_minimal_stubs",
                              false
                            ]
                          ],
                          "ownerID": {}
                        }
                      ],
                      [
                        "__hash",
                        -335098374
                      ],
                      [
                        "__altered",
                        false
                      ],
                      [
                        "cocalc_minimal_stubs",
                        false
                      ]
                    ],
                    "ownerID": {}
                  }
                ],
                [
                  "__hash",
                  1043241747
                ],
                [
                  "__altered",
                  false
                ],
                [
                  "cocalc_minimal_stubs",
                  false
                ]
              ],
              "ownerID": {}
            }
          ],
          [
            "__hash",
            -3618366
          ],
          [
            "__altered",
            false
          ],
          [
            "cocalc_minimal_stubs",
            false
          ]
        ],
        "ownerID": {}
      },
      "cocalc_minimal_stubs": false,
      "size": 5
    },
    "colab": {
      "provenance": [],
      "include_colab_link": true
    }
  },
  "nbformat": 4,
  "nbformat_minor": 0
}