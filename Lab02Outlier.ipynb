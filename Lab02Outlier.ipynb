{
  "nbformat": 4,
  "nbformat_minor": 0,
  "metadata": {
    "colab": {
      "provenance": [],
      "authorship_tag": "ABX9TyOMJhZaYA5hnBs5/3t60IcC",
      "include_colab_link": true
    },
    "kernelspec": {
      "name": "python3",
      "display_name": "Python 3"
    },
    "language_info": {
      "name": "python"
    }
  },
  "cells": [
    {
      "cell_type": "markdown",
      "metadata": {
        "id": "view-in-github",
        "colab_type": "text"
      },
      "source": [
        "<a href=\"https://colab.research.google.com/github/toche7/DataAnalytic/blob/main/Lab02Outlier.ipynb\" target=\"_parent\"><img src=\"https://colab.research.google.com/assets/colab-badge.svg\" alt=\"Open In Colab\"/></a>"
      ]
    },
    {
      "cell_type": "markdown",
      "metadata": {
        "id": "c682b82b"
      },
      "source": [
        "# Python Lab: การตรวจจับและจัดการ Outlier\n",
        "\n",
        "## 1. Import Libraries & Load Data\n",
        "\n",
        "ในส่วนนี้ เราจะนำเข้าไลบรารีที่จำเป็นสำหรับการวิเคราะห์ข้อมูลและโหลดชุดข้อมูลที่เราจะใช้"
      ]
    },
    {
      "cell_type": "code",
      "metadata": {
        "id": "6997f083"
      },
      "source": [
        "import pandas as pd\n",
        "import numpy as np\n",
        "import seaborn as sns\n",
        "import matplotlib.pyplot as plt\n",
        "\n",
        "# โหลด DataFrame ของคุณที่นี่ ตัวอย่าง:\n",
        "# df = pd.read_csv('your_data.csv')\n",
        "# หรือสร้าง DataFrame ตัวอย่าง:\n",
        "data = {'col1': np.random.randn(100) * 10 + 50,\n",
        "        'col2': np.random.rand(100) * 100,\n",
        "        'col3': np.random.randn(100) * 5 + 20}\n",
        "df = pd.DataFrame(data)\n",
        "\n",
        "# เพิ่ม outlier เข้าไปใน DataFrame ตัวอย่าง\n",
        "df.loc[0, 'col1'] = 150\n",
        "df.loc[1, 'col2'] = -200\n",
        "df.loc[2, 'col3'] = 100\n",
        "\n",
        "display(df.head())"
      ],
      "execution_count": null,
      "outputs": []
    },
    {
      "cell_type": "markdown",
      "metadata": {
        "id": "ebd9c40f"
      },
      "source": [
        "## 2. นิยาม Outlier และผลกระทบ\n",
        "\n",
        "Outlier (ค่าผิดปกติ) คือค่าข้อมูลที่อยู่ห่างไกลจากค่าส่วนใหญ่ในชุดข้อมูลอย่างมีนัยสำคัญ\n",
        "\n",
        "**ทำไมต้องตรวจจับและจัดการ Outlier?**\n",
        "\n",
        "*   **ส่งผลกระทบต่อค่าสถิติ:** Outlier สามารถทำให้ค่าเฉลี่ย (mean) และค่าเบี่ยงเบนมาตรฐาน (standard deviation) ผิดเพี้ยนไปได้\n",
        "*   **ส่งผลต่อโมเดล:** ในการสร้างแบบจำลองทางสถิติหรือ machine learning, outlier สามารถทำให้แบบจำลองมีความแม่นยำลดลง หรือทำให้ผลลัพธ์มีความเอนเอียง (biased)\n",
        "*   **บ่งชี้ข้อผิดพลาด:** Outlier อาจเป็นสัญญาณของข้อผิดพลาดในการบันทึกข้อมูล การวัด หรือกระบวนการเก็บรวบรวมข้อมูล\n",
        "*   **ข้อมูลเชิงลึก:** ในบางกรณี Outlier อาจเป็นข้อมูลที่มีความสำคัญและบ่งชี้ถึงเหตุการณ์หรือปรากฏการณ์ที่ผิดปกติ ซึ่งอาจเป็นประโยชน์ในการวิเคราะห์"
      ]
    },
    {
      "cell_type": "markdown",
      "metadata": {
        "id": "fc74943f"
      },
      "source": [
        "## 3. IQR Method\n",
        "\n",
        "วิธี IQR (Interquartile Range) เป็นวิธีที่ใช้กันทั่วไปในการตรวจจับ Outlier โดยอาศัยการคำนวณค่าควอไทล์\n",
        "\n",
        "*   **Q1 (First Quartile):** ค่าที่แบ่งข้อมูล 25% แรกออกจากข้อมูลที่เหลือ\n",
        "*   **Q3 (Third Quartile):** ค่าที่แบ่งข้อมูล 75% แรกออกจากข้อมูลที่เหลือ\n",
        "*   **IQR (Interquartile Range):** Q3 - Q1\n",
        "\n",
        "เราจะกำหนดขอบเขตสำหรับค่าปกติคือ `[Q1 - 1.5 * IQR, Q3 + 1.5 * IQR]` ค่าใดๆ ที่อยู่นอกขอบเขตนี้จะถือว่าเป็น Outlier"
      ]
    },
    {
      "cell_type": "code",
      "metadata": {
        "id": "c2b84232"
      },
      "source": [
        "# ตัวอย่างโค้ดสำหรับ IQR Method\n",
        "def detect_outliers_iqr(df, column):\n",
        "    Q1 = df[column].quantile(0.25)\n",
        "    Q3 = df[column].quantile(0.75)\n",
        "    IQR = Q3 - Q1\n",
        "\n",
        "    lower_bound = Q1 - 1.5 * IQR\n",
        "    upper_bound = Q3 + 1.5 * IQR\n",
        "\n",
        "    outliers = df[(df[column] < lower_bound) | (df[column] > upper_bound)]\n",
        "    return outliers\n",
        "\n",
        "# ลองตรวจจับ outlier ในคอลัมน์ 'col1'\n",
        "outliers_col1_iqr = detect_outliers_iqr(df, 'col1')\n",
        "print(f\"Outliers ใน col1 (IQR Method):\\n{outliers_col1_iqr}\")"
      ],
      "execution_count": null,
      "outputs": []
    },
    {
      "cell_type": "markdown",
      "metadata": {
        "id": "0f4e4dd0"
      },
      "source": [
        "## 4. Z-score Method\n",
        "\n",
        "วิธี Z-score เป็นอีกวิธีหนึ่งในการตรวจจับ Outlier โดยอาศัยค่าเฉลี่ยและค่าเบี่ยงเบนมาตรฐาน\n",
        "\n",
        "Z-score ของจุดข้อมูลหนึ่งๆ คือจำนวนเท่าของค่าเบี่ยงเบนมาตรฐานที่จุดข้อมูลนั้นอยู่ห่างจากค่าเฉลี่ย\n",
        "\n",
        "$$ Z = \\frac{x - \\mu}{\\sigma} $$\n",
        "\n",
        "โดยที่:\n",
        "*   $x$ คือจุดข้อมูล\n",
        "*   $\\mu$ คือค่าเฉลี่ยของชุดข้อมูล\n",
        "*   $\\sigma$ คือค่าเบี่ยงเบนมาตรฐานของชุดข้อมูล\n",
        "\n",
        "โดยทั่วไป หากค่า Z-score มีค่าสัมบูรณ์มากกว่า 3 (|Z| > 3) จุดข้อมูลนั้นจะถูกพิจารณาว่าเป็น Outlier"
      ]
    },
    {
      "cell_type": "code",
      "metadata": {
        "id": "5e64d9ba"
      },
      "source": [
        "# ตัวอย่างโค้ดสำหรับ Z-score Method\n",
        "from scipy.stats import zscore\n",
        "\n",
        "def detect_outliers_zscore(df, column, threshold=3):\n",
        "    z_scores = np.abs(zscore(df[column]))\n",
        "    outliers = df[z_scores > threshold]\n",
        "    return outliers\n",
        "\n",
        "# ลองตรวจจับ outlier ในคอลัมน์ 'col1'\n",
        "outliers_col1_zscore = detect_outliers_zscore(df, 'col1')\n",
        "print(f\"Outliers ใน col1 (Z-score Method):\\n{outliers_col1_zscore}\")"
      ],
      "execution_count": null,
      "outputs": []
    },
    {
      "cell_type": "markdown",
      "metadata": {
        "id": "0d5d6f96"
      },
      "source": [
        "## 5. Visualization\n",
        "\n",
        "การแสดงภาพเป็นวิธีที่มีประสิทธิภาพในการตรวจจับ Outlier\n",
        "\n",
        "*   **Boxplot:** แสดงการกระจายของข้อมูลและระบุ Outlier ด้วยจุดที่อยู่นอก \"หนวด\" (whiskers) ของกล่อง\n",
        "*   **Scatter plot:** สามารถใช้เพื่อดูความสัมพันธ์ระหว่างตัวแปรและระบุจุดข้อมูลที่อยู่ห่างจากแนวโน้มทั่วไป"
      ]
    },
    {
      "cell_type": "code",
      "metadata": {
        "id": "ba7ef2f5"
      },
      "source": [
        "# ตัวอย่างโค้ดสำหรับการแสดงภาพ\n",
        "# Boxplot\n",
        "plt.figure(figsize=(10, 5))\n",
        "sns.boxplot(x=df['col1'])\n",
        "plt.title('Boxplot of col1')\n",
        "plt.show()\n",
        "\n",
        "# Scatter plot\n",
        "plt.figure(figsize=(10, 5))\n",
        "plt.scatter(df.index, df['col1'])\n",
        "plt.title('Scatter Plot of col1')\n",
        "plt.xlabel('Index')\n",
        "plt.ylabel('col1')\n",
        "plt.show()"
      ],
      "execution_count": null,
      "outputs": []
    },
    {
      "cell_type": "markdown",
      "metadata": {
        "id": "602dca6f"
      },
      "source": [
        "## 6. Handling Outliers\n",
        "\n",
        "เมื่อตรวจพบ Outlier แล้ว มีหลายวิธีในการจัดการกับมัน ขึ้นอยู่กับลักษณะของข้อมูลและวัตถุประสงค์ของการวิเคราะห์\n",
        "\n",
        "*   **Remove (ลบ):** ลบแถวที่มี Outlier ออกจาก DataFrame วิธีนี้ควรใช้ด้วยความระมัดระวัง โดยเฉพาะอย่างยิ่งหากมี Outlier จำนวนมาก\n",
        "*   **Cap (Winsorize):** แทนค่า Outlier ด้วยค่าขอบเขตที่กำหนด เช่น แทนค่าที่มากกว่าขอบเขตบนด้วยค่าขอบเขตบน และค่าที่น้อยกว่าขอบเขตล่างด้วยค่าขอบเขตล่าง (มักใช้ Q1 - 1.5*IQR และ Q3 + 1.5*IQR เป็นขอบเขต)\n",
        "*   **Transform (แปลงข้อมูล):** ใช้ฟังก์ชันทางคณิตศาสตร์เพื่อลดผลกระทบของ Outlier เช่น Log transformation หรือ Box–Cox transformation"
      ]
    },
    {
      "cell_type": "code",
      "source": [
        "# ตัวอย่างโค้ดสำหรับการจัดการ Outlier (Cap/Winsorize)\n",
        "def cap_outliers_iqr(df, column):\n",
        "    Q1 = df[column].quantile(0.25)\n",
        "    Q3 = df[column].quantile(0.75)\n",
        "    IQR = Q3 - Q1\n",
        "\n",
        "    lower_bound = Q1 - 1.5 * IQR\n",
        "    upper_bound = Q3 + 1.5 * IQR\n",
        "\n",
        "    df_capped = df.copy()\n",
        "    df_capped[column] = np.where(df_capped[column] < lower_bound, lower_bound, df_capped[column])\n",
        "    df_capped[column] = np.where(df_capped[column] > upper_bound, upper_bound, df_capped[column])\n",
        "    return df_capped\n",
        "\n",
        "# ลอง Cap Outlier ในคอลัมน์ 'col1'\n",
        "df_capped_col1 = cap_outliers_iqr(df.copy(), 'col1')\n",
        "print(\"DataFrame หลัง Cap Outlier ใน col1:\")\n",
        "display(df_capped_col1.head())"
      ],
      "metadata": {
        "id": "tj4qwbY2WdVG"
      },
      "execution_count": null,
      "outputs": []
    },
    {
      "cell_type": "code",
      "metadata": {
        "id": "cdf027af"
      },
      "source": [
        "# ตัวอย่างโค้ดสำหรับการจัดการ Outlier (Remove)\n",
        "def remove_outliers_iqr(df, column):\n",
        "     Q1 = df[column].quantile(0.25)\n",
        "     Q3 = df[column].quantile(0.75)\n",
        "     IQR = Q3 - Q1\n",
        "\n",
        "     lower_bound = Q1 - 1.5 * IQR\n",
        "     upper_bound = Q3 + 1.5 * IQR\n",
        "\n",
        "     df_cleaned = df[(df[column] >= lower_bound) & (df[column] <= upper_bound)]\n",
        "     return df_cleaned\n",
        "\n",
        "# ลอง Remove Outlier ในคอลัมน์ 'col1'\n",
        "df_cleaned_col1 = remove_outliers_iqr(df.copy(), 'col1')\n",
        "print(\"\\nDataFrame หลัง Remove Outlier ใน col1:\")\n",
        "display(df_cleaned_col1.head())"
      ],
      "execution_count": null,
      "outputs": []
    },
    {
      "cell_type": "markdown",
      "metadata": {
        "id": "b263eacb"
      },
      "source": [
        "## 7. เปรียบเทียบผลก่อน–หลัง\n",
        "\n",
        "หลังจากจัดการ Outlier แล้ว ควรเปรียบเทียบผลลัพธ์ก่อนและหลังการจัดการเพื่อดูว่าการจัดการมีผลอย่างไรต่อการกระจายของข้อมูลและค่าสถิติ\n",
        "\n",
        "*   **Descriptive Statistics:** ใช้ `df.describe()` เพื่อดูค่าสถิติสรุป เช่น ค่าเฉลี่ย ค่ามัธยฐาน ค่าเบี่ยงเบนมาตรฐาน ก่อนและหลังการจัดการ Outlier\n",
        "*   **Histogram:** วาด histogram เพื่อดูการกระจายของข้อมูลก่อนและหลังการจัดการ Outlier"
      ]
    },
    {
      "cell_type": "code",
      "metadata": {
        "id": "2adc30b7"
      },
      "source": [
        "# ตัวอย่างโค้ดสำหรับการเปรียบเทียบผลก่อน-หลัง\n",
        "# เปรียบเทียบ Descriptive Statistics\n",
        "print(\"Descriptive Statistics ก่อนจัดการ Outlier:\")\n",
        "display(df['col1'].describe())\n",
        "\n",
        "print(\"\\nDescriptive Statistics หลัง Cap Outlier ใน col1:\")\n",
        "display(df_capped_col1['col1'].describe())\n",
        "\n",
        "print(\"\\nDescriptive Statistics หลัง Remove Outlier ใน col1:\")\n",
        "display(df_cleaned_col1['col1'].describe())\n",
        "\n",
        "# เปรียบเทียบ Histogram\n",
        "plt.figure(figsize=(12, 5))\n",
        "\n",
        "plt.subplot(1, 3, 1)\n",
        "sns.histplot(df['col1'], kde=True)\n",
        "plt.title('Histogram before Outlier')\n",
        "\n",
        "plt.subplot(1, 3, 2)\n",
        "sns.histplot(df_capped_col1['col1'], kde=True)\n",
        "plt.title('Histogram after Cap Outlier')\n",
        "\n",
        "plt.subplot(1, 3, 3)\n",
        "sns.histplot(df_cleaned_col1['col1'], kde=True)\n",
        "plt.title('Histogram after Remove Outlier')\n",
        "\n",
        "plt.tight_layout()\n",
        "plt.show()"
      ],
      "execution_count": null,
      "outputs": []
    },
    {
      "cell_type": "markdown",
      "metadata": {
        "id": "cf5f4c15"
      },
      "source": [
        "## 8. Hands-on Exercise\n",
        "\n",
        "ให้นักเรียนเลือกตัวแปร 2–3 ตัวจากชุดข้อมูลของคุณ (หรือใช้ DataFrame ตัวอย่างข้างต้น) แล้วทำตามขั้นตอนต่อไปนี้:\n",
        "\n",
        "1.  **เลือกตัวแปร:** ระบุชื่อคอลัมน์ที่คุณต้องการวิเคราะห์ Outlier\n",
        "2.  **ตรวจจับ Outlier:** ใช้ทั้งวิธี IQR และ Z-score เพื่อตรวจจับ Outlier ในตัวแปรที่เลือก\n",
        "3.  **แสดงภาพ:** ใช้ Boxplot และ Scatter plot เพื่อแสดง Outlier\n",
        "4.  **จัดการ Outlier:** เลือกวิธีจัดการ Outlier ที่เหมาะสม (เช่น Remove หรือ Cap) และนำไปใช้กับตัวแปรที่เลือก\n",
        "5.  **เปรียบเทียบผล:** เปรียบเทียบค่าสถิติสรุปและ Histogram ของตัวแปรที่เลือกก่อนและหลังการจัดการ Outlier\n",
        "6.  **สรุปผล:** เขียนสรุปใน markdown cell อธิบายว่าคุณทำอะไร ผลลัพธ์ที่ได้เป็นอย่างไร และวิธีจัดการ Outlier ที่คุณเลือกมีผลอย่างไรต่อข้อมูล"
      ]
    },
    {
      "cell_type": "code",
      "source": [],
      "metadata": {
        "id": "2uT7PUL5_Wvf"
      },
      "execution_count": null,
      "outputs": []
    },
    {
      "cell_type": "code",
      "source": [],
      "metadata": {
        "id": "vOCSL2N4_WlJ"
      },
      "execution_count": null,
      "outputs": []
    },
    {
      "cell_type": "code",
      "source": [],
      "metadata": {
        "id": "LPnNaxNs_PSA"
      },
      "execution_count": null,
      "outputs": []
    },
    {
      "cell_type": "markdown",
      "source": [
        "### สรุป\n",
        "ความสำคัญของ Outlier Detection\n",
        "\n",
        "- **ป้องกันข้อมูลบิดเบือน (Bias) และผลลัพธ์ผิดพลาด**  \n",
        "  - Outlier อาจเกิดจากการกรอกข้อมูลผิด ข้อผิดพลาดในการวัด หรือสถานการณ์พิเศษ  \n",
        "  - หากไม่จัดการ อาจลากค่า mean, variance และค่าสถิติอื่น ๆ ให้บิดเบือน  \n",
        "\n",
        "- **ปรับปรุงคุณภาพข้อมูลก่อน Modeling**  \n",
        "  - การลบหรือแก้ไข outlier ช่วยให้โมเดลเรียนรู้ pattern หลักของข้อมูลได้ดีขึ้น  \n",
        "  - ลดโอกาส overfitting ที่อาจเกิดจาก noise  \n",
        "\n",
        "- **เลือกวิธีจัดการที่เหมาะสมกับงาน**  \n",
        "  - **Remove**: ลบข้อมูลที่ไม่เป็นประโยชน์  \n",
        "  - **Cap (Winsorize)**: แทนค่าด้วยขอบเขต IQR  \n",
        "  - **Transform**: ปรับ distribution ด้วย log/Box–Cox  \n",
        "\n",
        "- **เสริมความเข้าใจผ่าน Visualization**  \n",
        "  - Boxplot และ scatter plot ช่วยให้มองเห็น outlier ชัดเจน  \n",
        "  - สนับสนุนการตัดสินใจว่าจะรักษาหรือกำจัดจุดผิดปกติ  \n",
        "\n",
        "- **สร้างมาตรฐานในขั้นตอน EDA**  \n",
        "  - หลีกเลี่ยงการมองข้ามข้อมูลสำคัญหรือมองข้าม noise  \n",
        "  - ทำให้ pipeline การวิเคราะห์มีความน่าเชื่อถือและ reproducible  "
      ],
      "metadata": {
        "id": "C7tb3Ofb_XYe"
      }
    },
    {
      "cell_type": "code",
      "source": [],
      "metadata": {
        "id": "dv6F2F1v_o_i"
      },
      "execution_count": null,
      "outputs": []
    }
  ]
}