{
  "nbformat": 4,
  "nbformat_minor": 0,
  "metadata": {
    "colab": {
      "provenance": [],
      "authorship_tag": "ABX9TyMggVzcj5NCBTZ9N42k/X7S",
      "include_colab_link": true
    },
    "kernelspec": {
      "name": "python3",
      "display_name": "Python 3"
    },
    "language_info": {
      "name": "python"
    }
  },
  "cells": [
    {
      "cell_type": "markdown",
      "metadata": {
        "id": "view-in-github",
        "colab_type": "text"
      },
      "source": [
        "<a href=\"https://colab.research.google.com/github/toche7/DataAnalytic/blob/main/Lab03DiscriptiveStateandDistribution.ipynb\" target=\"_parent\"><img src=\"https://colab.research.google.com/assets/colab-badge.svg\" alt=\"Open In Colab\"/></a>"
      ]
    },
    {
      "cell_type": "markdown",
      "metadata": {
        "id": "381589f2"
      },
      "source": [
        "# Descriptive Statistics และ Distribution\n",
        "\n",
        "## 1 Import Libraries & Load Data\n",
        "*   pandas, numpy, matplotlib.pyplot, seaborn\n",
        "*   โหลด DataFrame ที่ผ่านการจัดการ Missing/Outlier แล้ว"
      ]
    },
    {
      "cell_type": "code",
      "source": [
        "# prompt: create the example data with has skewness\n",
        "\n",
        "import numpy as np\n",
        "import pandas as pd\n",
        "import matplotlib.pyplot as plt\n",
        "import seaborn as sns\n",
        "\n",
        "# Generate data with a positive skew\n",
        "positive_skew_data = np.random.exponential(scale=2.0, size=1000)\n",
        "\n",
        "# Generate data with a negative skew\n",
        "# We can achieve this by reflecting a positively skewed distribution\n",
        "positive_data = np.random.exponential(scale=2.0, size=1000)\n",
        "max_val = positive_data.max()\n",
        "negative_skew_data = max_val - positive_data\n",
        "\n",
        "# Combine into a DataFrame (optional)\n",
        "df = pd.DataFrame({\n",
        "    'col1': positive_skew_data,\n",
        "    'col2': negative_skew_data\n",
        "})\n",
        "\n",
        "# Print descriptive statistics to confirm skewness\n",
        "print(\"Descriptive statistics for positive skew data:\")\n",
        "print(pd.Series(positive_skew_data).describe())\n",
        "print(\"\\nDescriptive statistics for negative skew data:\")\n",
        "print(pd.Series(negative_skew_data).describe())\n",
        "\n",
        "# Plot histograms to visualize the skewness\n",
        "plt.figure(figsize=(12, 5))\n",
        "\n",
        "plt.subplot(1, 2, 1)\n",
        "sns.histplot(df['col1'], kde=True)\n",
        "plt.title('Distribution with Positive Skew')\n",
        "\n",
        "plt.subplot(1, 2, 2)\n",
        "sns.histplot(df['col2'], kde=True)\n",
        "plt.title('Distribution with Negative Skew')\n",
        "\n",
        "plt.tight_layout()\n",
        "plt.show()"
      ],
      "metadata": {
        "id": "_QChCimOhBTn"
      },
      "execution_count": null,
      "outputs": []
    },
    {
      "cell_type": "markdown",
      "metadata": {
        "id": "56686e8e"
      },
      "source": [
        "## 2 ค่าสถิติพื้นฐาน (Descriptive Statistics)\n",
        "*   Mean, Median, Mode\n",
        "*   Standard Deviation, Variance\n",
        "*   Min, Max, Quartiles\n",
        "*   ใช้ `df[col].agg(['mean','median','std','var','min','max','quantile'])`"
      ]
    },
    {
      "cell_type": "code",
      "metadata": {
        "id": "da736b25"
      },
      "source": [
        "# เลือกคอลัมน์ที่คุณต้องการวิเคราะห์\n",
        "column_to_analyze = 'col1' # แทนที่ด้วยชื่อคอลัมน์จริงของคุณ\n",
        "\n",
        "if column_to_analyze in df.columns:\n",
        "    descriptive_stats = df[column_to_analyze].agg(['mean', 'median', 'std', 'var', 'min', 'max', lambda x: x.quantile(0.25), lambda x: x.quantile(0.5), lambda x: x.quantile(0.75)])\n",
        "    descriptive_stats.index = ['Mean', 'Median', 'Standard Deviation', 'Variance', 'Min', 'Max', 'Q1 (25%)', 'Q2 (50% - Median)', 'Q3 (75%)']\n",
        "    print(f\"ค่าสถิติพื้นฐานสำหรับคอลัมน์ '{column_to_analyze}':\")\n",
        "    print(descriptive_stats)\n",
        "else:\n",
        "    print(f\"ไม่พบคอลัมน์ '{column_to_analyze}' ใน DataFrame\")"
      ],
      "execution_count": null,
      "outputs": []
    },
    {
      "cell_type": "markdown",
      "source": [
        "หรือจะใช้คำสั่งง่ายๆ ดังนี้"
      ],
      "metadata": {
        "id": "21R6pnD6ctLR"
      }
    },
    {
      "cell_type": "markdown",
      "metadata": {
        "id": "35cec4d2"
      },
      "source": [
        "## 3 สร้างตารางสรุปสถิติ\n",
        "*   รวบรวมสถิติหลักลงใน DataFrame หรือ markdown table\n",
        "*   เปรียบเทียบตัวแปรหลายตัวพร้อมกัน"
      ]
    },
    {
      "cell_type": "code",
      "metadata": {
        "id": "5139cdde"
      },
      "source": [
        "# เลือกคอลัมน์ตัวเลขที่คุณต้องการเปรียบเทียบ\n",
        "numerical_cols = df.select_dtypes(include=np.number).columns.tolist()\n",
        "\n",
        "if len(numerical_cols) > 0:\n",
        "    summary_table = df[numerical_cols].agg(['mean', 'median', 'std', 'min', 'max']).T\n",
        "    print(\"ตารางสรุปสถิติสำหรับคอลัมน์ตัวเลข:\")\n",
        "    display(summary_table)\n",
        "else:\n",
        "    print(\"ไม่พบคอลัมน์ตัวเลขใน DataFrame สำหรับสร้างตารางสรุปสถิติ\")"
      ],
      "execution_count": null,
      "outputs": []
    },
    {
      "cell_type": "code",
      "source": [
        "df.describe().round(2).T"
      ],
      "metadata": {
        "id": "wQkMs-iIc2c-"
      },
      "execution_count": null,
      "outputs": []
    },
    {
      "cell_type": "markdown",
      "metadata": {
        "id": "05a78d10"
      },
      "source": [
        "## 4 Histogram\n",
        "*   แสดงความถี่เชิงจำนวน\n",
        "*   กำหนดจำนวน bins ให้เหมาะสม\n",
        "*   สังเกตรูปแบบการแจกแจง (เช่น skewness)"
      ]
    },
    {
      "cell_type": "code",
      "metadata": {
        "id": "e69a0975"
      },
      "source": [
        "# เลือกคอลัมน์ที่คุณต้องการสร้าง Histogram\n",
        "column_for_histogram = 'col1' # แทนที่ด้วยชื่อคอลัมน์จริงของคุณ\n",
        "\n",
        "if column_for_histogram in df.columns and df[column_for_histogram].dtype in [np.number]:\n",
        "    plt.figure(figsize=(8, 6))\n",
        "    sns.histplot(df[column_for_histogram], kde=False, bins=20) # ปรับจำนวน bins ได้ตามความเหมาะสม\n",
        "    plt.title(f'Histogram of {column_for_histogram}')\n",
        "    plt.xlabel(column_for_histogram)\n",
        "    plt.ylabel('frequency')\n",
        "    plt.show()\n",
        "else:\n",
        "    print(f\"คอลัมน์ '{column_for_histogram}' ไม่ใช่คอลัมน์ตัวเลขหรือไม่พบใน DataFrame สำหรับสร้าง Histogram\")"
      ],
      "execution_count": null,
      "outputs": []
    },
    {
      "cell_type": "markdown",
      "source": [
        "### 4.1 skewness\n"
      ],
      "metadata": {
        "id": "ewEdFjD8eiC-"
      }
    },
    {
      "cell_type": "code",
      "source": [
        "# skewness of col1\n",
        "df['col1'].skew()"
      ],
      "metadata": {
        "id": "W1HvIhm-e8a1"
      },
      "execution_count": null,
      "outputs": []
    },
    {
      "cell_type": "markdown",
      "source": [
        "### 4.2 Kurtosis"
      ],
      "metadata": {
        "id": "3tS-Ie8piKGZ"
      }
    },
    {
      "cell_type": "code",
      "source": [
        "# prompt: kurtosis of col1\n",
        "\n",
        "print(\"Kurtosis of col1:\")\n",
        "print(df['col1'].kurtosis())"
      ],
      "metadata": {
        "id": "VmlBxI8EiJCb"
      },
      "execution_count": null,
      "outputs": []
    },
    {
      "cell_type": "markdown",
      "metadata": {
        "id": "f090ac18"
      },
      "source": [
        "## 5 KDE Plot (Kernel Density Estimate)\n",
        "*   แสดงการแจกแจงเชิงความน่าจะเป็นต่อเนื่อง\n",
        "*   เปรียบเทียบหลายตัวแปรบนกราฟเดียว"
      ]
    },
    {
      "cell_type": "code",
      "metadata": {
        "id": "ad69c9ed"
      },
      "source": [
        "# เลือกคอลัมน์ตัวเลขที่คุณต้องการสร้าง KDE Plot\n",
        "numerical_cols_for_kde = df.select_dtypes(include=np.number).columns.tolist()\n",
        "\n",
        "if len(numerical_cols_for_kde) > 0:\n",
        "    plt.figure(figsize=(10, 7))\n",
        "    for col in numerical_cols_for_kde:\n",
        "        sns.kdeplot(df[col], label=col)\n",
        "    plt.title('KDE Plot Variables')\n",
        "    plt.xlabel('Value')\n",
        "    plt.ylabel('Density')\n",
        "    plt.legend()\n",
        "    plt.show()\n",
        "else:\n",
        "    print(\"ไม่พบคอลัมน์ตัวเลขใน DataFrame สำหรับสร้าง KDE Plot\")"
      ],
      "execution_count": null,
      "outputs": []
    },
    {
      "cell_type": "markdown",
      "metadata": {
        "id": "62139013"
      },
      "source": [
        "## 6 Boxplot & Violin Plot\n",
        "*   สรุป quartiles และ outlier\n",
        "*   เปรียบเทียบ distribution ข้ามกลุ่ม"
      ]
    },
    {
      "cell_type": "code",
      "metadata": {
        "id": "431eb2f6"
      },
      "source": [
        "# เลือกคอลัมน์ตัวเลขที่คุณต้องการสร้าง Boxplot และ Violin Plot\n",
        "numerical_cols_for_box_violin = df.select_dtypes(include=np.number).columns.tolist()\n",
        "\n",
        "if len(numerical_cols_for_box_violin) > 0:\n",
        "    for col in numerical_cols_for_box_violin:\n",
        "        plt.figure(figsize=(8, 6))\n",
        "        sns.boxplot(y=df[col])\n",
        "        plt.title(f'Boxplot of {col}')\n",
        "        plt.ylabel(col)\n",
        "        plt.show()\n",
        "\n",
        "        plt.figure(figsize=(8, 6))\n",
        "        sns.violinplot(y=df[col])\n",
        "        plt.title(f'Violin Plot of {col}')\n",
        "        plt.ylabel(col)\n",
        "        plt.show()\n",
        "else:\n",
        "    print(\"ไม่พบคอลัมน์ตัวเลขใน DataFrame สำหรับสร้าง Boxplot และ Violin Plot\")"
      ],
      "execution_count": null,
      "outputs": []
    },
    {
      "cell_type": "markdown",
      "metadata": {
        "id": "2a53afa3"
      },
      "source": [
        "## 7 Summary Table ของ Distribution\n",
        "*   รวมค่า mean±std, median, skewness, kurtosis\n",
        "*   ไว้ในตารางเดียวอ่านง่าย"
      ]
    },
    {
      "cell_type": "code",
      "metadata": {
        "id": "08612cc5"
      },
      "source": [
        "# เลือกคอลัมน์ตัวเลขที่คุณต้องการสรุป Distribution\n",
        "numerical_cols_for_summary = df.select_dtypes(include=np.number).columns.tolist()\n",
        "\n",
        "if len(numerical_cols_for_summary) > 0:\n",
        "    distribution_summary = df[numerical_cols_for_summary].agg(['mean', 'median', 'std', 'skew', 'kurtosis']).T\n",
        "    # เพิ่มคอลัมน์ mean±std\n",
        "    distribution_summary['mean ± std'] = distribution_summary['mean'].round(2).astype(str) + ' ± ' + distribution_summary['std'].round(2).astype(str)\n",
        "    # เลือกคอลัมน์ที่จะแสดงในตารางสรุป\n",
        "    distribution_summary = distribution_summary[['mean ± std', 'median', 'skew', 'kurtosis']]\n",
        "    print(\"ตารางสรุป Distribution ของตัวแปรตัวเลข:\")\n",
        "    display(distribution_summary)\n",
        "else:\n",
        "    print(\"ไม่พบคอลัมน์ตัวเลขใน DataFrame สำหรับสร้างตารางสรุป Distribution\")"
      ],
      "execution_count": null,
      "outputs": []
    },
    {
      "cell_type": "markdown",
      "metadata": {
        "id": "45befc9e"
      },
      "source": [
        "## 8 Hands-on Exercise\n",
        "*   เลือกตัวแปรสำคัญ 2 ตัว\n",
        "*   คำนวณสถิติพื้นฐาน\n",
        "*   วาด histogram, KDE และ boxplot\n",
        "*   สรุปลักษณะการแจกแจง (symmetry, skew, multimodal ฯลฯ)"
      ]
    },
    {
      "cell_type": "markdown",
      "metadata": {
        "id": "fc5c3964"
      },
      "source": [
        "**คำแนะนำ:**\n",
        "\n",
        "1.  เลือกคอลัมน์ 2-3 ตัวจาก DataFrame ของคุณที่คุณคิดว่าน่าสนใจ\n",
        "2.  ใช้โค้ดจากขั้นตอนที่ 2 เพื่อคำนวณสถิติพื้นฐานสำหรับคอลัมน์ที่เลือก\n",
        "3.  ใช้โค้ดจากขั้นตอนที่ 4, 5, และ 6 เพื่อวาด histogram, KDE และ boxplot สำหรับคอลัมน์ที่เลือก\n",
        "4.  พิจารณากราฟและค่าสถิติที่ได้ เพื่ออธิบายลักษณะการแจกแจงของแต่ละคอลัมน์ เช่น:\n",
        "    *   **Symmetry:** การแจกแจงสมมาตรหรือไม่? (ดูจาก mean, median และรูปร่างของ histogram/KDE)\n",
        "    *   **Skewness:** มีความเบ้ไปทางซ้าย (negative skew) หรือขวา (positive skew) หรือไม่? (ดูจากค่า skewness และรูปร่างกราฟ)\n",
        "    *   **Kurtosis:** การแจกแจงมีปลายที่หนาหรือบางกว่าการแจกแจงปกติหรือไม่? (ดูจากค่า kurtosis)\n",
        "    *   **Multimodal:** มีฐานนิยม (peak) มากกว่าหนึ่งจุดหรือไม่? (ดูจาก histogram/KDE)\n",
        "    *   **Outliers:** มีค่าผิดปกติหรือไม่? (ดูจาก boxplot)"
      ]
    },
    {
      "cell_type": "code",
      "source": [],
      "metadata": {
        "id": "m3ffroDV-44-"
      },
      "execution_count": null,
      "outputs": []
    },
    {
      "cell_type": "code",
      "source": [],
      "metadata": {
        "id": "J9x86qA9-41W"
      },
      "execution_count": null,
      "outputs": []
    },
    {
      "cell_type": "markdown",
      "source": [
        "### สรุป\n",
        "ความสำคัญของ  Descriptive Statistics และ Distribution\n",
        "\n",
        "- **เข้าใจลักษณะการแจกแจงของข้อมูล**  \n",
        "  - ช่วยระบุรูปแบบการกระจาย (เช่น ปกติ เบ้ซ้าย เบ้ขวา หรือหลายพีก)  \n",
        "  - สังเกตความเบ้ (skewness) และความแหลม (kurtosis) เพื่อเตรียมปรับแต่งข้อมูลก่อน modeling  \n",
        "\n",
        "- **ให้ภาพรวมสถิติหลักของตัวแปร**  \n",
        "  - รวบรวมค่า mean, median, mode, std, var, quartiles ไว้ในตารางสรุป  \n",
        "  - ใช้สถิติเหล่านี้ในการเปรียบเทียบคุณสมบัติของตัวแปรต่าง ๆ  \n",
        "\n",
        "- **สนับสนุนการตัดสินใจด้าน preprocessing**  \n",
        "  - ถ้าพบ distribution ที่เบ้มาก อาจพิจารณา transformation (log, sqrt)  \n",
        "  - หากเห็น multimodal distribution อาจแบ่งกลุ่มข้อมูลหรือสร้าง feature ใหม่  \n",
        "\n",
        "- **เตรียมพื้นฐานก่อนการทดสอบสมมติฐานและ modeling**  \n",
        "  - การแจกแจงปกติ (normality) เป็นสมมติฐานสำคัญของหลายสถิติและโมเดล  \n",
        "  - ช่วยเลือกวิธีวิเคราะห์ (parametric vs. non-parametric) ได้อย่างเหมาะสม  \n",
        "\n",
        "- **เพิ่มความเข้าใจผ่าน Visualization**  \n",
        "  - Histogram, KDE, boxplot และ violin plot ช่วยให้มองเห็น pattern ได้ชัดเจน  \n",
        "  - การนำเสนอกราฟช่วยสื่อสารผลการวิเคราะห์ให้ทีมและผู้มีส่วนได้ส่วนเสียเข้าใจง่าย  "
      ],
      "metadata": {
        "id": "xkm8FEfZ-5XZ"
      }
    },
    {
      "cell_type": "code",
      "source": [],
      "metadata": {
        "id": "mm6FhWX4_Hey"
      },
      "execution_count": null,
      "outputs": []
    }
  ]
}