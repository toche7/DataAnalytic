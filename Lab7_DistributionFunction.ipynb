{
  "cells": [
    {
      "cell_type": "markdown",
      "metadata": {
        "id": "view-in-github",
        "colab_type": "text"
      },
      "source": [
        "<a href=\"https://colab.research.google.com/github/toche7/DataAnalytic/blob/main/Lab7_DistributionFunction.ipynb\" target=\"_parent\"><img src=\"https://colab.research.google.com/assets/colab-badge.svg\" alt=\"Open In Colab\"/></a>"
      ]
    },
    {
      "cell_type": "markdown",
      "metadata": {
        "collapsed": false,
        "id": "bacad7"
      },
      "source": [
        "# Lab 7: Distribution Function"
      ]
    },
    {
      "cell_type": "markdown",
      "metadata": {
        "collapsed": false,
        "id": "8873fc"
      },
      "source": [
        "## Random Number"
      ]
    },
    {
      "cell_type": "markdown",
      "metadata": {
        "collapsed": false,
        "id": "5080a6"
      },
      "source": [
        "### Normal Distribution Random Number\n",
        "\n",
        "Normal Distribution Random Number (หรือเรียกสั้น ๆ ว่า Gaussian Random Number) คือตัวเลขที่ถูกสุ่มขึ้นโดยใช้การแจกแจงปกติ (Normal Distribution) ซึ่งเป็นหนึ่งในการแจกแจงของตัวแปรสุ่มที่สำคัญในสถิติและคณิตศาสตร์\n",
        "\n",
        "เราสามารถสร้างตัวเลขสุ่มโดย  numpy แต่ใน lab นี้จะลองสร้างด้วย scipy.stats ได้ดังนี้"
      ]
    },
    {
      "cell_type": "code",
      "execution_count": null,
      "metadata": {
        "id": "bc377a"
      },
      "outputs": [],
      "source": [
        "import numpy as np\n",
        "from scipy.stats import norm\n",
        "r = norm.rvs(size=10)"
      ]
    },
    {
      "cell_type": "code",
      "execution_count": null,
      "metadata": {
        "id": "135a82"
      },
      "outputs": [],
      "source": [
        "r"
      ]
    },
    {
      "cell_type": "code",
      "execution_count": null,
      "metadata": {
        "id": "d8b715"
      },
      "outputs": [],
      "source": [
        "help(norm.rvs)"
      ]
    },
    {
      "cell_type": "code",
      "execution_count": null,
      "metadata": {
        "id": "ecf99e"
      },
      "outputs": [],
      "source": [
        "import numpy as np\n",
        "from scipy.stats import norm\n",
        "import matplotlib.pyplot as plt\n",
        "fig, ax = plt.subplots(1, 1)\n",
        "r = norm.rvs(size=1000)\n",
        "ax.hist(r, density=True, bins='auto', histtype='stepfilled', alpha=0.5, label='Normal RV')\n",
        "ax.set_xlim(-3, 3)\n",
        "ax.legend(loc='best', frameon=False)\n",
        "plt.show()"
      ]
    },
    {
      "cell_type": "markdown",
      "metadata": {
        "collapsed": false,
        "id": "0486f5"
      },
      "source": [
        "### Uniform Distribution Random Number\n",
        "\n",
        "Uniform Distribution Random Number หมายถึง ตัวเลขที่ถูกสุ่มขึ้นโดยใช้การแจกแจงแบบค่าคงที่ (Uniform Distribution) หรือเรียกอีกชื่อว่าการแจกแจงแบบแรนดอม (Uniform Random Distribution) หรือการแจกแจงแบบแบ่งส่วนเท่า (Continuous Uniform Distribution) ซึ่งเป็นการแจกแจงของตัวแปรสุ่มที่มีความน่าจะเป็นเท่ากันทั้งในช่วงค่าที่กำหนด"
      ]
    },
    {
      "cell_type": "code",
      "execution_count": null,
      "metadata": {
        "id": "31b6f9"
      },
      "outputs": [],
      "source": [
        "import numpy as np\n",
        "from scipy.stats import uniform\n",
        "import matplotlib.pyplot as plt\n",
        "fig, ax = plt.subplots(1, 1)\n",
        "r = uniform.rvs(size=1000)\n",
        "ax.hist(r, density=True, bins='auto', histtype='stepfilled', alpha=0.2, label='Uniform RV')\n",
        "ax.set_xlim(-1, 2)\n",
        "ax.legend(loc='best', frameon=False)\n",
        "plt.show()"
      ]
    },
    {
      "cell_type": "markdown",
      "metadata": {
        "collapsed": false,
        "id": "9533c4"
      },
      "source": [
        "## Probability Density Function (PDF)"
      ]
    },
    {
      "cell_type": "markdown",
      "metadata": {
        "collapsed": false,
        "id": "cb9614"
      },
      "source": [
        "\n",
        "Probability Density Function (PDF) เป็นฟังก์ชันทางคณิตศาสตร์ที่ใช้ในการอธิบายการแจกแจงของตัวแปรสุ่มแบบต่อเนื่อง (Continuous Random Variable) โดยระบุความน่าจะเป็นที่ตัวแปรสุ่มจะมีค่าอยู่ในช่วงค่าใด ๆ ในแกนค่าของตัวแปรนั้น ๆ โดย PDF ไม่ให้ความน่าจะเป็นตรงๆ แต่ให้ความน่าจะเป็นต่อหน่วยความยาว (หรือหน่วยพื้นที่ในกรณีที่ตัวแปรเป็นสองมิติ) ในแกนนั้น ๆ ดังนั้นความน่าจะเป็นในการแจกแจงทั้งหมดจะเท่ากับ 1\n",
        "\n",
        "ในสัญลักษณ์คณิตศาสตร์, PDF ของตัวแปรสุ่ม $X$ มักจะเขียนแทนด้วย $f(x)$ และถ้าเราต้องการหาความน่าจะเป็นที่ $X$ จะมีค่าอยู่ในช่วงระหว่าง $a$ ถึง $b$ (เมื่อ $a < b$) เราสามารถคำนวณได้ด้วยการหาพื้นที่ใต้กราฟของ $f(x)$ ระหว่าง $a$ และ $b$ ซึ่งเท่ากับ integral ของ $f(x)$ ระหว่าง $a$ และ $b$\n",
        "\n",
        "$$\n",
        "\\text{P}(a \\leq X \\leq b) = \\int_{a}^{b} f(x) dx  \n",
        "$$\n",
        "\n",
        "\n",
        "PDF มีคุณสมบัติสำคัญคือ\n",
        "1. ค่า PDF ต้องเป็นบวกหรือศูนย์ ทุกที่ในช่วงค่าที่คำนวณได้\n",
        "2. พื้นที่ใต้กราฟของ PDF ระหว่าง -∞ ถึง +∞ เท่ากับ 1\n",
        "3. PDF ช่วยในการคำนวณความน่าจะเป็นของตัวแปรสุ่มในช่วงค่าใด ๆ โดยใช้การอินทิเกรต\n",
        "\n",
        "ตัวอย่างของ PDF ที่รู้จักกันมากคือ PDF ของการแจกแจงปกติ (Normal Distribution) และ PDF ของการแจกแจงแบบค่าคงที่ (Uniform Distribution) ซึ่งใช้ในการอธิบายการแจกแจงของตัวแปรสุ่มต่อเนื่องในกรณีต่าง ๆ ในสถิติและคณิตศาสตร์\n",
        "\n"
      ]
    },
    {
      "cell_type": "code",
      "execution_count": null,
      "metadata": {
        "id": "389fe7"
      },
      "outputs": [],
      "source": [
        "import numpy as np\n",
        "from scipy.stats import norm\n",
        "norm.pdf(2)"
      ]
    },
    {
      "cell_type": "code",
      "execution_count": null,
      "metadata": {
        "id": "704983"
      },
      "outputs": [],
      "source": [
        "help(norm.pdf)"
      ]
    },
    {
      "cell_type": "code",
      "execution_count": null,
      "metadata": {
        "id": "b169e2"
      },
      "outputs": [],
      "source": [
        "x = np.linspace(-2,2,50)\n",
        "norm.pdf(x)\n",
        "plt.plot(x, norm.pdf(x))"
      ]
    },
    {
      "cell_type": "code",
      "execution_count": null,
      "metadata": {
        "id": "a7e0e5"
      },
      "outputs": [],
      "source": [
        "import numpy as np\n",
        "from scipy.stats import norm\n",
        "import matplotlib.pyplot as plt\n",
        "fig, ax = plt.subplots(1, 1);\n",
        "mean, var, skew, kurt = norm.stats(moments='mvsk')\n",
        "x = np.linspace(-3,3,100)\n",
        "ax.plot(x, norm.pdf(x), 'r-', lw=2, label='norm pdf')\n",
        "\n",
        "r = norm.rvs(size=1000)\n",
        "ax.hist(r, density=True, bins='auto', histtype='stepfilled', alpha=0.2)\n",
        "ax.set_xlim([x[0], x[-1]])\n",
        "ax.legend(loc='best', frameon=False)\n",
        "plt.show()"
      ]
    },
    {
      "cell_type": "code",
      "execution_count": null,
      "metadata": {
        "id": "367477"
      },
      "outputs": [],
      "source": [
        "print(mean, var, skew, kurt )"
      ]
    },
    {
      "cell_type": "code",
      "execution_count": null,
      "metadata": {
        "id": "236e8d"
      },
      "outputs": [],
      "source": [
        "import numpy as np\n",
        "from scipy.stats import norm\n",
        "import matplotlib.pyplot as plt\n",
        "fig, ax = plt.subplots(1, 1);\n",
        "mean, var, skew, kurt = norm.stats(moments='mvsk')\n",
        "x = np.linspace(-3,3,100)\n",
        "ax.plot(x, norm.pdf(x), 'r-', label='norm pdf')\n",
        "ax.legend(loc='best', frameon=False)\n",
        "plt.show()"
      ]
    },
    {
      "cell_type": "code",
      "execution_count": null,
      "metadata": {
        "id": "7ae907"
      },
      "outputs": [],
      "source": [
        "import numpy as np\n",
        "from scipy.stats import uniform\n",
        "import matplotlib.pyplot as plt\n",
        "fig, ax = plt.subplots(1, 1);\n",
        "mean, var, skew, kurt = uniform.stats(moments='mvsk')\n",
        "x = np.linspace(-1,2,100)\n",
        "ax.plot(x, uniform.pdf(x), 'r-', label='uniform pdf')\n",
        "ax.legend(loc='best', frameon=False)\n",
        "plt.show()"
      ]
    },
    {
      "cell_type": "code",
      "execution_count": null,
      "metadata": {
        "id": "fa2421"
      },
      "outputs": [],
      "source": [
        "print(mean, var, skew, kurt )"
      ]
    },
    {
      "cell_type": "code",
      "execution_count": null,
      "metadata": {
        "id": "4c8b4f"
      },
      "outputs": [],
      "source": [
        "import numpy as np\n",
        "from scipy.stats import chi2\n",
        "import matplotlib.pyplot as plt\n",
        "fig, ax = plt.subplots(1, 1);\n",
        "\n",
        "df = 55\n",
        "mean, var, skew, kurt = chi2.stats(df, moments='mvsk')\n",
        "\n",
        "x = np.linspace(chi2.ppf(0.01, df),\n",
        "                chi2.ppf(0.99, df), 100)\n",
        "ax.plot(x, chi2.pdf(x,df), 'r-', label='chi2 pdf')\n",
        "ax.legend(loc='best', frameon=False)\n",
        "plt.show()"
      ]
    },
    {
      "cell_type": "code",
      "execution_count": null,
      "metadata": {
        "id": "72460e"
      },
      "outputs": [],
      "source": []
    },
    {
      "cell_type": "markdown",
      "metadata": {
        "collapsed": false,
        "id": "9ffef9"
      },
      "source": [
        "## Cumulative Probality Funciton (CDF)"
      ]
    },
    {
      "cell_type": "markdown",
      "metadata": {
        "collapsed": false,
        "id": "9c302d"
      },
      "source": [
        "Cumulative Probability Function (CDF) หรือฟังก์ชันความน่าจะเป็นสะสมเป็นแนวคิดที่ใช้ในทฤษฎีความน่าจะเป็นและสถิติเพื่ออธิบายความน่าจะเป็นสะสมของตัวแปรสุ่มที่มีค่าน้อยกว่าหรือเท่ากับค่าใด ๆ ที่ระบุ นี่เป็นส่วนหนึ่งของที่เรียกว่าฟังก์ชันการกระจายสะสม (Cumulative Distribution Function)\n",
        "\n",
        "ในสัญลักษณ์คณิตศาสตร์ ฟังก์ชัน CDF ของตัวแปรสุ่ม X มักจะแทนด้วย F(x) และถูกนิยามให้เป็น\n",
        "\n",
        "$$\n",
        "F(x) = \\text{P}(X \\leq x) \\tag{2}\n",
        "$$\n",
        "\n",
        "ในคำอธิบายความหมายทั่วไป ฟังก์ชัน CDF F(x) ที่ค่า x บางค่า แทนความน่าจะเป็นที่ตัวแปรสุ่ม X มีค่าน้อยกว่าหรือเท่ากับ x นั่นคือ ในสัญลักษณ์ CDF F(x) ที่ค่า x ระบุ หมายถึงความน่าจะเป็นที่ตัวแปรสุ่ม X จะมีค่าอยู่ในช่วงนั้น ๆ นี่คือบทบาทของ F(x) ในความหมายทั่วไป\n",
        "\n",
        "นี่คือคุณสมบัติและลักษณะสำคัญของ CDF\n",
        "\n",
        "1. **ฟังก์ชันไม่เรียงลำดับ**: ฟังก์ชัน CDF เป็นฟังก์ชันที่ไม่เรียงลำดับ หมายความว่าเมื่อ x เพิ่มขึ้น F(x) ไม่ลดลง มันสามารถคงค่าเดิมหรือเพิ่มขึ้นได้ แต่ไม่ลดลง\n",
        "\n",
        "2. **ขอบเขต**: เมื่อ x มุ่งหน้าสู่อินฟินิตลบ F(x) มุ่งหน้าสู่ 0 และเมื่อ x มุ่งหน้าสู่อินฟินิตบวก F(x) มุ่งหน้าสู่ 1 นี้แสดงให้เห็นว่าความน่าจะเป็นของ X น้อยกว่าอินฟินิตลบเป็น 0 และความน่าจะเป็นของ X น้อยกว่าอินฟินิตบวกเป็น 1\n",
        "\n",
        "3. **ฟังก์ชันบันได**: ในกรณีของตัวแปรสุ่มแบบไม่ต่อเนื่อง (discrete random variables) ฟังก์ชัน CDF เป็นฟังก์ชันบันได (step function) ที่มีการกระโดดที่ค่าที่เป็นไปได้แต่ละค่าของตัวแปรสุ่ม\n",
        "\n",
        "4. **ตัวแปรสุ่มแบบต่อเนื่อง**: สำหรับตัวแปรสุ่มแบบต่อเนื่อง (continuous random variables) ฟังก์ชัน CDF เป็นฟังก์ชันต่อเนื่อง มักถูกคำนวณโดยการบวกพื้นที่ใต้กราฟของ Probability Density Function (PDF) ของตัวแปรสุ่มในช่วงระหว่างลบอินฟินิตลบถึง x\n",
        "\n",
        "ฟังก์ชัน CDF เป็นหนึ่งในแนวคิดที่สำคัญในสถิติและความน่าจะเป็น มันมีประโยชน์ในหลายประการ เช่น\n",
        "\n",
        "- คำนวณความน่าจะเป็นสำหรับช่วงค่าของตัวแปรสุ่มที่ระบุ\n",
        "- คำนวณเปอร์เซ็นไทล์ (เช่น มัธยฐาน, ควอไทล์) ของการกระจาย\n",
        "- การกำหนดการกระจายสะสมของตัวแปรสุ่ม ซึ่งสามารถใช้ในการวิเคราะห์สถิติในหลาย ๆ ทาง\n",
        "\n"
      ]
    },
    {
      "cell_type": "code",
      "execution_count": null,
      "metadata": {
        "id": "d790c7"
      },
      "outputs": [],
      "source": [
        "import numpy as np\n",
        "from scipy.stats import norm\n",
        "norm.cdf(2)"
      ]
    },
    {
      "cell_type": "code",
      "execution_count": null,
      "metadata": {
        "id": "af06bc"
      },
      "outputs": [],
      "source": [
        "help(norm.cdf)"
      ]
    },
    {
      "cell_type": "code",
      "execution_count": null,
      "metadata": {
        "id": "47bdcd"
      },
      "outputs": [],
      "source": [
        "import numpy as np\n",
        "from scipy.stats import norm\n",
        "import matplotlib.pyplot as plt\n",
        "fig, ax = plt.subplots(1, 1);\n",
        "mean, var, skew, kurt = norm.stats(moments='mvsk')\n",
        "x = np.linspace(-3,3,100)\n",
        "ax.plot(x, norm.cdf(x), 'r-', label='norm cdf')\n",
        "ax.legend(loc='best', frameon=False)\n",
        "plt.show()"
      ]
    },
    {
      "cell_type": "markdown",
      "metadata": {
        "collapsed": false,
        "id": "4e83d3"
      },
      "source": []
    },
    {
      "cell_type": "code",
      "execution_count": null,
      "metadata": {
        "id": "a58e78"
      },
      "outputs": [],
      "source": [
        "import numpy as np\n",
        "from scipy.stats import uniform\n",
        "import matplotlib.pyplot as plt\n",
        "fig, ax = plt.subplots(1, 1);\n",
        "mean, var, skew, kurt = uniform.stats(moments='mvsk')\n",
        "x = np.linspace(-1,2,100)\n",
        "ax.plot(x, uniform.cdf(x), 'r-', label='uniform cdf')\n",
        "ax.legend(loc='best', frameon=False)\n",
        "plt.show()"
      ]
    },
    {
      "cell_type": "code",
      "execution_count": null,
      "metadata": {
        "id": "0df0b9"
      },
      "outputs": [],
      "source": [
        "import numpy as np\n",
        "from scipy.stats import chi2\n",
        "import matplotlib.pyplot as plt\n",
        "fig, ax = plt.subplots(1, 1);\n",
        "\n",
        "df = 55\n",
        "mean, var, skew, kurt = chi2.stats(df, moments='mvsk')\n",
        "\n",
        "x = np.linspace(chi2.ppf(0.01, df),\n",
        "                chi2.ppf(0.99, df), 100)\n",
        "ax.plot(x, chi2.cdf(x,df), 'r-', label='chi2 cdf')\n",
        "ax.legend(loc='best', frameon=False)\n",
        "plt.show()"
      ]
    },
    {
      "cell_type": "markdown",
      "metadata": {
        "collapsed": false,
        "id": "1637c2"
      },
      "source": [
        "### Ex\n",
        "หากการะจายเป็น standard normal distribution จงคำนวณหาความน่าจะที่อยู่ต่ำกว่า 0.67, (x < 0.67)"
      ]
    },
    {
      "cell_type": "code",
      "execution_count": null,
      "metadata": {
        "id": "4b8597"
      },
      "outputs": [],
      "source": []
    },
    {
      "cell_type": "markdown",
      "metadata": {
        "collapsed": false,
        "id": "4a9829"
      },
      "source": [
        "### Ex\n",
        "หากการะจายเป็น standard normal distribution จงคำนวณหาความน่าจะที่ค่า $x$ อยู่ระหว่าง 0 ถึง 0.67, P$(0 \\le x < 0.67)$"
      ]
    },
    {
      "cell_type": "code",
      "execution_count": null,
      "metadata": {
        "id": "35cb2a"
      },
      "outputs": [],
      "source": []
    },
    {
      "cell_type": "markdown",
      "metadata": {
        "collapsed": false,
        "id": "94d24d"
      },
      "source": [
        "### Ex\n",
        "หากการะจายเป็น standard normal distribution จงคำนวณหาความน่าจะที่ค่า $x$  อยู่ระหว่าง -1 ถึง 1, P$(-1 \\le x < 1)$"
      ]
    },
    {
      "cell_type": "code",
      "execution_count": null,
      "metadata": {
        "id": "17cb3e"
      },
      "outputs": [],
      "source": []
    },
    {
      "cell_type": "markdown",
      "metadata": {
        "collapsed": false,
        "id": "1215ca"
      },
      "source": [
        "### Ex\n",
        "หากการะจายเป็น standard normal distribution จงคำนวณหาความน่าจะที่ค่า $x$ มากว่า  1, P$( x > 1)$"
      ]
    },
    {
      "cell_type": "code",
      "execution_count": null,
      "metadata": {
        "id": "391b78"
      },
      "outputs": [],
      "source": []
    },
    {
      "cell_type": "markdown",
      "metadata": {
        "collapsed": false,
        "id": "f12b60"
      },
      "source": [
        "## Percent point function (inverse of cdf — percentiles)."
      ]
    },
    {
      "cell_type": "markdown",
      "source": [
        "ฟังก์ชันจุดเปอร์เซ็นไทล์ (Percent point function - PPF) หรือที่เรียกว่า ฟังก์ชันผกผันของการแจกแจงสะสม (Inverse Cumulative Distribution Function - Inverse CDF) หรือ ฟังก์ชันควอนไทล์ (Quantile Function) เป็นฟังก์ชันที่ใช้ในการหาค่าของตัวแปรสุ่ม ณ ตำแหน่งควอนไทล์ที่กำหนด\n",
        "\n",
        "ในทางคณิตศาสตร์ หาก $F(x)$  คือ ฟังก์ชันการแจกแจงสะสม (CDF) ของตัวแปรสุ่ม $X$  ซึ่งกำหนดโดย $F(x) = P(X \\leq x)$ แล้ว ฟังก์ชันจุดเปอร์เซ็นไทล์ $F^{-1}(p)$  จะเป็นฟังก์ชันผกผันของ $F(x)$ โดยที่ $p$ คือค่าความน่าจะเป็นสะสม และ $0 \\leq p \\leq 1$  ดังนั้น $F^{-1}(p)$ จะให้ค่า $x$  ที่ทำให้ $P(X \\leq x) = p$\n",
        "\n",
        "\n",
        "\n",
        "ในบริบทของไลบรารี scipy.stats เมธอด ppf() ของการแจกแจงต่างๆ คือการนำฟังก์ชันจุดเปอร์เซ็นไทล์มาใช้งาน เพื่อให้สามารถคำนวณหาค่าของตัวแปรสุ่มจากค่าความน่าจะเป็นสะสมที่ต้องการได้"
      ],
      "metadata": {
        "id": "Ehv9hExeQAA_"
      }
    },
    {
      "cell_type": "code",
      "execution_count": null,
      "metadata": {
        "id": "0caa39"
      },
      "outputs": [],
      "source": [
        "import numpy as np\n",
        "from scipy.stats import norm\n",
        "norm.ppf(0.9)"
      ]
    },
    {
      "cell_type": "markdown",
      "metadata": {
        "collapsed": false,
        "id": "2c6cf7"
      },
      "source": [
        "### Ex\n",
        "หากการะจายเป็น standard normal distribution จงคำนวณหาค่าตำแหน่ง $v$ ที่ทำให้ความน่าจะที่อยู่ต่ำกว่าค่านี้มีค่าเป็น  0.75, $\\text{P}(x>v) = 0.75$"
      ]
    },
    {
      "cell_type": "code",
      "execution_count": null,
      "metadata": {
        "id": "187999"
      },
      "outputs": [],
      "source": []
    },
    {
      "cell_type": "code",
      "execution_count": null,
      "metadata": {
        "id": "ab2cde"
      },
      "outputs": [],
      "source": []
    },
    {
      "cell_type": "markdown",
      "metadata": {
        "collapsed": false,
        "id": "c6d6b4"
      },
      "source": [
        "### Reference"
      ]
    },
    {
      "cell_type": "markdown",
      "metadata": {
        "collapsed": false,
        "id": "29967b"
      },
      "source": [
        "https://docs.scipy.org/doc/scipy/reference/generated/scipy.stats.norm.html"
      ]
    }
  ],
  "metadata": {
    "kernelspec": {
      "argv": [
        "/usr/bin/python3",
        "-m",
        "ipykernel",
        "--HistoryManager.enabled=False",
        "--matplotlib=inline",
        "-c",
        "%config InlineBackend.figure_formats = set(['retina'])\nimport matplotlib; matplotlib.rcParams['figure.figsize'] = (12, 7)",
        "-f",
        "{connection_file}"
      ],
      "display_name": "Python 3 (system-wide)",
      "env": {},
      "language": "python",
      "metadata": {
        "cocalc": {
          "description": "Python 3 programming language",
          "priority": 100,
          "url": "https://www.python.org/"
        }
      },
      "name": "python3",
      "resource_dir": "/ext/jupyter/kernels/python3"
    },
    "language_info": {
      "codemirror_mode": {
        "name": "ipython",
        "version": 3
      },
      "file_extension": ".py",
      "mimetype": "text/x-python",
      "name": "python",
      "nbconvert_exporter": "python",
      "pygments_lexer": "ipython3",
      "version": "3.10.12"
    },
    "nbgrader": {
      "cocalc_minimal_stubs": false
    },
    "colab": {
      "provenance": [],
      "include_colab_link": true
    }
  },
  "nbformat": 4,
  "nbformat_minor": 0
}