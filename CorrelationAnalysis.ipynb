{
  "nbformat": 4,
  "nbformat_minor": 0,
  "metadata": {
    "colab": {
      "provenance": [],
      "authorship_tag": "ABX9TyP0Xc74rxxjy+qVs4JzW7RV",
      "include_colab_link": true
    },
    "kernelspec": {
      "name": "python3",
      "display_name": "Python 3"
    },
    "language_info": {
      "name": "python"
    }
  },
  "cells": [
    {
      "cell_type": "markdown",
      "metadata": {
        "id": "view-in-github",
        "colab_type": "text"
      },
      "source": [
        "<a href=\"https://colab.research.google.com/github/toche7/DataAnalytic/blob/main/CorrelationAnalysis.ipynb\" target=\"_parent\"><img src=\"https://colab.research.google.com/assets/colab-badge.svg\" alt=\"Open In Colab\"/></a>"
      ]
    },
    {
      "cell_type": "markdown",
      "source": [
        "# Introduction to Colab"
      ],
      "metadata": {
        "id": "f0mmTfGsLEHB"
      }
    },
    {
      "cell_type": "code",
      "source": [],
      "metadata": {
        "id": "GtFjRaPjLIzb"
      },
      "execution_count": 5,
      "outputs": []
    },
    {
      "cell_type": "code",
      "source": [],
      "metadata": {
        "id": "257P6fI_LIvL"
      },
      "execution_count": 5,
      "outputs": []
    },
    {
      "cell_type": "code",
      "source": [],
      "metadata": {
        "id": "tYmjZap-LIrE"
      },
      "execution_count": 5,
      "outputs": []
    },
    {
      "cell_type": "markdown",
      "source": [],
      "metadata": {
        "id": "hUmkqbfzLKR9"
      }
    },
    {
      "cell_type": "markdown",
      "source": [],
      "metadata": {
        "id": "DDqWvmTGLJGS"
      }
    },
    {
      "cell_type": "markdown",
      "metadata": {
        "id": "NsDEbQ7VULyt"
      },
      "source": [
        "##Correlatoin (สหสัมพันธ์)\n",
        "การหาความสัมพันธ์ของข้อมูลว่ามีลักษณะที่เป็นแบบแปรผันตรงหรือแปรผันผกผันนั้นสามารถทำได้ด้วยวิธีการที่เรียกว่าการหาค่า Correlation\n",
        "\n",
        "โดยสามารถแสดงได้ดังตัวอย่างต่อไปนี้\n"
      ]
    },
    {
      "cell_type": "code",
      "metadata": {
        "id": "sr8TXUhzBh_E",
        "colab": {
          "base_uri": "https://localhost:8080/",
          "height": 469
        },
        "outputId": "96f088cb-6705-49aa-89cd-5dc8e573b0c3"
      },
      "source": [
        "import numpy as np\n",
        "import matplotlib.pyplot as plt\n",
        "x = np.array([61, 63, 67, 69, 70, 74, 76, 81, 86, 91,95,97])\n",
        "y = np.array([4.28, 4.08, 4.42, 4.17, 4.48, 4.3, 4.82, 4.7, 5.11, 5.13, 5.64, 5.56])\n",
        "plt.scatter(x, y, c = 'red')\n",
        "plt.xlabel('Passengers')\n",
        "plt.ylabel('Fuel Cost')\n",
        "plt.show()"
      ],
      "execution_count": 6,
      "outputs": [
        {
          "output_type": "display_data",
          "data": {
            "text/plain": [
              "<Figure size 640x480 with 1 Axes>"
            ],
            "image/png": "[encoded data removed]"
          },
          "metadata": {}
        }
      ]
    },
    {
      "cell_type": "code",
      "source": [
        "r = np.corrcoef(x, y)\n",
        "print(r)"
      ],
      "metadata": {
        "colab": {
          "base_uri": "https://localhost:8080/"
        },
        "id": "PrcFofcvLQDv",
        "outputId": "c9967583-61a8-4012-9294-9eab5f5d30aa"
      },
      "execution_count": 7,
      "outputs": [
        {
          "output_type": "stream",
          "name": "stdout",
          "text": [
            "[[1.         0.94820033]\n",
            " [0.94820033 1.        ]]\n"
          ]
        }
      ]
    }
  ]
}