{
  "cells": [
    {
      "cell_type": "markdown",
      "metadata": {
        "id": "view-in-github",
        "colab_type": "text"
      },
      "source": [
        "<a href=\"https://colab.research.google.com/github/toche7/DataAnalytic/blob/main/Lab9_Hypothesis_testing.ipynb\" target=\"_parent\"><img src=\"https://colab.research.google.com/assets/colab-badge.svg\" alt=\"Open In Colab\"/></a>"
      ]
    },
    {
      "cell_type": "markdown",
      "metadata": {
        "collapsed": false,
        "id": "5b1845"
      },
      "source": [
        "# Lab 9: Hypothesis Test"
      ]
    },
    {
      "cell_type": "markdown",
      "metadata": {
        "collapsed": false,
        "id": "c88eaf"
      },
      "source": [
        "การทดสอบสมมติฐาน (Hypothesis Testing) เป็นแนวคิดพื้นฐานในสถิติที่ใช้ในการทำนายและวิเคราะห์ข้อมูลโดยใช้ข้อมูลตัวอย่าง กระบวนการนี้เป็นกระบวนการที่ใช้กันอย่างแพร่หลายในหลายสาขาเช่น วิทยาศาสตร์ ธุรกิจ แพทย์ และสังคมศาสตร์\n",
        "\n",
        "ขั้นตอนสำคัญในการทดสอบสมมติฐานประกอบด้วย\n",
        "\n",
        "1. **ระบุสมมติฐานศูนย์ (Null Hypothesis, H0) และสมมติฐานทางเลือก(Alternative Hypothesis, H1 หรือ Ha)**\n",
        "   - **สมมติฐานศูนย์ (H0):** เป็นสมมติฐานเริ่มต้นหรือสมมติฐานที่ยังไม่มีผลส่งผลมาใด ๆ หรือไม่มีความแตกต่างหรือความสัมพันธ์ใด ๆ ในประชากร มันแทนสถานะปกติ\n",
        "   - **สมมติฐานทางเลือก (H1 หรือ Ha):** เป็นสมมติฐานที่คุณต้องการทดสอบ ซึ่งแสดงให้เห็นถึงผลกระทบที่มีนัยสำคัญหรือความแตกต่างในประชากร\n",
        "\n",
        "2. **เลือกระดับความสำคัญ (Significance Level, α):** ระดับความสำคัญ (significance level) บ่งบอกความน่าจะเป็นของการทำข้อผิดพลาดประเภท I (Type I error) ซึ่งคือการปฏิเสธสมมติฐานศูนย์ที่เป็นความจริง ระดับความหมายที่พบบ่อยมีค่าเท่ากับ 0.05 (5%) และ 0.01 (1%) แต่อาจถูกปรับแต่งตามบริบทและระดับความเสี่ยงที่คุณพร้อมรับ\n",
        "\n",
        "3. **เก็บและวิเคราะห์ข้อมูล:** เก็บตัวอย่างจากประชากรและวิเคราะห์ข้อมูลเพื่อคำนวณสถิติการทดสอบที่บ่งชี้ถึงผลกระทบหรือความแตกต่างที่สัมพันธ์กับสมมติฐานที่เราต้องการทดสอบ\n",
        "\n",
        "4. **กำหนดการกระจายของสถิติการทดสอบ:** เลือกสถิติการทดสอบที่เหมาะสม (เช่น t-test, chi-squared test, ANOVA) ขึ้นอยู่กับประเภทข้อมูลและคำถามวิจัย กำหนดการกระจายของสถิติการทดสอบภายใต้สมมติฐานศูนย์ (เช่น การกระจายปกติ, การกระจาย t-distribution)\n",
        "\n",
        "5. **คำนวณสถิติการทดสอบ:** คำนวณค่าสถิติการทดสอบโดยใช้ข้อมูลตัวอย่างและการทดสอบที่เลือก\n",
        "\n",
        "6. **กำหนดพื้นที่ว่างหรือค่า p-value:**\n",
        "   - **วิธีการพื้นที่ว่าง (Critical Region Approach):** กำหนดพื้นที่ว่างหรือพื้นที่ปฏิเสธในการกระจายของสถิติการทดสอบ หากค่าสถิติที่คำนวณตกอยู่ในพื้นที่ว่างนี้ คุณจะปฏิเสธสมมติฐานศูนย์\n",
        "   - **วิธีการค่า p-value (P-value Approach):** คำนวณค่า p-value ซึ่งแทนความน่าจะเป็นในการสังเกตสถิติการทดสอบที่มีค่าสถิติสัมพันธ์กับสถิติที่ได้ หากค่า p-value"
      ]
    },
    {
      "cell_type": "code",
      "execution_count": null,
      "metadata": {
        "id": "aed3ee"
      },
      "outputs": [],
      "source": [
        "import numpy as np\n",
        "import matplotlib.pyplot as plt\n",
        "from scipy.stats import norm\n",
        "\n",
        "def plot_normal_distribution_and_p_value(mean, std_dev, sample_mean, sample_size, al=0.01, TwoTail = True):\n",
        "    # Generate data for the normal distribution\n",
        "    x = np.linspace(mean - 3 * std_dev/np.sqrt(sample_size), mean + 3 * std_dev/np.sqrt(sample_size), 1000)\n",
        "    y = norm.pdf(x, mean, std_dev/np.sqrt(sample_size))\n",
        "\n",
        "\n",
        "    criVal = mean + norm.ppf(1- al)*std_dev/np.sqrt(sample_size)\n",
        "    criVal_ng = mean - norm.ppf(1- al)*std_dev/np.sqrt(sample_size)\n",
        "    # Create a figure and axes\n",
        "    fig, ax = plt.subplots()\n",
        "\n",
        "    # Plot the normal distribution\n",
        "    ax.plot(x, y, label='Normal Distribution')\n",
        "\n",
        "    # Calculate the z-score\n",
        "    z = (sample_mean - mean) / (std_dev / np.sqrt(sample_size))\n",
        "\n",
        "    # Calculate the p-value for H1 (Alternative Hypothesis)\n",
        "    p_value = 1 * norm.cdf(-np.abs(z))\n",
        "\n",
        "    # Calculate the p-value for H0 (Null Hypothesis)\n",
        "\n",
        "    # Highlight the area under the curve for H1\n",
        "    if TwoTail == True:\n",
        "        ax.fill_between(x, 0, y, where=((criVal_ng < x) & (x < criVal)), alpha=0.5, label='P(H1)')\n",
        "    else:\n",
        "        ax.fill_between(x, 0, y, where=(x < criVal), alpha=0.5, label='P(H1)')\n",
        "\n",
        "    # Highlight the area under the curve for H0\n",
        "    ax.fill_between(x, 0, y,  color='gray',  where=(x >= criVal), alpha=0.5, label='P(H0)')\n",
        "\n",
        "    if TwoTail == True:\n",
        "        ax.fill_between(x, 0, y,  color='gray', where=(x <= criVal_ng), alpha=0.5, label='P(H0)')\n",
        "\n",
        "    # Set labels and legend\n",
        "    ax.set_xlabel('X')\n",
        "    ax.set_ylabel('Probability Density')\n",
        "    ax.set_title('Normal Distribution and Hypothesis Testing')\n",
        "    ax.axvline(sample_mean, color='green', linestyle='--', label='Sample Mean')\n",
        "    ax.axvline(criVal, color='red', linestyle='--', label='Critical Value')\n",
        "    if TwoTail == True:\n",
        "        ax.axvline(criVal_ng, color='red', linestyle='--', label='Critical Value')\n",
        "\n",
        "    ax.legend()\n",
        "\n",
        "    # Show the plot\n",
        "    plt.show()\n",
        "\n",
        "    # Return the p-values for H1 and H0\n",
        "    return p_value\n",
        "\n"
      ]
    },
    {
      "cell_type": "code",
      "execution_count": null,
      "metadata": {
        "id": "8ceca4"
      },
      "outputs": [],
      "source": [
        "# One-tailed Test\n",
        "mean_population = 100\n",
        "std_dev_population = 15\n",
        "sample_mean = 102\n",
        "sample_size = 100\n",
        "alpha = 0.05\n",
        "P_value = plot_normal_distribution_and_p_value(mean_population, std_dev_population, sample_mean, sample_size, al = alpha, TwoTail = False )\n",
        "\n",
        "print(f'P-Value: {P_value}')"
      ]
    },
    {
      "cell_type": "code",
      "execution_count": null,
      "metadata": {
        "id": "4711db"
      },
      "outputs": [],
      "source": [
        "# Two-tailed Test\n",
        "mean_population = 100\n",
        "std_dev_population = 15\n",
        "sample_mean = 102\n",
        "sample_size = 100\n",
        "alpha = 0.025\n",
        "\n",
        "P_value = plot_normal_distribution_and_p_value(mean_population, std_dev_population, sample_mean, sample_size, al = alpha)\n",
        "\n",
        "print(f'P-Value: {P_value}')"
      ]
    },
    {
      "cell_type": "markdown",
      "metadata": {
        "collapsed": false,
        "id": "bf97c3"
      },
      "source": []
    },
    {
      "cell_type": "markdown",
      "metadata": {
        "collapsed": false,
        "id": "a4dc88"
      },
      "source": [
        "## Hypothesis Test of Brain Size Dataset"
      ]
    },
    {
      "cell_type": "code",
      "execution_count": null,
      "metadata": {
        "id": "2cc95b"
      },
      "outputs": [],
      "source": [
        "import pandas as pd\n",
        "url = (\n",
        "\"https://gist.githubusercontent.com/miguelpinia/3d589ad7c4365d2686a79bb7962bba04/raw/5fd04ffe66ef3c762deb81fe689b0730ea84e603/brain_size.csv\"\n",
        ")\n",
        "\n",
        "df = pd.read_csv(url, sep = ';',na_values ='.')"
      ]
    },
    {
      "cell_type": "code",
      "execution_count": null,
      "metadata": {
        "id": "be18e1"
      },
      "outputs": [],
      "source": [
        "df.head()"
      ]
    },
    {
      "cell_type": "code",
      "execution_count": null,
      "metadata": {
        "id": "fbc6e0"
      },
      "outputs": [],
      "source": [
        "df.shape"
      ]
    },
    {
      "cell_type": "code",
      "execution_count": null,
      "metadata": {
        "id": "183331"
      },
      "outputs": [],
      "source": [
        "df.info()"
      ]
    },
    {
      "cell_type": "markdown",
      "metadata": {
        "collapsed": false,
        "id": "833d56"
      },
      "source": [
        "ข้อมูล FSIQ (Full Scale IQ), VIQ (Verbal IQ), และ PIQ (Performance IQ) เป็นคะแนน IQ ที่วัดระดับความสมบูรณ์ของความชาญฉลาดหรือความสามารถทางปัญญาของบุคคลในสามด้านหลักต่าง ๆ:\n",
        "\n",
        "1. **FSIQ (Full Scale IQ)**: คะแนน IQ ระดับความสมบูรณ์ที่บรรจุทั้งความสามารถทางภาษาและความสามารถทางคณิตศาสตร์ มักใช้ในการวัดความสมบูรณ์ของปัญญาทั่วไป.\n",
        "\n",
        "2. **VIQ (Verbal IQ)**: คะแนน IQ ที่เกี่ยวข้องกับความสามารถทางภาษา มักเกี่ยวข้องกับการสื่อสารทางภาษาพูดและการอ่าน.\n",
        "\n",
        "3. **PIQ (Performance IQ)**: คะแนน IQ ที่เกี่ยวข้องกับความสามารถทางการปฏิบัติและการแก้ปัญหาทางคณิตศาสตร์และทักษะทางสมาธิ.\n",
        "\n",
        "ข้อมูลเหล่านี้อาจถูกใช้ในการศึกษาและวิจัยทางสังคมศาสตร์และจิตวิทยาเพื่อให้ความเข้าใจเกี่ยวกับความสามารถทางปัญญาและสมบรูณ์ของบุคคลในสถานการณ์ต่าง ๆ และอาจมีการวิเคราะห์ความสัมพันธ์ระหว่างคะแนน IQ ในแต่ละด้านกับปัจจัยต่าง ๆ อื่น ๆ ที่อาจมีผลต่อความสมบูรณ์ของความสามารถทางปัญญาของบุคคล."
      ]
    },
    {
      "cell_type": "markdown",
      "metadata": {
        "collapsed": false,
        "id": "eee3fa"
      },
      "source": [
        "### Hypothesis testing: comparing two groups"
      ]
    },
    {
      "cell_type": "markdown",
      "metadata": {
        "collapsed": false,
        "id": "11dc80"
      },
      "source": [
        "#### Student’s t-test: the simplest statistical test"
      ]
    },
    {
      "cell_type": "markdown",
      "metadata": {
        "collapsed": false,
        "id": "0ec08d"
      },
      "source": [
        "ฟังก์ชัน `ttest_1samp` เป็นฟังก์ชันที่ใช้ในการทดสอบสมมติฐานเพื่อหาค่า t-statistic และ p-value สำหรับการทดสอบว่าค่าเฉลี่ยของตัวแปรสุ่มหนึ่งตัวมีค่าเท่ากับค่าที่กำหนดหรือไม่ โดยใช้ข้อมูลตัวอย่างจากตัวแปรนั้น ๆ และค่าเฉลี่ยที่กำหนด (null hypothesis) เป็นตัวแปรที่ต้องทดสอบ\n",
        "\n",
        "โดยทั่วไป `ttest_1samp` ใช้งานได้ดังนี้:\n",
        "\n",
        "```python\n",
        "scipy.stats.ttest_1samp(sample_data, popmean)\n",
        "```\n",
        "\n",
        "- `sample_data`: ข้อมูลตัวอย่างที่คุณต้องการทดสอบ เป็นลิสต์หรืออาร์เรย์ของข้อมูลตัวอย่าง\n",
        "- `popmean`: ค่าเฉลี่ยที่คุณกำหนดให้เป็นสมมติฐานศูนย์ (null hypothesis) ว่าค่าเฉลี่ยของตัวแปรสุ่มเท่ากับค่านี้\n",
        "\n",
        "ผลลัพธ์ที่คืนมาจาก `ttest_1samp` มีสองส่วนหลัก:\n",
        "\n",
        "1. `t-statistic`: ค่า t-statistic คือค่าที่เกิดจากการคำนวณและแสดงถึงความแตกต่างระหว่างค่าเฉลี่ยของข้อมูลตัวอย่างและค่าเฉลี่ยที่กำหนดในสมมติฐานศูนย์ (null hypothesis) โดยถ้าค่า t-statistic มีค่ามากกว่า 0 แสดงว่าค่าเฉลี่ยของข้อมูลตัวอย่างมีความแตกต่างจากค่าเฉลี่ยที่กำหนด\n",
        "\n",
        "2. `p-value`: ค่า p-value คือค่าที่แสดงความน่าจะเป็นในการสังเกตค่า t-statistic ที่คำนวณได้ โดยต่อไปนี้:\n",
        "   - ถ้า p-value มีค่าน้อยกว่าระดับความน่าจะเป็น (significance level) ที่คุณกำหนด (โดยทั่วไปใช้ 0.05) คุณจะปฏิเสธสมมติฐานศูนย์ (null hypothesis) และสรุปว่ามีความแตกต่างค่าเฉลี่ย\n",
        "   - ถ้า p-value มีค่ามากกว่าระดับความน่าจะเป็นที่กำหนด คุณจะไม่ปฏิเสธสมมติฐานศูนย์ และไม่สรุปว่ามีความแตกต่างค่าเฉลี่ย\n",
        "\n",
        "การใช้ `ttest_1samp` ช่วยให้คุณสามารถทดสอบความสอดคล้องของค่าเฉลี่ยของข้อมูลตัวอย่างกับค่าที่คุณมีสมมติฐานเป็นอย่างไรบ้าง ซึ่งเป็นกระบวนการสำคัญในการวิเคราะห์และการตัดสินใจทางสถิติ"
      ]
    },
    {
      "cell_type": "code",
      "execution_count": null,
      "metadata": {
        "id": "e23412"
      },
      "outputs": [],
      "source": [
        "from scipy import stats"
      ]
    },
    {
      "cell_type": "markdown",
      "metadata": {
        "collapsed": false,
        "id": "f87a72"
      },
      "source": [
        "###### 1-sample t-test: testing the value of a population mean"
      ]
    },
    {
      "cell_type": "code",
      "execution_count": null,
      "metadata": {
        "id": "7c1e56"
      },
      "outputs": [],
      "source": [
        "stats.ttest_1samp(df['VIQ'], 0)"
      ]
    },
    {
      "cell_type": "code",
      "execution_count": null,
      "metadata": {
        "id": "af3334"
      },
      "outputs": [],
      "source": [
        "import numpy as np\n",
        "import matplotlib.pyplot as plt\n",
        "import scipy.stats as stats\n",
        "\n",
        "# Given values\n",
        "t_statistic = 30.08809997084933\n",
        "p_value = 1.3289196468727879e-28\n",
        "dgf = 39\n",
        "\n",
        "# Generate x values for the t-distribution\n",
        "x = np.linspace(-5, 5, 1000)\n",
        "\n",
        "# Calculate the t-distribution probability density function (PDF)\n",
        "pdf = stats.t.pdf(x, dgf)\n",
        "\n",
        "# Create a figure and axis\n",
        "fig, ax = plt.subplots(figsize=(10, 6))\n",
        "\n",
        "# Plot the t-distribution\n",
        "ax.plot(x, pdf, label='t-distribution (df=39)', color='blue')\n",
        "\n",
        "# Highlight the t-statistic with a vertical line\n",
        "ax.axvline(t_statistic, color='red', linestyle='--', label=f't-statistic = {t_statistic:.2f}')\n",
        "\n",
        "# Shade the area corresponding to the p-value\n",
        "x_shaded = np.linspace(-5, t_statistic, 1000)\n",
        "pdf_shaded = stats.t.pdf(x_shaded, dgf)\n",
        "ax.fill_between(x_shaded, pdf_shaded, color='gray', alpha=0.5, label=f'p-value = {p_value:.2e}')\n",
        "\n",
        "# Add labels and legend\n",
        "ax.set_xlabel('t-statistic')\n",
        "ax.set_ylabel('Probability Density')\n",
        "ax.set_title('t-Distribution with t-statistic and p-value')\n",
        "ax.legend()\n",
        "\n",
        "# Show the plot\n",
        "plt.grid(True)\n",
        "plt.show()\n"
      ]
    },
    {
      "cell_type": "markdown",
      "metadata": {
        "collapsed": false,
        "id": "37bd25"
      },
      "source": [
        "ผลลัพธ์จากการทดสอบสมมติฐาน (hypothesis test) ด้วยฟังก์ชัน ttest_1samp ที่ได้มามีรายละเอียดดังนี้:\n",
        "\n",
        "- `statistic`: ค่า t-statistic มีค่าเท่ากับ 30.08809997084933\n",
        "- `pvalue`: ค่า p-value มีค่าเท่ากับ 1.3289196468727879e-28 (หรือเขียนเป็นรูปแบบทางวิทยาศาสตร์เป็น 1.3289196468727879 x 10^(-28))\n",
        "- `df`: ค่าตรงกลาง (degrees of freedom) มีค่าเท่ากับ 39\n",
        "\n",
        "ดังนั้นการทดสอบสมมติฐานนี้มีผลสรุปดังนี้:\n",
        "\n",
        "- ค่า t-statistic มีค่ามากกว่า 0 (30.08809997084933) ซึ่งแสดงให้เห็นว่าค่าเฉลี่ยของข้อมูลตัวอย่างมีความแตกต่างจากค่าเฉลี่ยที่กำหนดในสมมติฐานศูนย์\n",
        "\n",
        "- ค่า p-value มีค่าน้อยกว่าระดับความน่าจะเป็นที่กำหนด (1.3289196468727879e-28 < 0.05) ซึ่งแสดงให้เห็นว่ามีความเป็นไปได้น้อยมากที่จะพบค่า t-statistic แบบนี้ หากสมมติฐานศูนย์เป็นความจริง\n",
        "\n",
        "ดังนั้น ผลการทดสอบสมมติฐานระบุว่าค่าเฉลี่ยของข้อมูลตัวอย่างแตกต่างจากค่าเฉลี่ยที่กำหนดในสมมติฐานศูนย์ และความแตกต่างนี้มีความน่าจะเป็นที่สูงมาก (p-value มีค่าน้อยมาก) ดังนั้นคุณสามารถปฏิเสธสมมติฐานศูนย์และสรุปว่ามีความแตกต่างค่าเฉลี่ยของข้อมูลตัวอย่างนี้ได้"
      ]
    },
    {
      "cell_type": "markdown",
      "metadata": {
        "collapsed": false,
        "id": "2f3d97"
      },
      "source": [
        "###### 2-sample t-test: testing for difference across populations"
      ]
    },
    {
      "cell_type": "markdown",
      "metadata": {
        "collapsed": false,
        "id": "6960ce"
      },
      "source": [
        " ฟังก์ชัน `stats.ttest_ind` ใช้ในการทดสอบสมมติฐานเพื่อหาค่า t-statistic และ p-value สำหรับการทดสอบความแตกต่างระหว่างค่าเฉลี่ยของสองกลุ่มข้อมูลตัวอย่าง (Independent Samples T-Test) โดยใช้ข้อมูลจากสองกลุ่มต่าง ๆ ซึ่งอยู่ในรูปแบบของตัวแปรตามมาตรฐาน (continuous variables)\n",
        "\n",
        "การใช้งาน `stats.ttest_ind` มีรูปแบบดังนี้:\n",
        "\n",
        "```python\n",
        "from scipy import stats\n",
        "\n",
        "t_statistic, p_value = stats.ttest_ind(group1, group2)\n",
        "```\n",
        "\n",
        "- `group1` และ `group2`: คือข้อมูลตัวอย่างจากกลุ่มที่คุณต้องการเปรียบเทียบ โดย `group1` และ `group2` ต้องเป็นลิสต์หรืออาร์เรย์ของข้อมูลตัวอย่างจากกลุ่มที่คุณต้องการเปรียบเทียบ\n",
        "\n",
        "ผลลัพธ์ที่คืนมาจาก `stats.ttest_ind` มีสองส่วนหลัก:\n",
        "\n",
        "- `t_statistic`: ค่า t-statistic ที่คำนวณจากข้อมูลตัวอย่างของกลุ่มทั้งสอง มันบ่งชี้ถึงความแตกต่างระหว่างค่าเฉลี่ยของกลุ่มต่าง ๆ\n",
        "\n",
        "- `p_value`: ค่า p-value คือความน่าจะเป็นในการสังเกตค่า t-statistic ที่คำนวณได้ ถ้า p-value มีค่าน้อยกว่าระดับความน่าจะเป็นที่กำหนด (โดยทั่วไปใช้ 0.05) คุณจะสามารถปฏิเสธสมมติฐานศูนย์ (null hypothesis) และสรุปว่ามีความแตกต่างระหว่างกลุ่ม\n",
        "\n",
        "การใช้ `stats.ttest_ind` ช่วยให้คุณสามารถทดสอบว่ามีความแตกต่างในค่าเฉลี่ยระหว่างสองกลุ่มข้อมูลตัวอย่างหรือไม่ โดยใช้การทดสอบ t-statistic และ p-value เป็นเครื่องมือสถิติที่มีประโยชน์ในการตัดสินใจทางสถิติในการวิเคราะห์ข้อมูล"
      ]
    },
    {
      "cell_type": "code",
      "execution_count": null,
      "metadata": {
        "id": "6f5b82"
      },
      "outputs": [],
      "source": [
        "df"
      ]
    },
    {
      "cell_type": "code",
      "execution_count": null,
      "metadata": {
        "id": "022e70"
      },
      "outputs": [],
      "source": [
        "female_viq = df[df['Gender'] == 'Female']['VIQ']\n",
        "male_viq = df[df['Gender'] == 'Male']['VIQ']\n",
        "stats.ttest_ind(female_viq, male_viq)\n"
      ]
    },
    {
      "cell_type": "code",
      "execution_count": null,
      "metadata": {
        "id": "e9e8e4"
      },
      "outputs": [],
      "source": [
        "import numpy as np\n",
        "import matplotlib.pyplot as plt\n",
        "import scipy.stats as stats\n",
        "\n",
        "# Given values\n",
        "t_statistic = -0.7726161723275012\n",
        "p_value = 0.44452876778583217\n",
        "\n",
        "# Degrees of freedom (you may need to specify this)\n",
        "dgf = 39  # You can change this value if you have a specific df\n",
        "\n",
        "# Generate x values for the t-distribution\n",
        "x = np.linspace(-5, 5, 1000)\n",
        "\n",
        "# Calculate the t-distribution probability density function (PDF)\n",
        "pdf = stats.t.pdf(x, dgf)\n",
        "\n",
        "# Create a figure and axis\n",
        "fig, ax = plt.subplots(figsize=(10, 6))\n",
        "\n",
        "# Plot the t-distribution\n",
        "ax.plot(x, pdf, label=f't-distribution (df={df})', color='blue')\n",
        "\n",
        "# Highlight the t-statistic with a vertical line\n",
        "ax.axvline(t_statistic, color='red', linestyle='--', label=f't-statistic = {t_statistic:.2f}')\n",
        "\n",
        "# Shade the area corresponding to the p-value\n",
        "if t_statistic < 0:\n",
        "    x_shaded = np.linspace(-5, t_statistic, 1000)\n",
        "else:\n",
        "    x_shaded = np.linspace(t_statistic, 5, 1000)\n",
        "\n",
        "\n",
        "pdf_shaded = stats.t.pdf(x_shaded, dgf)\n",
        "ax.fill_between(x_shaded, pdf_shaded, color='gray', alpha=0.5, label=f'p-value = {p_value:.2f}')\n",
        "\n",
        "# Add labels and legend\n",
        "ax.set_xlabel('t-statistic')\n",
        "ax.set_ylabel('Probability Density')\n",
        "ax.set_title('t-Distribution with t-statistic and p-value')\n",
        "#ax.legend();\n",
        "\n",
        "# Show the plot\n",
        "plt.grid(True)\n",
        "plt.show()\n"
      ]
    },
    {
      "cell_type": "code",
      "execution_count": null,
      "metadata": {
        "id": "00d6d2"
      },
      "outputs": [],
      "source": [
        "stats.t.cdf(t_statistic,dgf)*2"
      ]
    },
    {
      "cell_type": "markdown",
      "metadata": {
        "collapsed": false,
        "id": "12c654"
      },
      "source": [
        "ผลลัพธ์จากการทดสอบสมมติฐาน (hypothesis test) ด้วยฟังก์ชัน `stats.ttest_ind` ที่มีรายละเอียดดังนี้:\n",
        "\n",
        "- `statistic`: ค่า t-statistic มีค่าเท่ากับ -0.7726161723275012\n",
        "- `pvalue`: ค่า p-value มีค่าเท่ากับ 0.44452876778583217\n",
        "\n",
        "ดังนั้น ผลการทดสอบสมมติฐานระบุว่า:\n",
        "\n",
        "- ค่า t-statistic มีค่าน้อยกว่า 0 (-0.7726161723275012) แสดงให้เห็นว่าค่าเฉลี่ยของกลุ่มตัวอย่างสองกลุ่มนั้นมีความแตกต่างระหว่างกันทางสถิติที่ไม่มีนัยสำคัญ\n",
        "\n",
        "- ค่า p-value มีค่ามากกว่าระดับความน่าจะเป็นที่กำหนด (0.44452876778583217 > 0.05) ซึ่งแสดงให้เห็นว่ามีความน่าจะเป็นสูงมากที่จะไม่พบความแตกต่างค่าเฉลี่ยระหว่างกลุ่มตัวอย่างนี้ ดังนั้นคุณไม่สามารถปฏิเสธสมมติฐานศูนย์ (null hypothesis) และสรุปว่าไม่มีความแตกต่างระหว่างกลุ่ม\n",
        "\n",
        "ในที่นี้ค่า p-value มากกว่าระดับความน่าจะเป็นที่มักใช้ (0.05) ซึ่งหมายความว่าไม่มีหลักฐานทางสถิติที่มีนัยสำคัญที่จะรองรับการปฏิเสธสมมติฐานศูนย์ ดังนั้นคุณไม่สามารถสรุปได้ว่ามีความแตกต่างค่าเฉลี่ยระหว่างกลุ่ม"
      ]
    },
    {
      "cell_type": "markdown",
      "metadata": {
        "collapsed": false,
        "id": "1c1325"
      },
      "source": [
        "#### Paired tests: repeated measurements on the same individuals"
      ]
    },
    {
      "cell_type": "markdown",
      "metadata": {
        "collapsed": false,
        "id": "fe842b"
      },
      "source": [
        "การทดสอบแบบจับคู่ (paired tests) เป็นการทดสอบทางสถิติที่ใช้ในการเปรียบเทียบข้อมูลสองชุดที่เกี่ยวข้องกัน ซึ่งถูกเก็บมาจากบุคคลหรือกลุ่มเดียวกัน โดยมักใช้ในสถานการณ์ที่ต้องการหาความแตกต่างระหว่างข้อมูลสองชุดนี้\n",
        "\n",
        "สถานการณ์ที่ใช้การทดสอบแบบจับคู่ได้แก่\n",
        "\n",
        "1. การศึกษาก่อนและหลัง: เมื่อคุณวัดบุคคลหรือกลุ่มเดียวกันก่อนและหลังจากได้รับการรักษาหรือกระทำ คุณต้องการประเมินว่ามีผลกระทบอย่างมีนัยสำคัญหรือไม่\n",
        "2. การจับคู่: เมื่อคุณมีคู่ของบุคคลหรือกลุ่มที่จับคู่กันโดยอ้างอิงถึงลักษณะบางอย่าง (เช่น อายุ หรือเพศ) และคุณต้องการเปรียบเทียบตัวแปรสองตัวที่เกี่ยวข้องในแต่ละคู่\n",
        "3. การวัดซ้ำ: เมื่อคุณรวบรวมข้อมูลในกลุ่มบุคคลหรือกลุ่มเดียวกันในช่วงเวลาหลาย ๆ ครั้ง และคุณต้องการตรวจสอบว่ามีการเปลี่ยนแปลงที่มีนัยสำคัญ\n",
        "\n"
      ]
    },
    {
      "cell_type": "code",
      "execution_count": null,
      "metadata": {
        "id": "b10583"
      },
      "outputs": [],
      "source": [
        "stats.ttest_rel(df['FSIQ'], df['PIQ'])"
      ]
    },
    {
      "cell_type": "code",
      "execution_count": null,
      "metadata": {
        "id": "31981d"
      },
      "outputs": [],
      "source": [
        "import numpy as np\n",
        "import matplotlib.pyplot as plt\n",
        "import scipy.stats as stats\n",
        "\n",
        "# Given values\n",
        "t_statistic = 1.7842019405859857\n",
        "p_value = 0.08217263818364236\n",
        "dgf = 39\n",
        "\n",
        "# Generate x values for the t-distribution\n",
        "x = np.linspace(-5, 5, 1000)\n",
        "\n",
        "# Calculate the t-distribution probability density function (PDF)\n",
        "pdf = stats.t.pdf(x, dgf)\n",
        "\n",
        "# Create a figure and axis\n",
        "fig, ax = plt.subplots(figsize=(10, 6))\n",
        "\n",
        "# Plot the t-distribution\n",
        "ax.plot(x, pdf, label='t-distribution (df=39)', color='blue')\n",
        "\n",
        "# Highlight the t-statistic with a vertical line\n",
        "ax.axvline(t_statistic, color='red', linestyle='--', label=f't-statistic = {t_statistic:.2f}')\n",
        "\n",
        "# Shade the area corresponding to the p-value\n",
        "if t_statistic < 0:\n",
        "    x_shaded = np.linspace(-5, t_statistic, 1000)\n",
        "else:\n",
        "    x_shaded = np.linspace(t_statistic, 5, 1000)\n",
        "\n",
        "pdf_shaded = stats.t.pdf(x_shaded, dgf)\n",
        "ax.fill_between(x_shaded, pdf_shaded, color='gray', alpha=0.5, label=f'p-value = {p_value:.2f}')\n",
        "\n",
        "# Add labels and legend\n",
        "ax.set_xlabel('t-statistic')\n",
        "ax.set_ylabel('Probability Density')\n",
        "ax.set_title('t-Distribution with t-statistic and p-value')\n",
        "ax.legend()\n",
        "\n",
        "# Show the plot\n",
        "plt.grid(True)\n",
        "plt.show()\n"
      ]
    },
    {
      "cell_type": "code",
      "execution_count": null,
      "metadata": {
        "id": "2a0c3b"
      },
      "outputs": [],
      "source": [
        "(1 - stats.t.cdf(t_statistic,dgf))"
      ]
    },
    {
      "cell_type": "code",
      "execution_count": null,
      "metadata": {
        "id": "46d10d"
      },
      "outputs": [],
      "source": [
        "import pandas as pd\n",
        "import matplotlib.pyplot as plt\n",
        "\n",
        "# Create a new figure and axis\n",
        "fig, ax = plt.subplots()\n",
        "\n",
        "# Create a box plot of the 'serial' column in the pandas DataFrame\n",
        "df[['FSIQ','PIQ']].plot.box(ax=ax)\n",
        "# Add labels and title to the plot\n",
        "ax.set_xlabel('FSIQ - PIQ')\n",
        "ax.set_ylabel('Values')\n",
        "ax.set_title('Paired tests')\n",
        "\n",
        "# Display the plot\n",
        "plt.show()"
      ]
    },
    {
      "cell_type": "markdown",
      "metadata": {
        "collapsed": false,
        "id": "ba0d7c"
      },
      "source": [
        "คำสั่ง `stats.ttest_rel(df['FSIQ'], df['PIQ'])` เป็นคำสั่งในการดำเนินการทดสอบแบบจับคู่ (paired t-test) ระหว่างตัวแปร `FSIQ` และ `PIQ` โดย `df` เป็น DataFrame ที่บรรจุข้อมูลของทั้งสองตัวแปร\n",
        "\n",
        "ผลลัพธ์ที่ได้คือ:\n",
        "\n",
        "- `statistic`: ค่า t-statistic มีค่าเท่ากับ 1.7842019405859857\n",
        "- `pvalue`: ค่า p-value มีค่าเท่ากับ 0.08217263818364236\n",
        "- `df`: ค่าตรงกลาง (degrees of freedom) มีค่าเท่ากับ 39\n",
        "\n",
        "ดังนั้น ผลการทดสอบระบุว่ามีความแตกต่างระหว่างค่าเฉลี่ยของ `FSIQ` และ `PIQ` ที่ระดับความเสี่ยง 0.05 โดยมี t-statistic เท่ากับ 1.7842019405859857 และ p-value เท่ากับ 0.08217263818364236\n",
        "\n",
        "ค่า p-value นี้มากกว่า 0.05 ซึ่งแสดงให้เห็นว่าไม่สามารถปฏิเสธสมมติฐานศูนย์ (null hypothesis) ที่ระดับความเสี่ยง 0.05 ได้ ดังนั้น คุณอาจสรุปได้ว่าไม่มีความแตกต่างสถิติที่น่าสนใจระหว่าง `FSIQ` และ `PIQ` ณ ระดับความเสี่ยง 0.05 แต่ควรระมัดระวังว่าค่า p-value 0.08217263818364236 นั้นอาจยังแสดงให้เห็นความน่าจะเป็นสูงกว่าระดับความเสี่ยงที่คุณเลือกไว้เป็น 0.1 หรือระดับอื่น ๆ ที่ต้องการตรวจสอบเพิ่มเติม"
      ]
    },
    {
      "cell_type": "markdown",
      "metadata": {
        "collapsed": false,
        "id": "74ca9f"
      },
      "source": [
        "การทดสอบนี้จะให้ผลเท่ากับการทดสอบด้วย 1 sample t-test ดังนี้"
      ]
    },
    {
      "cell_type": "code",
      "execution_count": null,
      "metadata": {
        "id": "748d12"
      },
      "outputs": [],
      "source": [
        "stats.ttest_1samp(df['FSIQ'] - df['PIQ'], 0)"
      ]
    },
    {
      "cell_type": "code",
      "execution_count": null,
      "metadata": {
        "id": "83ee7f"
      },
      "outputs": [],
      "source": [
        "# Import the necessary libraries\n",
        "import pandas as pd\n",
        "import matplotlib.pyplot as plt\n",
        "\n",
        "# Create a new figure and axis\n",
        "fig, ax = plt.subplots()\n",
        "\n",
        "# Create a box plot of the 'serial' column in the pandas DataFrame\n",
        "(df['FSIQ'] - df['PIQ']).plot.box(ax=ax)\n",
        "\n",
        "# Add labels and title to the plot\n",
        "ax.set_xlabel('FSIQ - PIQ')\n",
        "ax.set_ylabel('Values')\n",
        "ax.set_title('Box Plot of One Sample Test')\n",
        "\n",
        "# Display the plot\n",
        "plt.show()"
      ]
    },
    {
      "cell_type": "code",
      "execution_count": null,
      "metadata": {
        "id": "3bbe79"
      },
      "outputs": [],
      "source": []
    },
    {
      "cell_type": "markdown",
      "metadata": {
        "collapsed": false,
        "id": "f7043f"
      },
      "source": [
        "### Ex 1\n",
        "จงทดสอบความแตกต่างระหว่าง PID และ  VID"
      ]
    },
    {
      "cell_type": "code",
      "execution_count": null,
      "metadata": {
        "id": "e10a53"
      },
      "outputs": [],
      "source": []
    },
    {
      "cell_type": "markdown",
      "metadata": {
        "collapsed": false,
        "id": "eb76e1"
      },
      "source": [
        "### Ex 2\n",
        "จงทดสอบความแตกต่างระหว่าง Weight ของเพศหญิงและชาย\n"
      ]
    },
    {
      "cell_type": "code",
      "execution_count": null,
      "metadata": {
        "id": "4f5493"
      },
      "outputs": [],
      "source": []
    }
  ],
  "metadata": {
    "kernelspec": {
      "argv": [
        "/usr/bin/python3",
        "-m",
        "ipykernel",
        "--HistoryManager.enabled=False",
        "--matplotlib=inline",
        "-c",
        "%config InlineBackend.figure_formats = set(['retina'])\nimport matplotlib; matplotlib.rcParams['figure.figsize'] = (12, 7)",
        "-f",
        "{connection_file}"
      ],
      "display_name": "Python 3 (system-wide)",
      "env": {},
      "language": "python",
      "metadata": {
        "cocalc": {
          "description": "Python 3 programming language",
          "priority": 100,
          "url": "https://www.python.org/"
        }
      },
      "name": "python3",
      "resource_dir": "/ext/jupyter/kernels/python3"
    },
    "language_info": {
      "codemirror_mode": {
        "name": "ipython",
        "version": 3
      },
      "file_extension": ".py",
      "mimetype": "text/x-python",
      "name": "python",
      "nbconvert_exporter": "python",
      "pygments_lexer": "ipython3",
      "version": "3.10.12"
    },
    "nbgrader": {
      "cocalc_minimal_stubs": false
    },
    "colab": {
      "provenance": [],
      "include_colab_link": true
    }
  },
  "nbformat": 4,
  "nbformat_minor": 0
}