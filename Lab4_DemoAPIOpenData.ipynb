{
  "nbformat": 4,
  "nbformat_minor": 0,
  "metadata": {
    "colab": {
      "provenance": [],
      "authorship_tag": "ABX9TyP2zwZHQmUE5nVOMbyfk0rj",
      "include_colab_link": true
    },
    "kernelspec": {
      "name": "python3",
      "display_name": "Python 3"
    },
    "language_info": {
      "name": "python"
    }
  },
  "cells": [
    {
      "cell_type": "markdown",
      "metadata": {
        "id": "view-in-github",
        "colab_type": "text"
      },
      "source": [
        "<a href=\"https://colab.research.google.com/github/toche7/DataAnalytic/blob/main/Lab4_DemoAPIOpenData.ipynb\" target=\"_parent\"><img src=\"https://colab.research.google.com/assets/colab-badge.svg\" alt=\"Open In Colab\"/></a>"
      ]
    },
    {
      "cell_type": "markdown",
      "source": [
        "## Add Thai Font for matplotlib\n"
      ],
      "metadata": {
        "id": "bw273CxLOzqs"
      }
    },
    {
      "cell_type": "code",
      "source": [
        "# Add Font for ploting graph with Thai Character\n",
        "!wget -q https://github.com/Phonbopit/sarabun-webfont/raw/master/fonts/thsarabunnew-webfont.ttf\n",
        "import matplotlib as mpl\n",
        "mpl.font_manager.fontManager.addfont('thsarabunnew-webfont.ttf')\n",
        "mpl.rc('font', family='TH Sarabun New', size = 12)"
      ],
      "metadata": {
        "id": "Jf_G-er0KPrk"
      },
      "execution_count": null,
      "outputs": []
    },
    {
      "cell_type": "markdown",
      "source": [
        "## Python Requests Module\n",
        "The requests library in Python is a widely used tool for making HTTP requests. It simplifies the process of sending various types of requests (GET, POST, PUT, DELETE, etc.) to web servers and handling the responses.\n",
        "\n",
        "```\n",
        "import requests\n",
        "\n",
        "x = requests.get('https://w3schools.com/python/demopage.htm')\n",
        "\n",
        "print(x.text)\n",
        "\n",
        "```"
      ],
      "metadata": {
        "id": "aEzejk8jONtt"
      }
    },
    {
      "cell_type": "code",
      "source": [
        "#=========VSCode=====================================================================\n",
        "# from dotenv import find_dotenv, load_dotenv\n",
        "# _ = load_dotenv(find_dotenv())\n",
        "# import os\n",
        "# secret_key = os.environ.get(\"GROQ_API_KEY\")\n",
        "#========google.colab================================================================\n",
        "from google.colab import userdata\n",
        "secret_key = userdata.get('OPENDATA_API_KEY')\n",
        "\n",
        "# Direct Input API Key\n",
        "#secret_key = \"XXXXXXXXXXXXX\"  # Replace with your actual API key"
      ],
      "metadata": {
        "id": "qgKDGg5xPLIz"
      },
      "execution_count": null,
      "outputs": []
    },
    {
      "cell_type": "code",
      "source": [
        "import pandas as pd"
      ],
      "metadata": {
        "id": "IoURiG4UKX95"
      },
      "execution_count": null,
      "outputs": []
    },
    {
      "cell_type": "code",
      "execution_count": null,
      "metadata": {
        "id": "dnMfroBMJjOS"
      },
      "outputs": [],
      "source": [
        "import requests\n",
        "\n",
        "url = \"https://opend.data.go.th/get-ckan/datastore_search\"\n",
        "\n",
        "#id = \"cdc792e8-21cd-4284-9a01-c2b0a1b02194\" # ผลิตไฟฟ้า\n",
        "#id = \"683ffbe5-3da5-403d-8403-f23a3cbadf6f\" # ผู้สูบบุหรี\n",
        "#id = \"10dec281-dbd1-4236-b64d-d70a7b739067\" # การรับรองมาตรฐานผลิตภันฑ์\n",
        "#id = \"dfd956da-505e-4a2a-939f-872b74a75936\"  # การผลิตเม็ดพันธ์ข้าว\n",
        "#id = \"c83a9137-7d21-4918-b2b5-b38769dc54eb\" # ข้อมูลการบาดเจ็บ จังหวัดนครสวรรค์\n",
        "id = 'aaecbe1a-965d-4acf-8851-5cd066e54814' # รถไฟฟ้า มีปัญหา  https://data.go.th/dataset/drt2566_03\n",
        "#id = '3693dd6d-21da-459a-9f67-b64e9d456af3' # ขนส่งทางราง\n",
        "#id = '24f1ac67-3b8f-4030-b4cb-aca1427278d8' # รายได้คนปลูกทุเรียน\n",
        "\n",
        "\n",
        "headers = {\n",
        "    \"api-key\": secret_key\n",
        "}\n",
        "\n",
        "params = {\n",
        "    \"resource_id\": id,\n",
        "    \"limit\": 1000,\n",
        "}\n",
        "\n",
        "response = requests.get(url, headers=headers, params=params)\n",
        "data = response.json()\n",
        "\n",
        "print(data['result']['records'])"
      ]
    },
    {
      "cell_type": "code",
      "source": [
        "df = pd.DataFrame(data['result']['records'])\n",
        "print(df.shape)\n",
        "display(df)"
      ],
      "metadata": {
        "id": "ipQJBHrHKUhs"
      },
      "execution_count": null,
      "outputs": []
    },
    {
      "cell_type": "code",
      "source": [
        "# prompt: aggregate Number_Accident, Delay,  Solving_Problem of  df by feature \"Line\"\n",
        "\n",
        "import pandas as pd\n",
        "# Ensure columns are numeric, coercing errors will turn non-numeric values into NaN\n",
        "df['Number_Accident'] = pd.to_numeric(df['Number_Accident'], errors='coerce')\n",
        "df['Delay'] = pd.to_numeric(df['Delay'], errors='coerce')\n",
        "df['Solving_Problem'] = pd.to_numeric(df['Solving_Problem'], errors='coerce')\n",
        "df['Traction_System'] = pd.to_numeric(df['Traction_System'], errors='coerce')\n",
        "df['Brake_System'] = pd.to_numeric(df['Brake_System'], errors='coerce')\n",
        "df['Electrification_System'] = pd.to_numeric(df['Electrification_System'], errors='coerce')\n",
        "\n",
        "\n",
        "\n",
        "# Aggregate the specified columns by 'Line'\n",
        "df_aggregated = df.groupby('Line')[['Number_Accident', 'Delay', 'Solving_Problem','Traction_System','Brake_System','Electrification_System']].sum()\n",
        "\n",
        "display(df_aggregated)"
      ],
      "metadata": {
        "id": "AJ13OWzbKdeO"
      },
      "execution_count": null,
      "outputs": []
    },
    {
      "cell_type": "code",
      "source": [
        "# prompt: plot bar chart compare Number_Accident each Line of Df which sort the Number_Accident as descendence\n",
        "\n",
        "import matplotlib.pyplot as plt\n",
        "\n",
        "# Sort the aggregated data by 'Number_Accident' in descending order\n",
        "df_sorted = df_aggregated.sort_values(by='Number_Accident', ascending=False)\n",
        "\n",
        "# Plot the bar chart\n",
        "plt.figure(figsize=(10, 6))\n",
        "df_sorted['Number_Accident'].plot(kind='bar')\n",
        "plt.title('Number of Accidents per Line')\n",
        "plt.xlabel('Line')\n",
        "plt.ylabel('Number of Accidents')\n",
        "plt.xticks(rotation=45, ha='right')\n",
        "plt.tight_layout()\n",
        "plt.show()"
      ],
      "metadata": {
        "id": "s6943t9ZK5J_"
      },
      "execution_count": null,
      "outputs": []
    },
    {
      "cell_type": "code",
      "source": [
        "# prompt: plot bar chart compare Number_Accident each Line of Df which sort the Number_Accident as descendence\n",
        "\n",
        "import matplotlib.pyplot as plt\n",
        "\n",
        "# Sort the aggregated data by 'Number_Accident' in descending order\n",
        "df_sorted = df_aggregated.sort_values(by='Delay', ascending=False)\n",
        "\n",
        "# Plot the bar chart\n",
        "plt.figure(figsize=(10, 6))\n",
        "df_sorted['Delay'].plot(kind='bar')\n",
        "plt.title('Delay per Line')\n",
        "plt.xlabel('Line')\n",
        "plt.ylabel('Delay')\n",
        "plt.xticks(rotation=45, ha='right')\n",
        "plt.tight_layout()\n",
        "plt.show()"
      ],
      "metadata": {
        "id": "XRGcccraQ26R"
      },
      "execution_count": null,
      "outputs": []
    }
  ]
}