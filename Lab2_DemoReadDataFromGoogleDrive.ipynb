{
  "nbformat": 4,
  "nbformat_minor": 0,
  "metadata": {
    "colab": {
      "provenance": [],
      "authorship_tag": "ABX9TyOcXXBtvkRarfFiC0QmITAm",
      "include_colab_link": true
    },
    "kernelspec": {
      "name": "python3",
      "display_name": "Python 3"
    },
    "language_info": {
      "name": "python"
    }
  },
  "cells": [
    {
      "cell_type": "markdown",
      "metadata": {
        "id": "view-in-github",
        "colab_type": "text"
      },
      "source": [
        "<a href=\"https://colab.research.google.com/github/toche7/DataAnalytic/blob/main/Lab2_DemoReadDataFromGoogleDrive.ipynb\" target=\"_parent\"><img src=\"https://colab.research.google.com/assets/colab-badge.svg\" alt=\"Open In Colab\"/></a>"
      ]
    },
    {
      "cell_type": "code",
      "execution_count": null,
      "metadata": {
        "id": "9ACKZrNiT0wI"
      },
      "outputs": [],
      "source": [
        "# prompt: Add google drive and then read file from the google drive from a specific path\n",
        "from google.colab import drive\n",
        "drive.mount('/content/drive')\n",
        "\n",
        "file_path = '/content/drive/MyDrive/DataDrTaweesakWebsite/DataSciforAll/DataSet/dataTrainAccident.csv'\n"
      ]
    },
    {
      "cell_type": "code",
      "source": [
        "import pandas as pd\n",
        "df = pd.read_csv(file_path)\n",
        "df.head()"
      ],
      "metadata": {
        "id": "MnFrubkVVIdQ"
      },
      "execution_count": null,
      "outputs": []
    },
    {
      "cell_type": "code",
      "source": [
        "# Add Font for ploting graph with Thai Character\n",
        "!wget -q https://github.com/Phonbopit/sarabun-webfont/raw/master/fonts/thsarabunnew-webfont.ttf\n",
        "import matplotlib as mpl\n",
        "mpl.font_manager.fontManager.addfont('thsarabunnew-webfont.ttf')\n",
        "mpl.rc('font', family='TH Sarabun New', size = 12)"
      ],
      "metadata": {
        "id": "pI3ZDs4EVdqQ"
      },
      "execution_count": null,
      "outputs": []
    },
    {
      "cell_type": "code",
      "source": [
        "# prompt: aggregate Number_Accident, Delay,  Solving_Problem of  df by feature \"Line\"\n",
        "\n",
        "import pandas as pd\n",
        "# Ensure columns are numeric, coercing errors will turn non-numeric values into NaN\n",
        "df['Number_Accident'] = pd.to_numeric(df['Number_Accident'], errors='coerce')\n",
        "df['Delay'] = pd.to_numeric(df['Delay'], errors='coerce')\n",
        "df['Solving_Problem'] = pd.to_numeric(df['Solving_Problem'], errors='coerce')\n",
        "df['Traction_System'] = pd.to_numeric(df['Traction_System'], errors='coerce')\n",
        "df['Brake_System'] = pd.to_numeric(df['Brake_System'], errors='coerce')\n",
        "df['Electrification_System'] = pd.to_numeric(df['Electrification_System'], errors='coerce')\n",
        "\n",
        "\n",
        "\n",
        "# Aggregate the specified columns by 'Line'\n",
        "df_aggregated = df.groupby('Line')[['Number_Accident', 'Delay', 'Solving_Problem','Traction_System','Brake_System','Electrification_System']].sum()\n",
        "\n",
        "display(df_aggregated)"
      ],
      "metadata": {
        "id": "TFc4HAmjVlht"
      },
      "execution_count": null,
      "outputs": []
    },
    {
      "cell_type": "code",
      "source": [
        "# prompt: plot bar chart compare Number_Accident each Line of Df which sort the Number_Accident as descendence\n",
        "\n",
        "import matplotlib.pyplot as plt\n",
        "\n",
        "# Sort the aggregated data by 'Number_Accident' in descending order\n",
        "df_sorted = df_aggregated.sort_values(by='Number_Accident', ascending=False)\n",
        "\n",
        "# Plot the bar chart\n",
        "plt.figure(figsize=(10, 6))\n",
        "df_sorted['Number_Accident'].plot(kind='bar')\n",
        "plt.title('Number of Accidents per Line')\n",
        "plt.xlabel('Line')\n",
        "plt.ylabel('Number of Accidents')\n",
        "plt.xticks(rotation=45, ha='right')\n",
        "plt.tight_layout()\n",
        "plt.show()"
      ],
      "metadata": {
        "id": "cbPLg-6WVrJJ"
      },
      "execution_count": null,
      "outputs": []
    }
  ]
}